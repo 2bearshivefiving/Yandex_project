{
 "cells": [
  {
   "cell_type": "markdown",
   "metadata": {},
   "source": [
    "# Определение стоимости автомобилей"
   ]
  },
  {
   "cell_type": "markdown",
   "metadata": {},
   "source": [
    "Сервис по продаже автомобилей с пробегом «Не бит, не крашен» разрабатывает приложение для привлечения новых клиентов. В нём можно быстро узнать рыночную стоимость своего автомобиля. В вашем распоряжении исторические данные: технические характеристики, комплектации и цены автомобилей. Вам нужно построить модель для определения стоимости. \n",
    "\n",
    "Заказчику важны:\n",
    "\n",
    "- качество предсказания;\n",
    "- скорость предсказания;\n",
    "- время обучения."
   ]
  },
  {
   "cell_type": "markdown",
   "metadata": {},
   "source": [
    "## Подготовка данных"
   ]
  },
  {
   "cell_type": "code",
   "execution_count": 1,
   "metadata": {},
   "outputs": [
    {
     "name": "stdout",
     "output_type": "stream",
     "text": [
      "Requirement already satisfied: lightgbm in /opt/conda/lib/python3.9/site-packages (3.3.1)\r\n",
      "Requirement already satisfied: numpy in /opt/conda/lib/python3.9/site-packages (from lightgbm) (1.21.1)\r\n",
      "Requirement already satisfied: scikit-learn!=0.22.0 in /opt/conda/lib/python3.9/site-packages (from lightgbm) (0.24.1)\r\n",
      "Requirement already satisfied: wheel in /opt/conda/lib/python3.9/site-packages (from lightgbm) (0.36.2)\r\n",
      "Requirement already satisfied: scipy in /opt/conda/lib/python3.9/site-packages (from lightgbm) (1.9.1)\r\n",
      "Requirement already satisfied: threadpoolctl>=2.0.0 in /opt/conda/lib/python3.9/site-packages (from scikit-learn!=0.22.0->lightgbm) (3.1.0)\r\n",
      "Requirement already satisfied: joblib>=0.11 in /opt/conda/lib/python3.9/site-packages (from scikit-learn!=0.22.0->lightgbm) (1.1.0)\r\n"
     ]
    }
   ],
   "source": [
    "! pip install lightgbm"
   ]
  },
  {
   "cell_type": "code",
   "execution_count": 2,
   "metadata": {},
   "outputs": [],
   "source": [
    "import numpy as np\n",
    "import pandas as pd\n",
    "import seaborn as sns\n",
    "\n",
    "import matplotlib.pyplot as plt\n",
    "\n",
    "from sklearn.preprocessing import StandardScaler\n",
    "\n",
    "from sklearn.model_selection import train_test_split\n",
    "from sklearn.model_selection import cross_val_score, GridSearchCV\n",
    "from sklearn.linear_model import LinearRegression\n",
    "from sklearn.ensemble import RandomForestRegressor, GradientBoostingRegressor\n",
    "from sklearn.dummy import DummyRegressor\n",
    "from lightgbm import LGBMRegressor\n",
    "from sklearn.metrics import mean_squared_error, make_scorer"
   ]
  },
  {
   "cell_type": "code",
   "execution_count": 3,
   "metadata": {},
   "outputs": [],
   "source": [
    "data = pd.read_csv('/autos.csv')"
   ]
  },
  {
   "cell_type": "code",
   "execution_count": 4,
   "metadata": {},
   "outputs": [
    {
     "name": "stdout",
     "output_type": "stream",
     "text": [
      "<class 'pandas.core.frame.DataFrame'>\n",
      "RangeIndex: 354369 entries, 0 to 354368\n",
      "Data columns (total 16 columns):\n",
      " #   Column             Non-Null Count   Dtype \n",
      "---  ------             --------------   ----- \n",
      " 0   DateCrawled        354369 non-null  object\n",
      " 1   Price              354369 non-null  int64 \n",
      " 2   VehicleType        316879 non-null  object\n",
      " 3   RegistrationYear   354369 non-null  int64 \n",
      " 4   Gearbox            334536 non-null  object\n",
      " 5   Power              354369 non-null  int64 \n",
      " 6   Model              334664 non-null  object\n",
      " 7   Kilometer          354369 non-null  int64 \n",
      " 8   RegistrationMonth  354369 non-null  int64 \n",
      " 9   FuelType           321474 non-null  object\n",
      " 10  Brand              354369 non-null  object\n",
      " 11  Repaired           283215 non-null  object\n",
      " 12  DateCreated        354369 non-null  object\n",
      " 13  NumberOfPictures   354369 non-null  int64 \n",
      " 14  PostalCode         354369 non-null  int64 \n",
      " 15  LastSeen           354369 non-null  object\n",
      "dtypes: int64(7), object(9)\n",
      "memory usage: 43.3+ MB\n"
     ]
    }
   ],
   "source": [
    "data.info()"
   ]
  },
  {
   "cell_type": "code",
   "execution_count": null,
   "metadata": {},
   "outputs": [],
   "source": [
    "data.head()"
   ]
  },
  {
   "cell_type": "code",
   "execution_count": 5,
   "metadata": {},
   "outputs": [
    {
     "data": {
      "text/html": [
       "<div>\n",
       "<style scoped>\n",
       "    .dataframe tbody tr th:only-of-type {\n",
       "        vertical-align: middle;\n",
       "    }\n",
       "\n",
       "    .dataframe tbody tr th {\n",
       "        vertical-align: top;\n",
       "    }\n",
       "\n",
       "    .dataframe thead th {\n",
       "        text-align: right;\n",
       "    }\n",
       "</style>\n",
       "<table border=\"1\" class=\"dataframe\">\n",
       "  <thead>\n",
       "    <tr style=\"text-align: right;\">\n",
       "      <th></th>\n",
       "      <th>Price</th>\n",
       "      <th>RegistrationYear</th>\n",
       "      <th>Power</th>\n",
       "      <th>Kilometer</th>\n",
       "      <th>RegistrationMonth</th>\n",
       "      <th>NumberOfPictures</th>\n",
       "      <th>PostalCode</th>\n",
       "    </tr>\n",
       "  </thead>\n",
       "  <tbody>\n",
       "    <tr>\n",
       "      <th>count</th>\n",
       "      <td>354369.000000</td>\n",
       "      <td>354369.000000</td>\n",
       "      <td>354369.000000</td>\n",
       "      <td>354369.000000</td>\n",
       "      <td>354369.000000</td>\n",
       "      <td>354369.0</td>\n",
       "      <td>354369.000000</td>\n",
       "    </tr>\n",
       "    <tr>\n",
       "      <th>mean</th>\n",
       "      <td>4416.656776</td>\n",
       "      <td>2004.234448</td>\n",
       "      <td>110.094337</td>\n",
       "      <td>128211.172535</td>\n",
       "      <td>5.714645</td>\n",
       "      <td>0.0</td>\n",
       "      <td>50508.689087</td>\n",
       "    </tr>\n",
       "    <tr>\n",
       "      <th>std</th>\n",
       "      <td>4514.158514</td>\n",
       "      <td>90.227958</td>\n",
       "      <td>189.850405</td>\n",
       "      <td>37905.341530</td>\n",
       "      <td>3.726421</td>\n",
       "      <td>0.0</td>\n",
       "      <td>25783.096248</td>\n",
       "    </tr>\n",
       "    <tr>\n",
       "      <th>min</th>\n",
       "      <td>0.000000</td>\n",
       "      <td>1000.000000</td>\n",
       "      <td>0.000000</td>\n",
       "      <td>5000.000000</td>\n",
       "      <td>0.000000</td>\n",
       "      <td>0.0</td>\n",
       "      <td>1067.000000</td>\n",
       "    </tr>\n",
       "    <tr>\n",
       "      <th>25%</th>\n",
       "      <td>1050.000000</td>\n",
       "      <td>1999.000000</td>\n",
       "      <td>69.000000</td>\n",
       "      <td>125000.000000</td>\n",
       "      <td>3.000000</td>\n",
       "      <td>0.0</td>\n",
       "      <td>30165.000000</td>\n",
       "    </tr>\n",
       "    <tr>\n",
       "      <th>50%</th>\n",
       "      <td>2700.000000</td>\n",
       "      <td>2003.000000</td>\n",
       "      <td>105.000000</td>\n",
       "      <td>150000.000000</td>\n",
       "      <td>6.000000</td>\n",
       "      <td>0.0</td>\n",
       "      <td>49413.000000</td>\n",
       "    </tr>\n",
       "    <tr>\n",
       "      <th>75%</th>\n",
       "      <td>6400.000000</td>\n",
       "      <td>2008.000000</td>\n",
       "      <td>143.000000</td>\n",
       "      <td>150000.000000</td>\n",
       "      <td>9.000000</td>\n",
       "      <td>0.0</td>\n",
       "      <td>71083.000000</td>\n",
       "    </tr>\n",
       "    <tr>\n",
       "      <th>max</th>\n",
       "      <td>20000.000000</td>\n",
       "      <td>9999.000000</td>\n",
       "      <td>20000.000000</td>\n",
       "      <td>150000.000000</td>\n",
       "      <td>12.000000</td>\n",
       "      <td>0.0</td>\n",
       "      <td>99998.000000</td>\n",
       "    </tr>\n",
       "  </tbody>\n",
       "</table>\n",
       "</div>"
      ],
      "text/plain": [
       "               Price  RegistrationYear          Power      Kilometer  \\\n",
       "count  354369.000000     354369.000000  354369.000000  354369.000000   \n",
       "mean     4416.656776       2004.234448     110.094337  128211.172535   \n",
       "std      4514.158514         90.227958     189.850405   37905.341530   \n",
       "min         0.000000       1000.000000       0.000000    5000.000000   \n",
       "25%      1050.000000       1999.000000      69.000000  125000.000000   \n",
       "50%      2700.000000       2003.000000     105.000000  150000.000000   \n",
       "75%      6400.000000       2008.000000     143.000000  150000.000000   \n",
       "max     20000.000000       9999.000000   20000.000000  150000.000000   \n",
       "\n",
       "       RegistrationMonth  NumberOfPictures     PostalCode  \n",
       "count      354369.000000          354369.0  354369.000000  \n",
       "mean            5.714645               0.0   50508.689087  \n",
       "std             3.726421               0.0   25783.096248  \n",
       "min             0.000000               0.0    1067.000000  \n",
       "25%             3.000000               0.0   30165.000000  \n",
       "50%             6.000000               0.0   49413.000000  \n",
       "75%             9.000000               0.0   71083.000000  \n",
       "max            12.000000               0.0   99998.000000  "
      ]
     },
     "execution_count": 5,
     "metadata": {},
     "output_type": "execute_result"
    }
   ],
   "source": [
    "data.describe()"
   ]
  },
  {
   "cell_type": "markdown",
   "metadata": {},
   "source": [
    "DataFrame содержит 354369 обекта и 15 признаков, как с типом object и int, в ряде признаков с типом object имеются пропуски."
   ]
  },
  {
   "cell_type": "code",
   "execution_count": 7,
   "metadata": {},
   "outputs": [],
   "source": [
    "data.DateCrawled = pd.to_datetime(data['DateCrawled'], format='%Y-%m-%d %H:%M:%S')\n",
    "data.LastSeen = pd.to_datetime(data['LastSeen'], format='%Y-%m-%d %H:%M:%S')\n",
    "data.DateCreated = pd.to_datetime(data['DateCreated'], format='%Y-%m-%d')"
   ]
  },
  {
   "cell_type": "code",
   "execution_count": null,
   "metadata": {},
   "outputs": [],
   "source": [
    "for c in [column for column in list(data.columns) if data[column].dtype == object]:\n",
    "    print(c, ':', data[c].unique())\n",
    "    print()"
   ]
  },
  {
   "cell_type": "code",
   "execution_count": 9,
   "metadata": {},
   "outputs": [
    {
     "data": {
      "image/png": "[encoded data removed]",
      "text/plain": [
       "<Figure size 1008x504 with 1 Axes>"
      ]
     },
     "metadata": {
      "needs_background": "light"
     },
     "output_type": "display_data"
    }
   ],
   "source": [
    "plt.subplots(figsize=(14, 7))\n",
    "sns.heatmap(data.isnull(), cbar = False)\n",
    "plt.title('Расположение пропусков в DataFrame')\n",
    "plt.show()"
   ]
  },
  {
   "cell_type": "markdown",
   "metadata": {},
   "source": [
    "Часть пропусков колонок 'VehicleType', 'Gearbox' можно востановить из признака Model, однако число востановленных таким способом объектов незначительно (не более 15), пропуски в 'Model', 'FuelType' востановить не удастся, поэтому удалим объекты с пропусками в этих колонках. Пропуски в признаке Repaired можно заменить на значение 'no_info' так как такая информация может отсутствовать (либо удалить весь признак)."
   ]
  },
  {
   "cell_type": "code",
   "execution_count": 11,
   "metadata": {},
   "outputs": [],
   "source": [
    "data = data.dropna(subset=['Model', 'VehicleType', 'Gearbox', 'FuelType'])\n",
    "data.Repaired = data['Repaired'].fillna('no_info')"
   ]
  },
  {
   "cell_type": "code",
   "execution_count": 12,
   "metadata": {},
   "outputs": [
    {
     "data": {
      "image/png": "[encoded data removed]",
      "text/plain": [
       "<Figure size 1008x504 with 3 Axes>"
      ]
     },
     "metadata": {},
     "output_type": "display_data"
    }
   ],
   "source": [
    "sns.set(rc={'figure.figsize':(14,7)})\n",
    "\n",
    "plt.subplot(1, 3, 1)\n",
    "sns.boxplot(data=data.query('Price != 0'), y='Price')\n",
    "plt.ylabel('Евро')\n",
    "plt.title(\"Price\")\n",
    "\n",
    "plt.subplot(1, 3, 2)\n",
    "sns.boxplot(data=data.query('RegistrationYear != 0 and RegistrationYear < 2023'), y='RegistrationYear', color='orange')\n",
    "plt.ylabel('годы')\n",
    "plt.title(\"RegistrationYear\")\n",
    "\n",
    "plt.subplot(1, 3, 3)\n",
    "sns.boxplot(data = data.query('Power != 0 and Power <= 1500'), y='Power', color='green')\n",
    "plt.ylabel('л.с.')\n",
    "plt.title(\"Power\")\n",
    "\n",
    "plt.show()"
   ]
  },
  {
   "cell_type": "code",
   "execution_count": 13,
   "metadata": {},
   "outputs": [
    {
     "data": {
      "image/png": "[encoded data removed]",
      "text/plain": [
       "<Figure size 1008x504 with 1 Axes>"
      ]
     },
     "metadata": {},
     "output_type": "display_data"
    }
   ],
   "source": [
    "sns.kdeplot(data['Price'], label = 'Price', alpha = .7, shade = True)\n",
    "#sns.kdeplot(data['Power'], label = 'Power', alpha = .3, shade = True)\n",
    "plt.xlim([0,2000])\n",
    "\n",
    "plt.legend(loc = 'upper right', fontsize = 'x-large')\n",
    "\n",
    "plt.show()"
   ]
  },
  {
   "cell_type": "code",
   "execution_count": 14,
   "metadata": {},
   "outputs": [
    {
     "data": {
      "image/png": "[encoded data removed]",
      "text/plain": [
       "<Figure size 1008x504 with 2 Axes>"
      ]
     },
     "metadata": {},
     "output_type": "display_data"
    }
   ],
   "source": [
    "plt.subplots(figsize=(14, 7))\n",
    "sns.heatmap(data.corr())\n",
    "plt.title('Кореляция признаков')\n",
    "plt.show()"
   ]
  },
  {
   "cell_type": "markdown",
   "metadata": {},
   "source": [
    "Удалим признаки не влияющие на цену, а так же отсечем нехарактерные значения оставшихся признаков."
   ]
  },
  {
   "cell_type": "code",
   "execution_count": 15,
   "metadata": {},
   "outputs": [],
   "source": [
    "data = data.query(\n",
    "   'Price > 100 and 2016 > RegistrationYear >= 1980 and 600 >= Power >= 10').drop(\n",
    "    ['DateCrawled', 'RegistrationMonth', 'DateCreated', 'NumberOfPictures', 'PostalCode', 'LastSeen'], axis = 1)"
   ]
  },
  {
   "cell_type": "code",
   "execution_count": 16,
   "metadata": {},
   "outputs": [
    {
     "data": {
      "text/plain": [
       "37529"
      ]
     },
     "execution_count": 16,
     "metadata": {},
     "output_type": "execute_result"
    }
   ],
   "source": [
    "data.duplicated().sum()"
   ]
  },
  {
   "cell_type": "code",
   "execution_count": 17,
   "metadata": {},
   "outputs": [],
   "source": [
    "data = data.drop_duplicates()"
   ]
  },
  {
   "cell_type": "code",
   "execution_count": 18,
   "metadata": {},
   "outputs": [
    {
     "name": "stdout",
     "output_type": "stream",
     "text": [
      "<class 'pandas.core.frame.DataFrame'>\n",
      "Int64Index: 223225 entries, 2 to 354368\n",
      "Data columns (total 10 columns):\n",
      " #   Column            Non-Null Count   Dtype \n",
      "---  ------            --------------   ----- \n",
      " 0   Price             223225 non-null  int64 \n",
      " 1   VehicleType       223225 non-null  object\n",
      " 2   RegistrationYear  223225 non-null  int64 \n",
      " 3   Gearbox           223225 non-null  object\n",
      " 4   Power             223225 non-null  int64 \n",
      " 5   Model             223225 non-null  object\n",
      " 6   Kilometer         223225 non-null  int64 \n",
      " 7   FuelType          223225 non-null  object\n",
      " 8   Brand             223225 non-null  object\n",
      " 9   Repaired          223225 non-null  object\n",
      "dtypes: int64(4), object(6)\n",
      "memory usage: 18.7+ MB\n"
     ]
    }
   ],
   "source": [
    "data.info()"
   ]
  },
  {
   "cell_type": "code",
   "execution_count": 19,
   "metadata": {},
   "outputs": [
    {
     "data": {
      "text/html": [
       "<div>\n",
       "<style scoped>\n",
       "    .dataframe tbody tr th:only-of-type {\n",
       "        vertical-align: middle;\n",
       "    }\n",
       "\n",
       "    .dataframe tbody tr th {\n",
       "        vertical-align: top;\n",
       "    }\n",
       "\n",
       "    .dataframe thead th {\n",
       "        text-align: right;\n",
       "    }\n",
       "</style>\n",
       "<table border=\"1\" class=\"dataframe\">\n",
       "  <thead>\n",
       "    <tr style=\"text-align: right;\">\n",
       "      <th></th>\n",
       "      <th>Price</th>\n",
       "      <th>RegistrationYear</th>\n",
       "      <th>Power</th>\n",
       "      <th>Kilometer</th>\n",
       "    </tr>\n",
       "  </thead>\n",
       "  <tbody>\n",
       "    <tr>\n",
       "      <th>count</th>\n",
       "      <td>223225.000000</td>\n",
       "      <td>223225.000000</td>\n",
       "      <td>223225.000000</td>\n",
       "      <td>223225.000000</td>\n",
       "    </tr>\n",
       "    <tr>\n",
       "      <th>mean</th>\n",
       "      <td>5193.744899</td>\n",
       "      <td>2003.096002</td>\n",
       "      <td>123.356277</td>\n",
       "      <td>126939.590100</td>\n",
       "    </tr>\n",
       "    <tr>\n",
       "      <th>std</th>\n",
       "      <td>4707.644782</td>\n",
       "      <td>5.680268</td>\n",
       "      <td>53.675581</td>\n",
       "      <td>37157.131155</td>\n",
       "    </tr>\n",
       "    <tr>\n",
       "      <th>min</th>\n",
       "      <td>101.000000</td>\n",
       "      <td>1980.000000</td>\n",
       "      <td>10.000000</td>\n",
       "      <td>5000.000000</td>\n",
       "    </tr>\n",
       "    <tr>\n",
       "      <th>25%</th>\n",
       "      <td>1500.000000</td>\n",
       "      <td>1999.000000</td>\n",
       "      <td>83.000000</td>\n",
       "      <td>125000.000000</td>\n",
       "    </tr>\n",
       "    <tr>\n",
       "      <th>50%</th>\n",
       "      <td>3500.000000</td>\n",
       "      <td>2003.000000</td>\n",
       "      <td>116.000000</td>\n",
       "      <td>150000.000000</td>\n",
       "    </tr>\n",
       "    <tr>\n",
       "      <th>75%</th>\n",
       "      <td>7500.000000</td>\n",
       "      <td>2007.000000</td>\n",
       "      <td>150.000000</td>\n",
       "      <td>150000.000000</td>\n",
       "    </tr>\n",
       "    <tr>\n",
       "      <th>max</th>\n",
       "      <td>20000.000000</td>\n",
       "      <td>2015.000000</td>\n",
       "      <td>600.000000</td>\n",
       "      <td>150000.000000</td>\n",
       "    </tr>\n",
       "  </tbody>\n",
       "</table>\n",
       "</div>"
      ],
      "text/plain": [
       "               Price  RegistrationYear          Power      Kilometer\n",
       "count  223225.000000     223225.000000  223225.000000  223225.000000\n",
       "mean     5193.744899       2003.096002     123.356277  126939.590100\n",
       "std      4707.644782          5.680268      53.675581   37157.131155\n",
       "min       101.000000       1980.000000      10.000000    5000.000000\n",
       "25%      1500.000000       1999.000000      83.000000  125000.000000\n",
       "50%      3500.000000       2003.000000     116.000000  150000.000000\n",
       "75%      7500.000000       2007.000000     150.000000  150000.000000\n",
       "max     20000.000000       2015.000000     600.000000  150000.000000"
      ]
     },
     "execution_count": 19,
     "metadata": {},
     "output_type": "execute_result"
    }
   ],
   "source": [
    "data.describe()"
   ]
  },
  {
   "cell_type": "markdown",
   "metadata": {},
   "source": [
    "## Обучение моделей"
   ]
  },
  {
   "cell_type": "markdown",
   "metadata": {},
   "source": [
    "Разобьем выборку на target и features, целевой признак - 'Price'."
   ]
  },
  {
   "cell_type": "code",
   "execution_count": 20,
   "metadata": {},
   "outputs": [],
   "source": [
    "target = data['Price']\n",
    "features = data.drop(['Price'], axis = 1)"
   ]
  },
  {
   "cell_type": "markdown",
   "metadata": {},
   "source": [
    "Разделим выборку на тестовую и тренировочную, валидационную получим крос валидацией"
   ]
  },
  {
   "cell_type": "code",
   "execution_count": 28,
   "metadata": {},
   "outputs": [],
   "source": [
    "features_train, features_test, target_train, target_test = train_test_split(\n",
    "   features, target, test_size=.2, random_state=12345)"
   ]
  },
  {
   "cell_type": "markdown",
   "metadata": {},
   "source": [
    "Оценку будем производить метрикой RMSE."
   ]
  },
  {
   "cell_type": "code",
   "execution_count": 29,
   "metadata": {},
   "outputs": [],
   "source": [
    "def RMSE(target, predicted):\n",
    "    return mean_squared_error(target, predicted) ** .5\n",
    "scorer = make_scorer(RMSE, greater_is_better = False)"
   ]
  },
  {
   "cell_type": "code",
   "execution_count": 30,
   "metadata": {},
   "outputs": [
    {
     "name": "stderr",
     "output_type": "stream",
     "text": [
      "/tmp/ipykernel_31/610732730.py:4: SettingWithCopyWarning: \n",
      "A value is trying to be set on a copy of a slice from a DataFrame.\n",
      "Try using .loc[row_indexer,col_indexer] = value instead\n",
      "\n",
      "See the caveats in the documentation: https://pandas.pydata.org/pandas-docs/stable/user_guide/indexing.html#returning-a-view-versus-a-copy\n",
      "  features_train[numeric] = scaler.transform(features_train[numeric])\n",
      "/opt/conda/lib/python3.9/site-packages/pandas/core/indexing.py:1738: SettingWithCopyWarning: \n",
      "A value is trying to be set on a copy of a slice from a DataFrame.\n",
      "Try using .loc[row_indexer,col_indexer] = value instead\n",
      "\n",
      "See the caveats in the documentation: https://pandas.pydata.org/pandas-docs/stable/user_guide/indexing.html#returning-a-view-versus-a-copy\n",
      "  self._setitem_single_column(loc, value[:, i].tolist(), pi)\n",
      "/tmp/ipykernel_31/610732730.py:5: SettingWithCopyWarning: \n",
      "A value is trying to be set on a copy of a slice from a DataFrame.\n",
      "Try using .loc[row_indexer,col_indexer] = value instead\n",
      "\n",
      "See the caveats in the documentation: https://pandas.pydata.org/pandas-docs/stable/user_guide/indexing.html#returning-a-view-versus-a-copy\n",
      "  features_test[numeric] = scaler.transform(features_test[numeric])\n",
      "/opt/conda/lib/python3.9/site-packages/pandas/core/indexing.py:1738: SettingWithCopyWarning: \n",
      "A value is trying to be set on a copy of a slice from a DataFrame.\n",
      "Try using .loc[row_indexer,col_indexer] = value instead\n",
      "\n",
      "See the caveats in the documentation: https://pandas.pydata.org/pandas-docs/stable/user_guide/indexing.html#returning-a-view-versus-a-copy\n",
      "  self._setitem_single_column(loc, value[:, i].tolist(), pi)\n"
     ]
    }
   ],
   "source": [
    "numeric = ['RegistrationYear', 'Power', 'Kilometer']\n",
    "scaler = StandardScaler()\n",
    "scaler.fit(features_train[numeric]) \n",
    "features_train[numeric] = scaler.transform(features_train[numeric]) \n",
    "features_test[numeric] = scaler.transform(features_test[numeric])"
   ]
  },
  {
   "cell_type": "markdown",
   "metadata": {},
   "source": [
    "Найдем лучшую модель."
   ]
  },
  {
   "cell_type": "code",
   "execution_count": 25,
   "metadata": {},
   "outputs": [],
   "source": [
    "parametrs = {'n_estimators': range(10, 51, 10),\n",
    "            'max_depth': range(1,11,1)}"
   ]
  },
  {
   "cell_type": "code",
   "execution_count": 26,
   "metadata": {},
   "outputs": [
    {
     "name": "stdout",
     "output_type": "stream",
     "text": [
      "Fitting 5 folds for each of 50 candidates, totalling 250 fits\n",
      "[CV] END .......................max_depth=1, n_estimators=10; total time=   6.0s\n",
      "[CV] END .......................max_depth=1, n_estimators=10; total time=   6.1s\n",
      "[CV] END .......................max_depth=1, n_estimators=10; total time=   6.1s\n",
      "[CV] END .......................max_depth=1, n_estimators=10; total time=   6.2s\n",
      "[CV] END .......................max_depth=1, n_estimators=10; total time=   6.3s\n",
      "[CV] END .......................max_depth=1, n_estimators=20; total time=   8.8s\n",
      "[CV] END .......................max_depth=1, n_estimators=20; total time=   8.8s\n",
      "[CV] END .......................max_depth=1, n_estimators=20; total time=   8.8s\n",
      "[CV] END .......................max_depth=1, n_estimators=20; total time=   8.5s\n",
      "[CV] END .......................max_depth=1, n_estimators=20; total time=   8.7s\n",
      "[CV] END .......................max_depth=1, n_estimators=30; total time=  11.1s\n",
      "[CV] END .......................max_depth=1, n_estimators=30; total time=  12.2s\n",
      "[CV] END .......................max_depth=1, n_estimators=30; total time=  11.2s\n",
      "[CV] END .......................max_depth=1, n_estimators=30; total time=  11.2s\n",
      "[CV] END .......................max_depth=1, n_estimators=30; total time=  12.0s\n",
      "[CV] END .......................max_depth=1, n_estimators=40; total time=  13.9s\n",
      "[CV] END .......................max_depth=1, n_estimators=40; total time=  12.5s\n",
      "[CV] END .......................max_depth=1, n_estimators=40; total time=  14.4s\n",
      "[CV] END .......................max_depth=1, n_estimators=40; total time=  14.2s\n",
      "[CV] END .......................max_depth=1, n_estimators=40; total time=  14.2s\n",
      "[CV] END .......................max_depth=1, n_estimators=50; total time=  16.1s\n",
      "[CV] END .......................max_depth=1, n_estimators=50; total time=  16.4s\n",
      "[CV] END .......................max_depth=1, n_estimators=50; total time=  17.0s\n",
      "[CV] END .......................max_depth=1, n_estimators=50; total time=  16.1s\n",
      "[CV] END .......................max_depth=1, n_estimators=50; total time=  17.3s\n",
      "[CV] END .......................max_depth=2, n_estimators=10; total time=   8.8s\n",
      "[CV] END .......................max_depth=2, n_estimators=10; total time=   8.0s\n",
      "[CV] END .......................max_depth=2, n_estimators=10; total time=   8.8s\n",
      "[CV] END .......................max_depth=2, n_estimators=10; total time=   8.1s\n",
      "[CV] END .......................max_depth=2, n_estimators=10; total time=   8.1s\n",
      "[CV] END .......................max_depth=2, n_estimators=20; total time=  11.2s\n",
      "[CV] END .......................max_depth=2, n_estimators=20; total time=  12.8s\n",
      "[CV] END .......................max_depth=2, n_estimators=20; total time=  12.9s\n",
      "[CV] END .......................max_depth=2, n_estimators=20; total time=  14.0s\n",
      "[CV] END .......................max_depth=2, n_estimators=20; total time=  12.6s\n",
      "[CV] END .......................max_depth=2, n_estimators=30; total time=  17.5s\n",
      "[CV] END .......................max_depth=2, n_estimators=30; total time=  17.6s\n",
      "[CV] END .......................max_depth=2, n_estimators=30; total time=  17.6s\n",
      "[CV] END .......................max_depth=2, n_estimators=30; total time=  17.0s\n",
      "[CV] END .......................max_depth=2, n_estimators=30; total time=  17.5s\n",
      "[CV] END .......................max_depth=2, n_estimators=40; total time=  24.6s\n",
      "[CV] END .......................max_depth=2, n_estimators=40; total time=  22.0s\n",
      "[CV] END .......................max_depth=2, n_estimators=40; total time=  21.9s\n",
      "[CV] END .......................max_depth=2, n_estimators=40; total time=  22.2s\n",
      "[CV] END .......................max_depth=2, n_estimators=40; total time=  22.3s\n",
      "[CV] END .......................max_depth=2, n_estimators=50; total time=  26.4s\n",
      "[CV] END .......................max_depth=2, n_estimators=50; total time=  26.9s\n",
      "[CV] END .......................max_depth=2, n_estimators=50; total time=  31.2s\n",
      "[CV] END .......................max_depth=2, n_estimators=50; total time=  25.3s\n",
      "[CV] END .......................max_depth=2, n_estimators=50; total time=  26.3s\n",
      "[CV] END .......................max_depth=3, n_estimators=10; total time=  11.8s\n",
      "[CV] END .......................max_depth=3, n_estimators=10; total time=  11.9s\n",
      "[CV] END .......................max_depth=3, n_estimators=10; total time=  11.9s\n",
      "[CV] END .......................max_depth=3, n_estimators=10; total time=  11.8s\n",
      "[CV] END .......................max_depth=3, n_estimators=10; total time=  11.6s\n",
      "[CV] END .......................max_depth=3, n_estimators=20; total time=  22.5s\n",
      "[CV] END .......................max_depth=3, n_estimators=20; total time=  19.0s\n",
      "[CV] END .......................max_depth=3, n_estimators=20; total time=  19.1s\n",
      "[CV] END .......................max_depth=3, n_estimators=20; total time=  20.2s\n",
      "[CV] END .......................max_depth=3, n_estimators=20; total time=   9.6s\n",
      "[CV] END .......................max_depth=3, n_estimators=30; total time=   3.7s\n",
      "[CV] END .......................max_depth=3, n_estimators=30; total time=   3.1s\n",
      "[CV] END .......................max_depth=3, n_estimators=30; total time=   3.6s\n",
      "[CV] END .......................max_depth=3, n_estimators=30; total time=   4.4s\n",
      "[CV] END .......................max_depth=3, n_estimators=30; total time=   3.2s\n",
      "[CV] END .......................max_depth=3, n_estimators=40; total time=   3.9s\n",
      "[CV] END .......................max_depth=3, n_estimators=40; total time=   3.2s\n",
      "[CV] END .......................max_depth=3, n_estimators=40; total time=   3.3s\n",
      "[CV] END .......................max_depth=3, n_estimators=40; total time=   3.5s\n",
      "[CV] END .......................max_depth=3, n_estimators=40; total time=   3.3s\n",
      "[CV] END .......................max_depth=3, n_estimators=50; total time=   4.0s\n",
      "[CV] END .......................max_depth=3, n_estimators=50; total time=   3.7s\n",
      "[CV] END .......................max_depth=3, n_estimators=50; total time=   5.5s\n",
      "[CV] END .......................max_depth=3, n_estimators=50; total time=   3.8s\n",
      "[CV] END .......................max_depth=3, n_estimators=50; total time=   6.3s\n",
      "[CV] END .......................max_depth=4, n_estimators=10; total time=   2.9s\n",
      "[CV] END .......................max_depth=4, n_estimators=10; total time=   2.7s\n",
      "[CV] END .......................max_depth=4, n_estimators=10; total time=   2.6s\n",
      "[CV] END .......................max_depth=4, n_estimators=10; total time=   2.6s\n",
      "[CV] END .......................max_depth=4, n_estimators=10; total time=   2.7s\n",
      "[CV] END .......................max_depth=4, n_estimators=20; total time=   2.9s\n",
      "[CV] END .......................max_depth=4, n_estimators=20; total time=   2.8s\n",
      "[CV] END .......................max_depth=4, n_estimators=20; total time=   3.0s\n",
      "[CV] END .......................max_depth=4, n_estimators=20; total time=   3.4s\n",
      "[CV] END .......................max_depth=4, n_estimators=20; total time=   2.9s\n",
      "[CV] END .......................max_depth=4, n_estimators=30; total time=   3.3s\n",
      "[CV] END .......................max_depth=4, n_estimators=30; total time=   3.5s\n",
      "[CV] END .......................max_depth=4, n_estimators=30; total time=   3.3s\n",
      "[CV] END .......................max_depth=4, n_estimators=30; total time=   3.1s\n",
      "[CV] END .......................max_depth=4, n_estimators=30; total time=   3.2s\n",
      "[CV] END .......................max_depth=4, n_estimators=40; total time=   3.7s\n",
      "[CV] END .......................max_depth=4, n_estimators=40; total time=   3.5s\n",
      "[CV] END .......................max_depth=4, n_estimators=40; total time=   3.9s\n",
      "[CV] END .......................max_depth=4, n_estimators=40; total time=   3.9s\n",
      "[CV] END .......................max_depth=4, n_estimators=40; total time=   3.6s\n",
      "[CV] END .......................max_depth=4, n_estimators=50; total time=   3.7s\n",
      "[CV] END .......................max_depth=4, n_estimators=50; total time=   4.3s\n",
      "[CV] END .......................max_depth=4, n_estimators=50; total time=   4.0s\n",
      "[CV] END .......................max_depth=4, n_estimators=50; total time=   4.1s\n",
      "[CV] END .......................max_depth=4, n_estimators=50; total time=   8.5s\n",
      "[CV] END .......................max_depth=5, n_estimators=10; total time=   6.7s\n",
      "[CV] END .......................max_depth=5, n_estimators=10; total time=   2.8s\n",
      "[CV] END .......................max_depth=5, n_estimators=10; total time=   2.8s\n",
      "[CV] END .......................max_depth=5, n_estimators=10; total time=   2.9s\n",
      "[CV] END .......................max_depth=5, n_estimators=10; total time=   9.8s\n",
      "[CV] END .......................max_depth=5, n_estimators=20; total time=  16.9s\n",
      "[CV] END .......................max_depth=5, n_estimators=20; total time=  44.3s\n",
      "[CV] END .......................max_depth=5, n_estimators=20; total time=  55.6s\n",
      "[CV] END .......................max_depth=5, n_estimators=20; total time=  58.4s\n",
      "[CV] END .......................max_depth=5, n_estimators=20; total time=  38.7s\n",
      "[CV] END .......................max_depth=5, n_estimators=30; total time=  16.0s\n",
      "[CV] END .......................max_depth=5, n_estimators=30; total time=  18.6s\n",
      "[CV] END .......................max_depth=5, n_estimators=30; total time=  20.1s\n",
      "[CV] END .......................max_depth=5, n_estimators=30; total time=  14.7s\n",
      "[CV] END .......................max_depth=5, n_estimators=30; total time=  22.5s\n",
      "[CV] END .......................max_depth=5, n_estimators=40; total time= 1.4min\n",
      "[CV] END .......................max_depth=5, n_estimators=40; total time=  20.5s\n",
      "[CV] END .......................max_depth=5, n_estimators=40; total time=  17.8s\n",
      "[CV] END .......................max_depth=5, n_estimators=40; total time=  19.6s\n",
      "[CV] END .......................max_depth=5, n_estimators=40; total time=  19.7s\n",
      "[CV] END .......................max_depth=5, n_estimators=50; total time=  22.5s\n",
      "[CV] END .......................max_depth=5, n_estimators=50; total time=  48.6s\n",
      "[CV] END .......................max_depth=5, n_estimators=50; total time= 1.2min\n",
      "[CV] END .......................max_depth=5, n_estimators=50; total time=  22.1s\n",
      "[CV] END .......................max_depth=5, n_estimators=50; total time=  15.3s\n",
      "[CV] END .......................max_depth=6, n_estimators=10; total time=  24.5s\n",
      "[CV] END .......................max_depth=6, n_estimators=10; total time=  17.3s\n",
      "[CV] END .......................max_depth=6, n_estimators=10; total time=  13.7s\n",
      "[CV] END .......................max_depth=6, n_estimators=10; total time=  38.0s\n",
      "[CV] END .......................max_depth=6, n_estimators=10; total time=  38.3s\n",
      "[CV] END .......................max_depth=6, n_estimators=20; total time=  39.9s\n",
      "[CV] END .......................max_depth=6, n_estimators=20; total time=  24.0s\n",
      "[CV] END .......................max_depth=6, n_estimators=20; total time=   4.2s\n",
      "[CV] END .......................max_depth=6, n_estimators=20; total time=   3.4s\n",
      "[CV] END .......................max_depth=6, n_estimators=20; total time=   3.4s\n",
      "[CV] END .......................max_depth=6, n_estimators=30; total time=   3.9s\n",
      "[CV] END .......................max_depth=6, n_estimators=30; total time=   4.4s\n",
      "[CV] END .......................max_depth=6, n_estimators=30; total time=   3.8s\n",
      "[CV] END .......................max_depth=6, n_estimators=30; total time=   3.7s\n",
      "[CV] END .......................max_depth=6, n_estimators=30; total time=   3.6s\n",
      "[CV] END .......................max_depth=6, n_estimators=40; total time=   4.1s\n",
      "[CV] END .......................max_depth=6, n_estimators=40; total time=   4.0s\n",
      "[CV] END .......................max_depth=6, n_estimators=40; total time=   3.8s\n",
      "[CV] END .......................max_depth=6, n_estimators=40; total time= 2.2min\n",
      "[CV] END .......................max_depth=6, n_estimators=40; total time= 1.6min\n",
      "[CV] END .......................max_depth=6, n_estimators=50; total time= 2.9min\n",
      "[CV] END .......................max_depth=6, n_estimators=50; total time= 2.7min\n",
      "[CV] END .......................max_depth=6, n_estimators=50; total time= 2.8min\n",
      "[CV] END .......................max_depth=6, n_estimators=50; total time= 2.8min\n",
      "[CV] END .......................max_depth=6, n_estimators=50; total time= 2.8min\n",
      "[CV] END .......................max_depth=7, n_estimators=10; total time=  40.9s\n",
      "[CV] END .......................max_depth=7, n_estimators=10; total time=  41.4s\n",
      "[CV] END .......................max_depth=7, n_estimators=10; total time=  53.5s\n",
      "[CV] END .......................max_depth=7, n_estimators=10; total time=  54.7s\n",
      "[CV] END .......................max_depth=7, n_estimators=10; total time=  55.3s\n",
      "[CV] END .......................max_depth=7, n_estimators=20; total time= 1.3min\n",
      "[CV] END .......................max_depth=7, n_estimators=20; total time= 1.3min\n",
      "[CV] END .......................max_depth=7, n_estimators=20; total time= 1.7min\n",
      "[CV] END .......................max_depth=7, n_estimators=20; total time= 1.7min\n",
      "[CV] END .......................max_depth=7, n_estimators=20; total time= 1.3min\n",
      "[CV] END .......................max_depth=7, n_estimators=30; total time= 2.5min\n",
      "[CV] END .......................max_depth=7, n_estimators=30; total time= 1.9min\n",
      "[CV] END .......................max_depth=7, n_estimators=30; total time= 1.9min\n",
      "[CV] END .......................max_depth=7, n_estimators=30; total time= 2.0min\n",
      "[CV] END .......................max_depth=7, n_estimators=30; total time= 1.0min\n",
      "[CV] END .......................max_depth=7, n_estimators=40; total time= 1.7min\n",
      "[CV] END .......................max_depth=7, n_estimators=40; total time= 1.4min\n",
      "[CV] END .......................max_depth=7, n_estimators=40; total time= 1.4min\n",
      "[CV] END .......................max_depth=7, n_estimators=40; total time= 1.2min\n",
      "[CV] END .......................max_depth=7, n_estimators=40; total time=  44.7s\n",
      "[CV] END .......................max_depth=7, n_estimators=50; total time=  58.3s\n",
      "[CV] END .......................max_depth=7, n_estimators=50; total time=  52.8s\n",
      "[CV] END .......................max_depth=7, n_estimators=50; total time=  49.7s\n",
      "[CV] END .......................max_depth=7, n_estimators=50; total time= 1.3min\n",
      "[CV] END .......................max_depth=7, n_estimators=50; total time= 2.1min\n",
      "[CV] END .......................max_depth=8, n_estimators=10; total time=  16.5s\n",
      "[CV] END .......................max_depth=8, n_estimators=10; total time=  20.5s\n",
      "[CV] END .......................max_depth=8, n_estimators=10; total time=  16.7s\n",
      "[CV] END .......................max_depth=8, n_estimators=10; total time=  14.1s\n",
      "[CV] END .......................max_depth=8, n_estimators=10; total time=  22.9s\n",
      "[CV] END .......................max_depth=8, n_estimators=20; total time=  43.9s\n",
      "[CV] END .......................max_depth=8, n_estimators=20; total time=  25.4s\n",
      "[CV] END .......................max_depth=8, n_estimators=20; total time=  22.9s\n",
      "[CV] END .......................max_depth=8, n_estimators=20; total time=  28.4s\n",
      "[CV] END .......................max_depth=8, n_estimators=20; total time=  30.0s\n",
      "[CV] END .......................max_depth=8, n_estimators=30; total time= 1.3min\n",
      "[CV] END .......................max_depth=8, n_estimators=30; total time=   3.7s\n",
      "[CV] END .......................max_depth=8, n_estimators=30; total time=   4.3s\n",
      "[CV] END .......................max_depth=8, n_estimators=30; total time=   5.6s\n",
      "[CV] END .......................max_depth=8, n_estimators=30; total time=   4.0s\n",
      "[CV] END .......................max_depth=8, n_estimators=40; total time=   4.4s\n",
      "[CV] END .......................max_depth=8, n_estimators=40; total time=   4.4s\n",
      "[CV] END .......................max_depth=8, n_estimators=40; total time=   4.1s\n",
      "[CV] END .......................max_depth=8, n_estimators=40; total time=   4.8s\n",
      "[CV] END .......................max_depth=8, n_estimators=40; total time=   4.1s\n",
      "[CV] END .......................max_depth=8, n_estimators=50; total time=   4.6s\n",
      "[CV] END .......................max_depth=8, n_estimators=50; total time=   7.3s\n",
      "[CV] END .......................max_depth=8, n_estimators=50; total time=   4.7s\n",
      "[CV] END .......................max_depth=8, n_estimators=50; total time=   4.8s\n",
      "[CV] END .......................max_depth=8, n_estimators=50; total time=   4.8s\n",
      "[CV] END .......................max_depth=9, n_estimators=10; total time=   2.7s\n",
      "[CV] END .......................max_depth=9, n_estimators=10; total time=   2.8s\n",
      "[CV] END .......................max_depth=9, n_estimators=10; total time=   2.8s\n",
      "[CV] END .......................max_depth=9, n_estimators=10; total time=  18.9s\n",
      "[CV] END .......................max_depth=9, n_estimators=10; total time=  13.3s\n",
      "[CV] END .......................max_depth=9, n_estimators=20; total time=   3.3s\n",
      "[CV] END .......................max_depth=9, n_estimators=20; total time=   3.2s\n",
      "[CV] END .......................max_depth=9, n_estimators=20; total time= 1.3min\n",
      "[CV] END .......................max_depth=9, n_estimators=20; total time=   9.7s\n",
      "[CV] END .......................max_depth=9, n_estimators=20; total time=   3.4s\n",
      "[CV] END .......................max_depth=9, n_estimators=30; total time=   4.7s\n",
      "[CV] END .......................max_depth=9, n_estimators=30; total time=   3.7s\n",
      "[CV] END .......................max_depth=9, n_estimators=30; total time=   3.7s\n",
      "[CV] END .......................max_depth=9, n_estimators=30; total time=   3.7s\n",
      "[CV] END .......................max_depth=9, n_estimators=30; total time=  35.1s\n",
      "[CV] END .......................max_depth=9, n_estimators=40; total time=   4.8s\n",
      "[CV] END .......................max_depth=9, n_estimators=40; total time=   4.1s\n",
      "[CV] END .......................max_depth=9, n_estimators=40; total time=   4.3s\n",
      "[CV] END .......................max_depth=9, n_estimators=40; total time=   4.3s\n",
      "[CV] END .......................max_depth=9, n_estimators=40; total time=   4.2s\n",
      "[CV] END .......................max_depth=9, n_estimators=50; total time=   4.5s\n",
      "[CV] END .......................max_depth=9, n_estimators=50; total time=   4.8s\n",
      "[CV] END .......................max_depth=9, n_estimators=50; total time=   4.9s\n",
      "[CV] END .......................max_depth=9, n_estimators=50; total time=   4.8s\n",
      "[CV] END .......................max_depth=9, n_estimators=50; total time=   4.6s\n",
      "[CV] END ......................max_depth=10, n_estimators=10; total time=   2.6s\n",
      "[CV] END ......................max_depth=10, n_estimators=10; total time=   2.9s\n",
      "[CV] END ......................max_depth=10, n_estimators=10; total time=   2.7s\n",
      "[CV] END ......................max_depth=10, n_estimators=10; total time=   2.6s\n",
      "[CV] END ......................max_depth=10, n_estimators=10; total time=   3.0s\n",
      "[CV] END ......................max_depth=10, n_estimators=20; total time=   4.3s\n",
      "[CV] END ......................max_depth=10, n_estimators=20; total time=   4.0s\n",
      "[CV] END ......................max_depth=10, n_estimators=20; total time=   3.2s\n",
      "[CV] END ......................max_depth=10, n_estimators=20; total time=   3.5s\n",
      "[CV] END ......................max_depth=10, n_estimators=20; total time=   3.3s\n",
      "[CV] END ......................max_depth=10, n_estimators=30; total time=   3.6s\n",
      "[CV] END ......................max_depth=10, n_estimators=30; total time=   3.9s\n",
      "[CV] END ......................max_depth=10, n_estimators=30; total time=   3.6s\n",
      "[CV] END ......................max_depth=10, n_estimators=30; total time=   4.3s\n",
      "[CV] END ......................max_depth=10, n_estimators=30; total time=   4.0s\n",
      "[CV] END ......................max_depth=10, n_estimators=40; total time=   5.2s\n",
      "[CV] END ......................max_depth=10, n_estimators=40; total time=   4.3s\n",
      "[CV] END ......................max_depth=10, n_estimators=40; total time=   4.3s\n",
      "[CV] END ......................max_depth=10, n_estimators=40; total time=   4.3s\n",
      "[CV] END ......................max_depth=10, n_estimators=40; total time=   4.0s\n",
      "[CV] END ......................max_depth=10, n_estimators=50; total time=   5.7s\n",
      "[CV] END ......................max_depth=10, n_estimators=50; total time=   4.7s\n",
      "[CV] END ......................max_depth=10, n_estimators=50; total time=   5.9s\n",
      "[CV] END ......................max_depth=10, n_estimators=50; total time=   4.8s\n",
      "[CV] END ......................max_depth=10, n_estimators=50; total time=   4.5s\n",
      "CPU times: user 1h 32min 33s, sys: 2min 8s, total: 1h 34min 42s\n",
      "Wall time: 1h 35min 19s\n"
     ]
    },
    {
     "data": {
      "text/plain": [
       "{'max_depth': 10, 'n_estimators': 50}"
      ]
     },
     "execution_count": 26,
     "metadata": {},
     "output_type": "execute_result"
    }
   ],
   "source": [
    "%%time\n",
    "\n",
    "clf = LGBMRegressor()\n",
    "grid = GridSearchCV(clf, parametrs, scoring=scorer, n_jobs=-1,cv =5, verbose = 2)\n",
    "grid.fit(features_train, target_train)\n",
    "print(grid.best_score_)\n",
    "grid.best_params_"
   ]
  },
  {
   "cell_type": "code",
   "execution_count": 27,
   "metadata": {},
   "outputs": [
    {
     "name": "stdout",
     "output_type": "stream",
     "text": [
      "Fitting 5 folds for each of 50 candidates, totalling 250 fits\n",
      "[CV] END .......................max_depth=1, n_estimators=10; total time=   2.8s\n",
      "[CV] END .......................max_depth=1, n_estimators=10; total time=   2.7s\n",
      "[CV] END .......................max_depth=1, n_estimators=10; total time=   2.8s\n",
      "[CV] END .......................max_depth=1, n_estimators=10; total time=   2.9s\n",
      "[CV] END .......................max_depth=1, n_estimators=10; total time=   2.8s\n",
      "[CV] END .......................max_depth=1, n_estimators=20; total time=   5.1s\n",
      "[CV] END .......................max_depth=1, n_estimators=20; total time=   5.0s\n",
      "[CV] END .......................max_depth=1, n_estimators=20; total time=   5.0s\n",
      "[CV] END .......................max_depth=1, n_estimators=20; total time=   5.0s\n",
      "[CV] END .......................max_depth=1, n_estimators=20; total time=   5.1s\n",
      "[CV] END .......................max_depth=1, n_estimators=30; total time=   7.4s\n",
      "[CV] END .......................max_depth=1, n_estimators=30; total time=   7.2s\n",
      "[CV] END .......................max_depth=1, n_estimators=30; total time=   7.2s\n",
      "[CV] END .......................max_depth=1, n_estimators=30; total time=   7.2s\n",
      "[CV] END .......................max_depth=1, n_estimators=30; total time=   7.3s\n",
      "[CV] END .......................max_depth=1, n_estimators=40; total time=   9.3s\n",
      "[CV] END .......................max_depth=1, n_estimators=40; total time=   9.4s\n",
      "[CV] END .......................max_depth=1, n_estimators=40; total time=   9.9s\n",
      "[CV] END .......................max_depth=1, n_estimators=40; total time=   9.4s\n",
      "[CV] END .......................max_depth=1, n_estimators=40; total time=   9.5s\n",
      "[CV] END .......................max_depth=1, n_estimators=50; total time=  12.0s\n",
      "[CV] END .......................max_depth=1, n_estimators=50; total time=  11.9s\n",
      "[CV] END .......................max_depth=1, n_estimators=50; total time=  11.9s\n",
      "[CV] END .......................max_depth=1, n_estimators=50; total time=  11.8s\n",
      "[CV] END .......................max_depth=1, n_estimators=50; total time=  11.8s\n",
      "[CV] END .......................max_depth=2, n_estimators=10; total time=   5.7s\n",
      "[CV] END .......................max_depth=2, n_estimators=10; total time=   5.4s\n",
      "[CV] END .......................max_depth=2, n_estimators=10; total time=   5.5s\n",
      "[CV] END .......................max_depth=2, n_estimators=10; total time=   5.5s\n",
      "[CV] END .......................max_depth=2, n_estimators=10; total time=   5.6s\n",
      "[CV] END .......................max_depth=2, n_estimators=20; total time=  10.8s\n",
      "[CV] END .......................max_depth=2, n_estimators=20; total time=  10.5s\n",
      "[CV] END .......................max_depth=2, n_estimators=20; total time=  10.4s\n",
      "[CV] END .......................max_depth=2, n_estimators=20; total time=  11.5s\n",
      "[CV] END .......................max_depth=2, n_estimators=20; total time=  11.3s\n",
      "[CV] END .......................max_depth=2, n_estimators=30; total time=  16.7s\n",
      "[CV] END .......................max_depth=2, n_estimators=30; total time=  16.6s\n",
      "[CV] END .......................max_depth=2, n_estimators=30; total time=  16.8s\n",
      "[CV] END .......................max_depth=2, n_estimators=30; total time=  17.2s\n",
      "[CV] END .......................max_depth=2, n_estimators=30; total time=  17.1s\n",
      "[CV] END .......................max_depth=2, n_estimators=40; total time=  22.3s\n",
      "[CV] END .......................max_depth=2, n_estimators=40; total time=  22.2s\n",
      "[CV] END .......................max_depth=2, n_estimators=40; total time=  21.9s\n",
      "[CV] END .......................max_depth=2, n_estimators=40; total time=  22.4s\n",
      "[CV] END .......................max_depth=2, n_estimators=40; total time=  22.1s\n",
      "[CV] END .......................max_depth=2, n_estimators=50; total time=  27.6s\n",
      "[CV] END .......................max_depth=2, n_estimators=50; total time=  27.5s\n",
      "[CV] END .......................max_depth=2, n_estimators=50; total time=  27.4s\n",
      "[CV] END .......................max_depth=2, n_estimators=50; total time=  27.9s\n",
      "[CV] END .......................max_depth=2, n_estimators=50; total time=  28.0s\n",
      "[CV] END .......................max_depth=3, n_estimators=10; total time=   9.4s\n",
      "[CV] END .......................max_depth=3, n_estimators=10; total time=   9.5s\n",
      "[CV] END .......................max_depth=3, n_estimators=10; total time=   9.3s\n",
      "[CV] END .......................max_depth=3, n_estimators=10; total time=   9.4s\n",
      "[CV] END .......................max_depth=3, n_estimators=10; total time=   9.3s\n",
      "[CV] END .......................max_depth=3, n_estimators=20; total time=  18.0s\n",
      "[CV] END .......................max_depth=3, n_estimators=20; total time=  18.2s\n",
      "[CV] END .......................max_depth=3, n_estimators=20; total time=  18.5s\n",
      "[CV] END .......................max_depth=3, n_estimators=20; total time=  17.9s\n",
      "[CV] END .......................max_depth=3, n_estimators=20; total time=  17.7s\n",
      "[CV] END .......................max_depth=3, n_estimators=30; total time=  26.6s\n",
      "[CV] END .......................max_depth=3, n_estimators=30; total time=  26.2s\n",
      "[CV] END .......................max_depth=3, n_estimators=30; total time=  25.9s\n",
      "[CV] END .......................max_depth=3, n_estimators=30; total time=  26.2s\n",
      "[CV] END .......................max_depth=3, n_estimators=30; total time=  26.0s\n",
      "[CV] END .......................max_depth=3, n_estimators=40; total time=  34.0s\n",
      "[CV] END .......................max_depth=3, n_estimators=40; total time=  33.7s\n",
      "[CV] END .......................max_depth=3, n_estimators=40; total time=  33.5s\n",
      "[CV] END .......................max_depth=3, n_estimators=40; total time=  34.2s\n",
      "[CV] END .......................max_depth=3, n_estimators=40; total time=  31.6s\n",
      "[CV] END .......................max_depth=3, n_estimators=50; total time=  39.6s\n",
      "[CV] END .......................max_depth=3, n_estimators=50; total time=  42.0s\n",
      "[CV] END .......................max_depth=3, n_estimators=50; total time=  41.6s\n",
      "[CV] END .......................max_depth=3, n_estimators=50; total time=  42.1s\n",
      "[CV] END .......................max_depth=3, n_estimators=50; total time=  43.3s\n",
      "[CV] END .......................max_depth=4, n_estimators=10; total time=  12.9s\n",
      "[CV] END .......................max_depth=4, n_estimators=10; total time=  12.7s\n",
      "[CV] END .......................max_depth=4, n_estimators=10; total time=  12.4s\n",
      "[CV] END .......................max_depth=4, n_estimators=10; total time=  12.7s\n",
      "[CV] END .......................max_depth=4, n_estimators=10; total time=  12.5s\n",
      "[CV] END .......................max_depth=4, n_estimators=20; total time=  24.1s\n",
      "[CV] END .......................max_depth=4, n_estimators=20; total time=  24.4s\n",
      "[CV] END .......................max_depth=4, n_estimators=20; total time=  23.9s\n",
      "[CV] END .......................max_depth=4, n_estimators=20; total time=  24.2s\n",
      "[CV] END .......................max_depth=4, n_estimators=20; total time=  24.1s\n",
      "[CV] END .......................max_depth=4, n_estimators=30; total time=  35.8s\n",
      "[CV] END .......................max_depth=4, n_estimators=30; total time=  35.9s\n",
      "[CV] END .......................max_depth=4, n_estimators=30; total time=  36.0s\n",
      "[CV] END .......................max_depth=4, n_estimators=30; total time=  35.6s\n",
      "[CV] END .......................max_depth=4, n_estimators=30; total time=  35.9s\n",
      "[CV] END .......................max_depth=4, n_estimators=40; total time=  46.6s\n",
      "[CV] END .......................max_depth=4, n_estimators=40; total time=  47.1s\n",
      "[CV] END .......................max_depth=4, n_estimators=40; total time=  47.5s\n",
      "[CV] END .......................max_depth=4, n_estimators=40; total time=  47.6s\n",
      "[CV] END .......................max_depth=4, n_estimators=40; total time=  46.1s\n",
      "[CV] END .......................max_depth=4, n_estimators=50; total time=  58.2s\n",
      "[CV] END .......................max_depth=4, n_estimators=50; total time=  57.2s\n",
      "[CV] END .......................max_depth=4, n_estimators=50; total time=  58.5s\n",
      "[CV] END .......................max_depth=4, n_estimators=50; total time=  57.7s\n",
      "[CV] END .......................max_depth=4, n_estimators=50; total time=  56.8s\n",
      "[CV] END .......................max_depth=5, n_estimators=10; total time=  15.9s\n",
      "[CV] END .......................max_depth=5, n_estimators=10; total time=  15.2s\n",
      "[CV] END .......................max_depth=5, n_estimators=10; total time=  15.3s\n",
      "[CV] END .......................max_depth=5, n_estimators=10; total time=  15.5s\n",
      "[CV] END .......................max_depth=5, n_estimators=10; total time=  15.2s\n",
      "[CV] END .......................max_depth=5, n_estimators=20; total time=  29.1s\n",
      "[CV] END .......................max_depth=5, n_estimators=20; total time=  29.5s\n",
      "[CV] END .......................max_depth=5, n_estimators=20; total time=  29.0s\n",
      "[CV] END .......................max_depth=5, n_estimators=20; total time=  29.0s\n",
      "[CV] END .......................max_depth=5, n_estimators=20; total time=  28.8s\n",
      "[CV] END .......................max_depth=5, n_estimators=30; total time=  43.3s\n",
      "[CV] END .......................max_depth=5, n_estimators=30; total time=  45.2s\n",
      "[CV] END .......................max_depth=5, n_estimators=30; total time=  45.9s\n",
      "[CV] END .......................max_depth=5, n_estimators=30; total time=  45.5s\n",
      "[CV] END .......................max_depth=5, n_estimators=30; total time=  46.7s\n",
      "[CV] END .......................max_depth=5, n_estimators=40; total time= 1.0min\n",
      "[CV] END .......................max_depth=5, n_estimators=40; total time=  58.2s\n",
      "[CV] END .......................max_depth=5, n_estimators=40; total time=  57.5s\n",
      "[CV] END .......................max_depth=5, n_estimators=40; total time= 1.0min\n",
      "[CV] END .......................max_depth=5, n_estimators=40; total time= 1.0min\n",
      "[CV] END .......................max_depth=5, n_estimators=50; total time= 1.3min\n",
      "[CV] END .......................max_depth=5, n_estimators=50; total time= 1.3min\n",
      "[CV] END .......................max_depth=5, n_estimators=50; total time= 1.3min\n",
      "[CV] END .......................max_depth=5, n_estimators=50; total time= 1.3min\n",
      "[CV] END .......................max_depth=5, n_estimators=50; total time= 1.3min\n",
      "[CV] END .......................max_depth=6, n_estimators=10; total time=  20.3s\n",
      "[CV] END .......................max_depth=6, n_estimators=10; total time=  20.5s\n",
      "[CV] END .......................max_depth=6, n_estimators=10; total time=  20.3s\n",
      "[CV] END .......................max_depth=6, n_estimators=10; total time=  21.1s\n",
      "[CV] END .......................max_depth=6, n_estimators=10; total time=  20.8s\n",
      "[CV] END .......................max_depth=6, n_estimators=20; total time=  40.2s\n",
      "[CV] END .......................max_depth=6, n_estimators=20; total time=  40.1s\n",
      "[CV] END .......................max_depth=6, n_estimators=20; total time=  39.4s\n",
      "[CV] END .......................max_depth=6, n_estimators=20; total time=  40.2s\n",
      "[CV] END .......................max_depth=6, n_estimators=20; total time=  39.7s\n",
      "[CV] END .......................max_depth=6, n_estimators=30; total time=  58.6s\n",
      "[CV] END .......................max_depth=6, n_estimators=30; total time=  59.8s\n",
      "[CV] END .......................max_depth=6, n_estimators=30; total time=  58.8s\n",
      "[CV] END .......................max_depth=6, n_estimators=30; total time=  58.2s\n",
      "[CV] END .......................max_depth=6, n_estimators=30; total time=  58.1s\n",
      "[CV] END .......................max_depth=6, n_estimators=40; total time= 1.3min\n",
      "[CV] END .......................max_depth=6, n_estimators=40; total time= 1.3min\n",
      "[CV] END .......................max_depth=6, n_estimators=40; total time= 1.2min\n",
      "[CV] END .......................max_depth=6, n_estimators=40; total time= 1.1min\n",
      "[CV] END .......................max_depth=6, n_estimators=40; total time= 1.1min\n",
      "[CV] END .......................max_depth=6, n_estimators=50; total time= 1.4min\n",
      "[CV] END .......................max_depth=6, n_estimators=50; total time= 1.4min\n",
      "[CV] END .......................max_depth=6, n_estimators=50; total time= 1.4min\n",
      "[CV] END .......................max_depth=6, n_estimators=50; total time= 1.4min\n",
      "[CV] END .......................max_depth=6, n_estimators=50; total time= 1.4min\n",
      "[CV] END .......................max_depth=7, n_estimators=10; total time=  21.6s\n",
      "[CV] END .......................max_depth=7, n_estimators=10; total time=  21.5s\n",
      "[CV] END .......................max_depth=7, n_estimators=10; total time=  21.4s\n",
      "[CV] END .......................max_depth=7, n_estimators=10; total time=  21.8s\n",
      "[CV] END .......................max_depth=7, n_estimators=10; total time=  21.5s\n",
      "[CV] END .......................max_depth=7, n_estimators=20; total time=  41.7s\n",
      "[CV] END .......................max_depth=7, n_estimators=20; total time=  41.7s\n",
      "[CV] END .......................max_depth=7, n_estimators=20; total time=  41.7s\n",
      "[CV] END .......................max_depth=7, n_estimators=20; total time=  41.1s\n",
      "[CV] END .......................max_depth=7, n_estimators=20; total time=  41.3s\n",
      "[CV] END .......................max_depth=7, n_estimators=30; total time= 1.0min\n",
      "[CV] END .......................max_depth=7, n_estimators=30; total time= 1.0min\n",
      "[CV] END .......................max_depth=7, n_estimators=30; total time= 1.0min\n",
      "[CV] END .......................max_depth=7, n_estimators=30; total time= 1.0min\n",
      "[CV] END .......................max_depth=7, n_estimators=30; total time= 1.0min\n",
      "[CV] END .......................max_depth=7, n_estimators=40; total time= 1.4min\n",
      "[CV] END .......................max_depth=7, n_estimators=40; total time= 1.4min\n",
      "[CV] END .......................max_depth=7, n_estimators=40; total time= 1.4min\n",
      "[CV] END .......................max_depth=7, n_estimators=40; total time= 1.4min\n",
      "[CV] END .......................max_depth=7, n_estimators=40; total time= 1.4min\n",
      "[CV] END .......................max_depth=7, n_estimators=50; total time= 1.7min\n",
      "[CV] END .......................max_depth=7, n_estimators=50; total time= 1.7min\n",
      "[CV] END .......................max_depth=7, n_estimators=50; total time= 1.7min\n",
      "[CV] END .......................max_depth=7, n_estimators=50; total time= 1.7min\n",
      "[CV] END .......................max_depth=7, n_estimators=50; total time= 1.7min\n",
      "[CV] END .......................max_depth=8, n_estimators=10; total time=  25.7s\n",
      "[CV] END .......................max_depth=8, n_estimators=10; total time=  24.5s\n",
      "[CV] END .......................max_depth=8, n_estimators=10; total time=  25.1s\n",
      "[CV] END .......................max_depth=8, n_estimators=10; total time=  24.6s\n",
      "[CV] END .......................max_depth=8, n_estimators=10; total time=  24.2s\n",
      "[CV] END .......................max_depth=8, n_estimators=20; total time=  48.8s\n",
      "[CV] END .......................max_depth=8, n_estimators=20; total time=  48.3s\n",
      "[CV] END .......................max_depth=8, n_estimators=20; total time=  48.7s\n",
      "[CV] END .......................max_depth=8, n_estimators=20; total time=  47.7s\n",
      "[CV] END .......................max_depth=8, n_estimators=20; total time=  46.7s\n",
      "[CV] END .......................max_depth=8, n_estimators=30; total time= 1.1min\n",
      "[CV] END .......................max_depth=8, n_estimators=30; total time= 1.2min\n",
      "[CV] END .......................max_depth=8, n_estimators=30; total time= 1.2min\n",
      "[CV] END .......................max_depth=8, n_estimators=30; total time= 1.2min\n",
      "[CV] END .......................max_depth=8, n_estimators=30; total time= 1.2min\n",
      "[CV] END .......................max_depth=8, n_estimators=40; total time= 1.6min\n",
      "[CV] END .......................max_depth=8, n_estimators=40; total time= 1.6min\n",
      "[CV] END .......................max_depth=8, n_estimators=40; total time= 1.5min\n",
      "[CV] END .......................max_depth=8, n_estimators=40; total time= 1.5min\n",
      "[CV] END .......................max_depth=8, n_estimators=40; total time= 1.5min\n",
      "[CV] END .......................max_depth=8, n_estimators=50; total time= 1.9min\n",
      "[CV] END .......................max_depth=8, n_estimators=50; total time= 1.9min\n",
      "[CV] END .......................max_depth=8, n_estimators=50; total time= 1.9min\n",
      "[CV] END .......................max_depth=8, n_estimators=50; total time= 1.9min\n",
      "[CV] END .......................max_depth=8, n_estimators=50; total time= 1.9min\n",
      "[CV] END .......................max_depth=9, n_estimators=10; total time=  26.8s\n",
      "[CV] END .......................max_depth=9, n_estimators=10; total time=  26.8s\n",
      "[CV] END .......................max_depth=9, n_estimators=10; total time=  27.3s\n",
      "[CV] END .......................max_depth=9, n_estimators=10; total time=  26.3s\n",
      "[CV] END .......................max_depth=9, n_estimators=10; total time=  27.5s\n",
      "[CV] END .......................max_depth=9, n_estimators=20; total time=  53.8s\n",
      "[CV] END .......................max_depth=9, n_estimators=20; total time=  53.8s\n",
      "[CV] END .......................max_depth=9, n_estimators=20; total time=  52.5s\n",
      "[CV] END .......................max_depth=9, n_estimators=20; total time=  52.2s\n",
      "[CV] END .......................max_depth=9, n_estimators=20; total time=  52.8s\n",
      "[CV] END .......................max_depth=9, n_estimators=30; total time= 1.3min\n",
      "[CV] END .......................max_depth=9, n_estimators=30; total time= 1.3min\n",
      "[CV] END .......................max_depth=9, n_estimators=30; total time= 1.3min\n",
      "[CV] END .......................max_depth=9, n_estimators=30; total time= 1.3min\n",
      "[CV] END .......................max_depth=9, n_estimators=30; total time= 1.3min\n",
      "[CV] END .......................max_depth=9, n_estimators=40; total time= 1.7min\n",
      "[CV] END .......................max_depth=9, n_estimators=40; total time= 1.7min\n",
      "[CV] END .......................max_depth=9, n_estimators=40; total time= 1.7min\n",
      "[CV] END .......................max_depth=9, n_estimators=40; total time= 1.7min\n",
      "[CV] END .......................max_depth=9, n_estimators=40; total time= 1.7min\n",
      "[CV] END .......................max_depth=9, n_estimators=50; total time= 2.1min\n",
      "[CV] END .......................max_depth=9, n_estimators=50; total time= 2.1min\n",
      "[CV] END .......................max_depth=9, n_estimators=50; total time= 2.2min\n",
      "[CV] END .......................max_depth=9, n_estimators=50; total time= 2.3min\n",
      "[CV] END .......................max_depth=9, n_estimators=50; total time= 2.2min\n",
      "[CV] END ......................max_depth=10, n_estimators=10; total time=  28.3s\n",
      "[CV] END ......................max_depth=10, n_estimators=10; total time=  28.8s\n",
      "[CV] END ......................max_depth=10, n_estimators=10; total time=  28.7s\n",
      "[CV] END ......................max_depth=10, n_estimators=10; total time=  29.0s\n",
      "[CV] END ......................max_depth=10, n_estimators=10; total time=  28.3s\n",
      "[CV] END ......................max_depth=10, n_estimators=20; total time=  59.4s\n",
      "[CV] END ......................max_depth=10, n_estimators=20; total time=  58.1s\n",
      "[CV] END ......................max_depth=10, n_estimators=20; total time=  58.2s\n",
      "[CV] END ......................max_depth=10, n_estimators=20; total time=  58.9s\n",
      "[CV] END ......................max_depth=10, n_estimators=20; total time=  59.4s\n",
      "[CV] END ......................max_depth=10, n_estimators=30; total time= 1.5min\n",
      "[CV] END ......................max_depth=10, n_estimators=30; total time= 1.4min\n",
      "[CV] END ......................max_depth=10, n_estimators=30; total time= 1.5min\n",
      "[CV] END ......................max_depth=10, n_estimators=30; total time= 1.5min\n",
      "[CV] END ......................max_depth=10, n_estimators=30; total time= 1.4min\n",
      "[CV] END ......................max_depth=10, n_estimators=40; total time= 1.9min\n",
      "[CV] END ......................max_depth=10, n_estimators=40; total time= 2.0min\n",
      "[CV] END ......................max_depth=10, n_estimators=40; total time= 2.0min\n",
      "[CV] END ......................max_depth=10, n_estimators=40; total time= 2.0min\n",
      "[CV] END ......................max_depth=10, n_estimators=40; total time= 1.9min\n",
      "[CV] END ......................max_depth=10, n_estimators=50; total time= 2.6min\n",
      "[CV] END ......................max_depth=10, n_estimators=50; total time= 2.7min\n",
      "[CV] END ......................max_depth=10, n_estimators=50; total time= 2.6min\n",
      "[CV] END ......................max_depth=10, n_estimators=50; total time= 2.6min\n",
      "[CV] END ......................max_depth=10, n_estimators=50; total time= 2.6min\n",
      "-1526.4539750159117\n",
      "CPU times: user 3h 23min 46s, sys: 1min 30s, total: 3h 25min 16s\n",
      "Wall time: 3h 25min 37s\n"
     ]
    },
    {
     "data": {
      "text/plain": [
       "{'max_depth': 10, 'n_estimators': 50}"
      ]
     },
     "execution_count": 27,
     "metadata": {},
     "output_type": "execute_result"
    }
   ],
   "source": [
    "%%time\n",
    "\n",
    "clf = GradientBoostingRegressor()\n",
    "grid = GridSearchCV(clf, parametrs, scoring=scorer, n_jobs=-1,cv =5, verbose = 2)\n",
    "grid.fit(features_train, target_train)\n",
    "print(grid.best_score_)\n",
    "grid.best_params_"
   ]
  },
  {
   "cell_type": "code",
   "execution_count": 28,
   "metadata": {},
   "outputs": [
    {
     "name": "stdout",
     "output_type": "stream",
     "text": [
      "Fitting 5 folds for each of 50 candidates, totalling 250 fits\n",
      "[CV] END .......................max_depth=1, n_estimators=10; total time=   2.4s\n",
      "[CV] END .......................max_depth=1, n_estimators=10; total time=   2.3s\n",
      "[CV] END .......................max_depth=1, n_estimators=10; total time=   2.3s\n",
      "[CV] END .......................max_depth=1, n_estimators=10; total time=   2.3s\n",
      "[CV] END .......................max_depth=1, n_estimators=10; total time=   2.3s\n",
      "[CV] END .......................max_depth=1, n_estimators=20; total time=   4.0s\n",
      "[CV] END .......................max_depth=1, n_estimators=20; total time=   4.1s\n",
      "[CV] END .......................max_depth=1, n_estimators=20; total time=   4.0s\n",
      "[CV] END .......................max_depth=1, n_estimators=20; total time=   4.0s\n",
      "[CV] END .......................max_depth=1, n_estimators=20; total time=   4.1s\n",
      "[CV] END .......................max_depth=1, n_estimators=30; total time=   5.8s\n",
      "[CV] END .......................max_depth=1, n_estimators=30; total time=   5.7s\n",
      "[CV] END .......................max_depth=1, n_estimators=30; total time=   5.6s\n",
      "[CV] END .......................max_depth=1, n_estimators=30; total time=   5.6s\n",
      "[CV] END .......................max_depth=1, n_estimators=30; total time=   5.7s\n",
      "[CV] END .......................max_depth=1, n_estimators=40; total time=   7.3s\n",
      "[CV] END .......................max_depth=1, n_estimators=40; total time=   7.2s\n",
      "[CV] END .......................max_depth=1, n_estimators=40; total time=   7.3s\n",
      "[CV] END .......................max_depth=1, n_estimators=40; total time=   7.3s\n",
      "[CV] END .......................max_depth=1, n_estimators=40; total time=   8.0s\n",
      "[CV] END .......................max_depth=1, n_estimators=50; total time=   9.1s\n",
      "[CV] END .......................max_depth=1, n_estimators=50; total time=   9.4s\n",
      "[CV] END .......................max_depth=1, n_estimators=50; total time=   9.5s\n",
      "[CV] END .......................max_depth=1, n_estimators=50; total time=   9.6s\n",
      "[CV] END .......................max_depth=1, n_estimators=50; total time=   9.2s\n",
      "[CV] END .......................max_depth=2, n_estimators=10; total time=   4.3s\n",
      "[CV] END .......................max_depth=2, n_estimators=10; total time=   4.4s\n",
      "[CV] END .......................max_depth=2, n_estimators=10; total time=   4.3s\n",
      "[CV] END .......................max_depth=2, n_estimators=10; total time=   4.4s\n",
      "[CV] END .......................max_depth=2, n_estimators=10; total time=   4.3s\n",
      "[CV] END .......................max_depth=2, n_estimators=20; total time=   8.2s\n",
      "[CV] END .......................max_depth=2, n_estimators=20; total time=   8.3s\n",
      "[CV] END .......................max_depth=2, n_estimators=20; total time=   8.1s\n",
      "[CV] END .......................max_depth=2, n_estimators=20; total time=   8.0s\n",
      "[CV] END .......................max_depth=2, n_estimators=20; total time=   8.1s\n",
      "[CV] END .......................max_depth=2, n_estimators=30; total time=  11.9s\n",
      "[CV] END .......................max_depth=2, n_estimators=30; total time=  12.0s\n",
      "[CV] END .......................max_depth=2, n_estimators=30; total time=  12.1s\n",
      "[CV] END .......................max_depth=2, n_estimators=30; total time=  12.1s\n",
      "[CV] END .......................max_depth=2, n_estimators=30; total time=  12.1s\n",
      "[CV] END .......................max_depth=2, n_estimators=40; total time=  15.8s\n",
      "[CV] END .......................max_depth=2, n_estimators=40; total time=  15.9s\n",
      "[CV] END .......................max_depth=2, n_estimators=40; total time=  16.2s\n",
      "[CV] END .......................max_depth=2, n_estimators=40; total time=  15.7s\n",
      "[CV] END .......................max_depth=2, n_estimators=40; total time=  15.4s\n",
      "[CV] END .......................max_depth=2, n_estimators=50; total time=  19.5s\n",
      "[CV] END .......................max_depth=2, n_estimators=50; total time=  18.8s\n",
      "[CV] END .......................max_depth=2, n_estimators=50; total time=  18.9s\n",
      "[CV] END .......................max_depth=2, n_estimators=50; total time=  19.0s\n",
      "[CV] END .......................max_depth=2, n_estimators=50; total time=  19.1s\n",
      "[CV] END .......................max_depth=3, n_estimators=10; total time=   6.4s\n",
      "[CV] END .......................max_depth=3, n_estimators=10; total time=   6.5s\n",
      "[CV] END .......................max_depth=3, n_estimators=10; total time=   6.5s\n",
      "[CV] END .......................max_depth=3, n_estimators=10; total time=   6.5s\n",
      "[CV] END .......................max_depth=3, n_estimators=10; total time=   6.6s\n",
      "[CV] END .......................max_depth=3, n_estimators=20; total time=  12.4s\n",
      "[CV] END .......................max_depth=3, n_estimators=20; total time=  12.4s\n",
      "[CV] END .......................max_depth=3, n_estimators=20; total time=  12.7s\n",
      "[CV] END .......................max_depth=3, n_estimators=20; total time=  12.5s\n",
      "[CV] END .......................max_depth=3, n_estimators=20; total time=  12.3s\n",
      "[CV] END .......................max_depth=3, n_estimators=30; total time=  18.9s\n",
      "[CV] END .......................max_depth=3, n_estimators=30; total time=  18.4s\n",
      "[CV] END .......................max_depth=3, n_estimators=30; total time=  18.3s\n",
      "[CV] END .......................max_depth=3, n_estimators=30; total time=  19.4s\n",
      "[CV] END .......................max_depth=3, n_estimators=30; total time=  18.4s\n",
      "[CV] END .......................max_depth=3, n_estimators=40; total time=  25.3s\n",
      "[CV] END .......................max_depth=3, n_estimators=40; total time=  24.6s\n",
      "[CV] END .......................max_depth=3, n_estimators=40; total time=  24.5s\n",
      "[CV] END .......................max_depth=3, n_estimators=40; total time=  24.5s\n",
      "[CV] END .......................max_depth=3, n_estimators=40; total time=  24.4s\n",
      "[CV] END .......................max_depth=3, n_estimators=50; total time=  30.4s\n",
      "[CV] END .......................max_depth=3, n_estimators=50; total time=  30.4s\n",
      "[CV] END .......................max_depth=3, n_estimators=50; total time=  30.8s\n",
      "[CV] END .......................max_depth=3, n_estimators=50; total time=  31.3s\n",
      "[CV] END .......................max_depth=3, n_estimators=50; total time=  31.1s\n",
      "[CV] END .......................max_depth=4, n_estimators=10; total time=   8.8s\n",
      "[CV] END .......................max_depth=4, n_estimators=10; total time=   8.8s\n",
      "[CV] END .......................max_depth=4, n_estimators=10; total time=   8.8s\n",
      "[CV] END .......................max_depth=4, n_estimators=10; total time=   9.0s\n",
      "[CV] END .......................max_depth=4, n_estimators=10; total time=   9.2s\n",
      "[CV] END .......................max_depth=4, n_estimators=20; total time=  18.3s\n",
      "[CV] END .......................max_depth=4, n_estimators=20; total time=  17.8s\n",
      "[CV] END .......................max_depth=4, n_estimators=20; total time=  17.1s\n",
      "[CV] END .......................max_depth=4, n_estimators=20; total time=  17.2s\n",
      "[CV] END .......................max_depth=4, n_estimators=20; total time=  17.3s\n",
      "[CV] END .......................max_depth=4, n_estimators=30; total time=  25.6s\n",
      "[CV] END .......................max_depth=4, n_estimators=30; total time=  26.2s\n",
      "[CV] END .......................max_depth=4, n_estimators=30; total time=  25.3s\n",
      "[CV] END .......................max_depth=4, n_estimators=30; total time=  25.2s\n",
      "[CV] END .......................max_depth=4, n_estimators=30; total time=  25.0s\n",
      "[CV] END .......................max_depth=4, n_estimators=40; total time=  33.3s\n",
      "[CV] END .......................max_depth=4, n_estimators=40; total time=  33.3s\n",
      "[CV] END .......................max_depth=4, n_estimators=40; total time=  33.3s\n",
      "[CV] END .......................max_depth=4, n_estimators=40; total time=  33.7s\n",
      "[CV] END .......................max_depth=4, n_estimators=40; total time=  33.3s\n",
      "[CV] END .......................max_depth=4, n_estimators=50; total time=  41.5s\n",
      "[CV] END .......................max_depth=4, n_estimators=50; total time=  41.7s\n",
      "[CV] END .......................max_depth=4, n_estimators=50; total time=  41.5s\n",
      "[CV] END .......................max_depth=4, n_estimators=50; total time=  41.8s\n",
      "[CV] END .......................max_depth=4, n_estimators=50; total time=  42.6s\n",
      "[CV] END .......................max_depth=5, n_estimators=10; total time=  11.3s\n",
      "[CV] END .......................max_depth=5, n_estimators=10; total time=  11.0s\n",
      "[CV] END .......................max_depth=5, n_estimators=10; total time=  10.9s\n",
      "[CV] END .......................max_depth=5, n_estimators=10; total time=  11.1s\n",
      "[CV] END .......................max_depth=5, n_estimators=10; total time=  10.9s\n",
      "[CV] END .......................max_depth=5, n_estimators=20; total time=  21.4s\n",
      "[CV] END .......................max_depth=5, n_estimators=20; total time=  21.8s\n",
      "[CV] END .......................max_depth=5, n_estimators=20; total time=  21.2s\n",
      "[CV] END .......................max_depth=5, n_estimators=20; total time=  21.4s\n",
      "[CV] END .......................max_depth=5, n_estimators=20; total time=  22.0s\n",
      "[CV] END .......................max_depth=5, n_estimators=30; total time=  31.7s\n",
      "[CV] END .......................max_depth=5, n_estimators=30; total time=  31.9s\n",
      "[CV] END .......................max_depth=5, n_estimators=30; total time=  32.6s\n",
      "[CV] END .......................max_depth=5, n_estimators=30; total time=  32.0s\n",
      "[CV] END .......................max_depth=5, n_estimators=30; total time=  32.5s\n",
      "[CV] END .......................max_depth=5, n_estimators=40; total time=  42.7s\n",
      "[CV] END .......................max_depth=5, n_estimators=40; total time=  45.3s\n",
      "[CV] END .......................max_depth=5, n_estimators=40; total time=  47.3s\n",
      "[CV] END .......................max_depth=5, n_estimators=40; total time=  46.1s\n",
      "[CV] END .......................max_depth=5, n_estimators=40; total time=  45.3s\n",
      "[CV] END .......................max_depth=5, n_estimators=50; total time=  54.7s\n",
      "[CV] END .......................max_depth=5, n_estimators=50; total time=  54.2s\n",
      "[CV] END .......................max_depth=5, n_estimators=50; total time=  55.4s\n",
      "[CV] END .......................max_depth=5, n_estimators=50; total time=  54.5s\n",
      "[CV] END .......................max_depth=5, n_estimators=50; total time=  53.5s\n",
      "[CV] END .......................max_depth=6, n_estimators=10; total time=  13.6s\n",
      "[CV] END .......................max_depth=6, n_estimators=10; total time=  13.3s\n",
      "[CV] END .......................max_depth=6, n_estimators=10; total time=  13.5s\n",
      "[CV] END .......................max_depth=6, n_estimators=10; total time=  13.2s\n",
      "[CV] END .......................max_depth=6, n_estimators=10; total time=  13.0s\n",
      "[CV] END .......................max_depth=6, n_estimators=20; total time=  25.9s\n",
      "[CV] END .......................max_depth=6, n_estimators=20; total time=  26.3s\n",
      "[CV] END .......................max_depth=6, n_estimators=20; total time=  26.4s\n",
      "[CV] END .......................max_depth=6, n_estimators=20; total time=  25.4s\n",
      "[CV] END .......................max_depth=6, n_estimators=20; total time=  25.7s\n",
      "[CV] END .......................max_depth=6, n_estimators=30; total time=  38.0s\n",
      "[CV] END .......................max_depth=6, n_estimators=30; total time=  38.0s\n",
      "[CV] END .......................max_depth=6, n_estimators=30; total time=  37.8s\n",
      "[CV] END .......................max_depth=6, n_estimators=30; total time=  38.4s\n",
      "[CV] END .......................max_depth=6, n_estimators=30; total time=  38.2s\n",
      "[CV] END .......................max_depth=6, n_estimators=40; total time=  50.9s\n",
      "[CV] END .......................max_depth=6, n_estimators=40; total time=  50.8s\n",
      "[CV] END .......................max_depth=6, n_estimators=40; total time=  51.7s\n",
      "[CV] END .......................max_depth=6, n_estimators=40; total time=  53.1s\n",
      "[CV] END .......................max_depth=6, n_estimators=40; total time=  54.9s\n",
      "[CV] END .......................max_depth=6, n_estimators=50; total time= 1.1min\n",
      "[CV] END .......................max_depth=6, n_estimators=50; total time= 1.1min\n",
      "[CV] END .......................max_depth=6, n_estimators=50; total time= 1.1min\n",
      "[CV] END .......................max_depth=6, n_estimators=50; total time= 1.1min\n",
      "[CV] END .......................max_depth=6, n_estimators=50; total time= 1.1min\n",
      "[CV] END .......................max_depth=7, n_estimators=10; total time=  16.4s\n",
      "[CV] END .......................max_depth=7, n_estimators=10; total time=  15.7s\n",
      "[CV] END .......................max_depth=7, n_estimators=10; total time=  16.2s\n",
      "[CV] END .......................max_depth=7, n_estimators=10; total time=  17.9s\n",
      "[CV] END .......................max_depth=7, n_estimators=10; total time=  15.6s\n",
      "[CV] END .......................max_depth=7, n_estimators=20; total time=  30.1s\n",
      "[CV] END .......................max_depth=7, n_estimators=20; total time=  30.5s\n",
      "[CV] END .......................max_depth=7, n_estimators=20; total time=  31.2s\n",
      "[CV] END .......................max_depth=7, n_estimators=20; total time=  30.7s\n",
      "[CV] END .......................max_depth=7, n_estimators=20; total time=  29.7s\n",
      "[CV] END .......................max_depth=7, n_estimators=30; total time=  44.8s\n",
      "[CV] END .......................max_depth=7, n_estimators=30; total time=  43.6s\n",
      "[CV] END .......................max_depth=7, n_estimators=30; total time=  43.6s\n",
      "[CV] END .......................max_depth=7, n_estimators=30; total time=  45.4s\n",
      "[CV] END .......................max_depth=7, n_estimators=30; total time=  44.1s\n",
      "[CV] END .......................max_depth=7, n_estimators=40; total time=  58.9s\n",
      "[CV] END .......................max_depth=7, n_estimators=40; total time= 1.0min\n",
      "[CV] END .......................max_depth=7, n_estimators=40; total time=  58.8s\n",
      "[CV] END .......................max_depth=7, n_estimators=40; total time=  59.6s\n",
      "[CV] END .......................max_depth=7, n_estimators=40; total time=  58.6s\n",
      "[CV] END .......................max_depth=7, n_estimators=50; total time= 1.2min\n",
      "[CV] END .......................max_depth=7, n_estimators=50; total time= 1.2min\n",
      "[CV] END .......................max_depth=7, n_estimators=50; total time= 1.3min\n",
      "[CV] END .......................max_depth=7, n_estimators=50; total time= 1.3min\n",
      "[CV] END .......................max_depth=7, n_estimators=50; total time= 1.3min\n",
      "[CV] END .......................max_depth=8, n_estimators=10; total time=  17.6s\n",
      "[CV] END .......................max_depth=8, n_estimators=10; total time=  17.8s\n",
      "[CV] END .......................max_depth=8, n_estimators=10; total time=  17.6s\n",
      "[CV] END .......................max_depth=8, n_estimators=10; total time=  17.7s\n",
      "[CV] END .......................max_depth=8, n_estimators=10; total time=  17.1s\n",
      "[CV] END .......................max_depth=8, n_estimators=20; total time=  32.8s\n",
      "[CV] END .......................max_depth=8, n_estimators=20; total time=  32.9s\n",
      "[CV] END .......................max_depth=8, n_estimators=20; total time=  32.8s\n",
      "[CV] END .......................max_depth=8, n_estimators=20; total time=  33.3s\n",
      "[CV] END .......................max_depth=8, n_estimators=20; total time=  32.8s\n",
      "[CV] END .......................max_depth=8, n_estimators=30; total time=  49.4s\n",
      "[CV] END .......................max_depth=8, n_estimators=30; total time=  50.1s\n",
      "[CV] END .......................max_depth=8, n_estimators=30; total time=  51.1s\n",
      "[CV] END .......................max_depth=8, n_estimators=40; total time= 1.1min\n",
      "[CV] END .......................max_depth=8, n_estimators=40; total time= 1.1min\n",
      "[CV] END .......................max_depth=8, n_estimators=40; total time= 1.1min\n",
      "[CV] END .......................max_depth=8, n_estimators=40; total time= 1.1min\n",
      "[CV] END .......................max_depth=8, n_estimators=40; total time= 1.1min\n",
      "[CV] END .......................max_depth=8, n_estimators=50; total time= 1.4min\n",
      "[CV] END .......................max_depth=8, n_estimators=50; total time= 1.4min\n",
      "[CV] END .......................max_depth=8, n_estimators=50; total time= 1.3min\n",
      "[CV] END .......................max_depth=8, n_estimators=50; total time= 1.3min\n",
      "[CV] END .......................max_depth=8, n_estimators=50; total time= 1.3min\n",
      "[CV] END .......................max_depth=9, n_estimators=10; total time=  18.0s\n",
      "[CV] END .......................max_depth=9, n_estimators=10; total time=  18.1s\n",
      "[CV] END .......................max_depth=9, n_estimators=10; total time=  18.3s\n",
      "[CV] END .......................max_depth=9, n_estimators=10; total time=  18.3s\n",
      "[CV] END .......................max_depth=9, n_estimators=10; total time=  18.7s\n",
      "[CV] END .......................max_depth=9, n_estimators=20; total time=  36.3s\n",
      "[CV] END .......................max_depth=9, n_estimators=20; total time=  37.3s\n",
      "[CV] END .......................max_depth=9, n_estimators=20; total time=  36.5s\n",
      "[CV] END .......................max_depth=9, n_estimators=20; total time=  37.0s\n",
      "[CV] END .......................max_depth=9, n_estimators=20; total time=  36.1s\n",
      "[CV] END .......................max_depth=9, n_estimators=30; total time=  53.7s\n",
      "[CV] END .......................max_depth=9, n_estimators=30; total time=  53.3s\n",
      "[CV] END .......................max_depth=9, n_estimators=30; total time=  53.2s\n",
      "[CV] END .......................max_depth=9, n_estimators=30; total time=  53.0s\n",
      "[CV] END .......................max_depth=9, n_estimators=30; total time=  53.3s\n",
      "[CV] END .......................max_depth=9, n_estimators=40; total time= 1.2min\n",
      "[CV] END .......................max_depth=9, n_estimators=40; total time= 1.2min\n",
      "[CV] END .......................max_depth=9, n_estimators=40; total time= 1.2min\n",
      "[CV] END .......................max_depth=9, n_estimators=40; total time= 1.2min\n",
      "[CV] END .......................max_depth=9, n_estimators=40; total time= 1.2min\n",
      "[CV] END .......................max_depth=9, n_estimators=50; total time= 1.7min\n",
      "[CV] END .......................max_depth=9, n_estimators=50; total time= 1.5min\n",
      "[CV] END .......................max_depth=9, n_estimators=50; total time= 1.5min\n",
      "[CV] END .......................max_depth=9, n_estimators=50; total time= 1.6min\n",
      "[CV] END .......................max_depth=9, n_estimators=50; total time= 1.6min\n",
      "[CV] END ......................max_depth=10, n_estimators=10; total time=  21.6s\n",
      "[CV] END ......................max_depth=10, n_estimators=10; total time=  22.4s\n",
      "[CV] END ......................max_depth=10, n_estimators=10; total time=  21.2s\n",
      "[CV] END ......................max_depth=10, n_estimators=10; total time=  21.1s\n",
      "[CV] END ......................max_depth=10, n_estimators=10; total time=  21.4s\n",
      "[CV] END ......................max_depth=10, n_estimators=20; total time=  43.7s\n",
      "[CV] END ......................max_depth=10, n_estimators=20; total time=  42.0s\n",
      "[CV] END ......................max_depth=10, n_estimators=20; total time=  43.0s\n",
      "[CV] END ......................max_depth=10, n_estimators=20; total time=  43.8s\n",
      "[CV] END ......................max_depth=10, n_estimators=20; total time=  45.8s\n",
      "[CV] END ......................max_depth=10, n_estimators=30; total time= 1.1min\n",
      "[CV] END ......................max_depth=10, n_estimators=30; total time= 1.1min\n",
      "[CV] END ......................max_depth=10, n_estimators=30; total time= 1.1min\n",
      "[CV] END ......................max_depth=10, n_estimators=30; total time= 1.2min\n",
      "[CV] END ......................max_depth=10, n_estimators=30; total time= 1.2min\n",
      "[CV] END ......................max_depth=10, n_estimators=40; total time= 1.5min\n",
      "[CV] END ......................max_depth=10, n_estimators=40; total time= 1.4min\n",
      "[CV] END ......................max_depth=10, n_estimators=40; total time= 1.4min\n",
      "[CV] END ......................max_depth=10, n_estimators=40; total time= 1.5min\n",
      "[CV] END ......................max_depth=10, n_estimators=40; total time= 1.5min\n",
      "[CV] END ......................max_depth=10, n_estimators=50; total time= 1.9min\n",
      "[CV] END ......................max_depth=10, n_estimators=50; total time= 2.0min\n",
      "[CV] END ......................max_depth=10, n_estimators=50; total time= 2.3min\n",
      "[CV] END ......................max_depth=10, n_estimators=50; total time= 2.1min\n",
      "[CV] END ......................max_depth=10, n_estimators=50; total time= 2.2min\n",
      "-1817.4579100471535\n",
      "CPU times: user 2h 28min 16s, sys: 1min 20s, total: 2h 29min 37s\n",
      "Wall time: 2h 30min 3s\n"
     ]
    },
    {
     "data": {
      "text/plain": [
       "{'max_depth': 10, 'n_estimators': 50}"
      ]
     },
     "execution_count": 28,
     "metadata": {},
     "output_type": "execute_result"
    }
   ],
   "source": [
    "%%time\n",
    "\n",
    "clf = RandomForestRegressor()\n",
    "grid = GridSearchCV(clf, parametrs, scoring=scorer, n_jobs=-1,cv =5, verbose = 2)\n",
    "grid.fit(features_train, target_train)\n",
    "print(grid.best_score_)\n",
    "grid.best_params_"
   ]
  },
  {
   "cell_type": "code",
   "execution_count": 29,
   "metadata": {},
   "outputs": [
    {
     "name": "stdout",
     "output_type": "stream",
     "text": [
      "Средняя оценка RMSE: -2329.75855085817\n"
     ]
    }
   ],
   "source": [
    "model = LinearRegression()\n",
    "\n",
    "scores = cross_val_score(model, features_train, target_train, scoring = scorer, cv=5)\n",
    "\n",
    "print('Средняя оценка RMSE:', sum(scores)/len(scores))"
   ]
  },
  {
   "cell_type": "markdown",
   "metadata": {},
   "source": [
    "## Анализ моделей"
   ]
  },
  {
   "cell_type": "code",
   "execution_count": 30,
   "metadata": {},
   "outputs": [
    {
     "name": "stdout",
     "output_type": "stream",
     "text": [
      "CPU times: user 2min 37s, sys: 3.49 s, total: 2min 40s\n",
      "Wall time: 2min 41s\n"
     ]
    },
    {
     "data": {
      "text/plain": [
       "LGBMRegressor(max_depth=10, n_estimators=50)"
      ]
     },
     "execution_count": 30,
     "metadata": {},
     "output_type": "execute_result"
    }
   ],
   "source": [
    "%%time\n",
    "model = LGBMRegressor(max_depth = 10, n_estimators = 50)\n",
    "model.fit(features_train, target_train)"
   ]
  },
  {
   "cell_type": "code",
   "execution_count": 31,
   "metadata": {},
   "outputs": [
    {
     "name": "stdout",
     "output_type": "stream",
     "text": [
      "оценка RMSE: 1683.6153875453074\n",
      "CPU times: user 1.24 s, sys: 257 ms, total: 1.49 s\n",
      "Wall time: 1.51 s\n"
     ]
    }
   ],
   "source": [
    "%%time\n",
    "predicted = model.predict(features_train)\n",
    "print('оценка RMSE:', RMSE(target_train, predicted))"
   ]
  },
  {
   "cell_type": "code",
   "execution_count": 32,
   "metadata": {},
   "outputs": [
    {
     "name": "stdout",
     "output_type": "stream",
     "text": [
      "CPU times: user 2min 48s, sys: 307 ms, total: 2min 48s\n",
      "Wall time: 2min 49s\n"
     ]
    },
    {
     "data": {
      "text/plain": [
       "GradientBoostingRegressor(max_depth=10, n_estimators=50)"
      ]
     },
     "execution_count": 32,
     "metadata": {},
     "output_type": "execute_result"
    }
   ],
   "source": [
    "%%time\n",
    "model = GradientBoostingRegressor(max_depth = 10, n_estimators = 50)\n",
    "model.fit(features_train, target_train)"
   ]
  },
  {
   "cell_type": "code",
   "execution_count": 33,
   "metadata": {},
   "outputs": [
    {
     "name": "stdout",
     "output_type": "stream",
     "text": [
      "оценка RMSE: 1384.8711506720215\n",
      "CPU times: user 1.31 s, sys: 226 ms, total: 1.54 s\n",
      "Wall time: 1.54 s\n"
     ]
    }
   ],
   "source": [
    "%%time\n",
    "predicted = model.predict(features_train)\n",
    "print('оценка RMSE:', RMSE(target_train, predicted))"
   ]
  },
  {
   "cell_type": "code",
   "execution_count": 34,
   "metadata": {},
   "outputs": [
    {
     "name": "stdout",
     "output_type": "stream",
     "text": [
      "CPU times: user 1min 55s, sys: 399 ms, total: 1min 55s\n",
      "Wall time: 1min 56s\n"
     ]
    },
    {
     "data": {
      "text/plain": [
       "RandomForestRegressor(max_depth=10, n_estimators=50)"
      ]
     },
     "execution_count": 34,
     "metadata": {},
     "output_type": "execute_result"
    }
   ],
   "source": [
    "%%time\n",
    "model = RandomForestRegressor(max_depth = 10, n_estimators = 50)\n",
    "model.fit(features_train, target_train)"
   ]
  },
  {
   "cell_type": "code",
   "execution_count": 35,
   "metadata": {},
   "outputs": [
    {
     "name": "stdout",
     "output_type": "stream",
     "text": [
      "оценка RMSE: 1768.870950849881\n",
      "CPU times: user 1.17 s, sys: 142 ms, total: 1.31 s\n",
      "Wall time: 1.32 s\n"
     ]
    }
   ],
   "source": [
    "%%time\n",
    "predicted = model.predict(features_train)\n",
    "print('оценка RMSE:', RMSE(target_train, predicted))"
   ]
  },
  {
   "cell_type": "code",
   "execution_count": 31,
   "metadata": {},
   "outputs": [
    {
     "name": "stdout",
     "output_type": "stream",
     "text": [
      "оценка RMSE: 1698.48211506619\n"
     ]
    }
   ],
   "source": [
    "model = LGBMRegressor(max_depth = 10, n_estimators = 50)\n",
    "model.fit(features_train, target_train)\n",
    "\n",
    "predicted = model.predict(features_test)\n",
    "print('оценка RMSE:', RMSE(target_test, predicted))"
   ]
  },
  {
   "cell_type": "markdown",
   "metadata": {},
   "source": [
    "Показатели RMSE лучше у GradientBoostingRegressor выше, однако модель обучается дольше остальных, также дольше делаются предсказания, но на мой взгляд должна быть выбрана эта модель"
   ]
  },
  {
   "cell_type": "code",
   "execution_count": null,
   "metadata": {},
   "outputs": [],
   "source": [
    "dummy_regr = DummyRegressor(strategy=\"mean\")\n",
    "dummy_regr.fit(features_train, target_train)\n",
    "dummy =dummy_regr.predict(features_test)\n",
    "print('оценка RMSE:', RMSE(target_test, dummy))"
   ]
  },
  {
   "cell_type": "markdown",
   "metadata": {},
   "source": [
    "# Вывод: \n",
    "Мы построили модель с минимальным значением RMSE, для этого избавились от пустых значений в исходных данных, удалили неинформативные признаки, перевели категориальные признаки в численные, стандартизировали численые признаки и избавились от дисбаланса. Модель проверена на тестовой выборке."
   ]
  },
  {
   "cell_type": "code",
   "execution_count": null,
   "metadata": {},
   "outputs": [],
   "source": []
  }
 ],
 "metadata": {
  "ExecuteTimeLog": [
   {
    "duration": 397,
    "start_time": "2023-04-03T14:08:19.394Z"
   },
   {
    "duration": 1071,
    "start_time": "2023-04-03T14:08:21.728Z"
   },
   {
    "duration": 112,
    "start_time": "2023-04-03T14:10:03.528Z"
   },
   {
    "duration": 20,
    "start_time": "2023-04-03T14:11:45.872Z"
   },
   {
    "duration": 19,
    "start_time": "2023-04-03T14:35:00.789Z"
   },
   {
    "duration": 22,
    "start_time": "2023-04-03T14:36:17.890Z"
   },
   {
    "duration": 68,
    "start_time": "2023-04-03T14:48:26.382Z"
   },
   {
    "duration": 9,
    "start_time": "2023-04-03T14:48:30.007Z"
   },
   {
    "duration": 8,
    "start_time": "2023-04-03T14:48:46.775Z"
   },
   {
    "duration": 9,
    "start_time": "2023-04-03T14:48:50.214Z"
   },
   {
    "duration": 9,
    "start_time": "2023-04-03T14:48:55.304Z"
   },
   {
    "duration": 4,
    "start_time": "2023-04-03T14:49:47.183Z"
   },
   {
    "duration": 4,
    "start_time": "2023-04-03T14:52:28.102Z"
   },
   {
    "duration": 4,
    "start_time": "2023-04-03T14:52:31.479Z"
   },
   {
    "duration": 6,
    "start_time": "2023-04-03T14:52:36.207Z"
   },
   {
    "duration": 4,
    "start_time": "2023-04-03T14:52:41.902Z"
   },
   {
    "duration": 5,
    "start_time": "2023-04-03T14:53:01.438Z"
   },
   {
    "duration": 4,
    "start_time": "2023-04-03T14:53:36.360Z"
   },
   {
    "duration": 4,
    "start_time": "2023-04-03T14:53:53.127Z"
   },
   {
    "duration": 732,
    "start_time": "2023-04-03T14:54:40.398Z"
   },
   {
    "duration": 4,
    "start_time": "2023-04-03T14:55:02.495Z"
   },
   {
    "duration": 8,
    "start_time": "2023-04-03T14:57:31.004Z"
   },
   {
    "duration": 309,
    "start_time": "2023-04-03T14:57:50.381Z"
   },
   {
    "duration": 290,
    "start_time": "2023-04-03T14:58:48.837Z"
   },
   {
    "duration": 314,
    "start_time": "2023-04-03T14:59:16.612Z"
   },
   {
    "duration": 292,
    "start_time": "2023-04-03T14:59:55.125Z"
   },
   {
    "duration": 309,
    "start_time": "2023-04-03T15:01:19.022Z"
   },
   {
    "duration": 71,
    "start_time": "2023-04-03T15:12:58.788Z"
   },
   {
    "duration": 423,
    "start_time": "2023-04-03T15:14:03.778Z"
   },
   {
    "duration": 844,
    "start_time": "2023-04-03T15:14:06.238Z"
   },
   {
    "duration": 114,
    "start_time": "2023-04-03T15:14:08.675Z"
   },
   {
    "duration": 21,
    "start_time": "2023-04-03T15:14:11.641Z"
   },
   {
    "duration": 115,
    "start_time": "2023-04-03T15:14:16.070Z"
   },
   {
    "duration": 139,
    "start_time": "2023-04-03T15:15:05.722Z"
   },
   {
    "duration": 18,
    "start_time": "2023-04-03T15:15:32.611Z"
   },
   {
    "duration": 387,
    "start_time": "2023-04-03T15:15:48.777Z"
   },
   {
    "duration": 864,
    "start_time": "2023-04-03T15:15:50.886Z"
   },
   {
    "duration": 128,
    "start_time": "2023-04-03T15:15:53.203Z"
   },
   {
    "duration": 21,
    "start_time": "2023-04-03T15:15:56.107Z"
   },
   {
    "duration": 14,
    "start_time": "2023-04-03T15:16:21.883Z"
   },
   {
    "duration": 275,
    "start_time": "2023-04-03T15:17:09.194Z"
   },
   {
    "duration": 16,
    "start_time": "2023-04-03T15:17:16.880Z"
   },
   {
    "duration": 107,
    "start_time": "2023-04-03T15:17:47.313Z"
   },
   {
    "duration": 420,
    "start_time": "2023-04-04T07:59:03.023Z"
   },
   {
    "duration": 1212,
    "start_time": "2023-04-04T07:59:05.118Z"
   },
   {
    "duration": 24,
    "start_time": "2023-04-04T07:59:13.940Z"
   },
   {
    "duration": 304,
    "start_time": "2023-04-04T07:59:18.387Z"
   },
   {
    "duration": 73,
    "start_time": "2023-04-04T07:59:22.723Z"
   },
   {
    "duration": 14,
    "start_time": "2023-04-04T07:59:32.452Z"
   },
   {
    "duration": 17,
    "start_time": "2023-04-04T08:00:03.739Z"
   },
   {
    "duration": 73,
    "start_time": "2023-04-04T08:00:19.348Z"
   },
   {
    "duration": 101,
    "start_time": "2023-04-04T08:00:29.659Z"
   },
   {
    "duration": 226,
    "start_time": "2023-04-04T08:03:21.556Z"
   },
   {
    "duration": 448,
    "start_time": "2023-04-04T15:15:21.854Z"
   },
   {
    "duration": 3380,
    "start_time": "2023-04-04T15:15:23.980Z"
   },
   {
    "duration": 173,
    "start_time": "2023-04-04T15:15:27.362Z"
   },
   {
    "duration": 24,
    "start_time": "2023-04-04T15:15:30.946Z"
   },
   {
    "duration": 322,
    "start_time": "2023-04-04T15:15:38.586Z"
   },
   {
    "duration": 184,
    "start_time": "2023-04-04T15:15:42.681Z"
   },
   {
    "duration": 73,
    "start_time": "2023-04-04T15:16:03.139Z"
   },
   {
    "duration": 89,
    "start_time": "2023-04-04T15:16:11.242Z"
   },
   {
    "duration": 32,
    "start_time": "2023-04-04T15:18:01.691Z"
   },
   {
    "duration": 26,
    "start_time": "2023-04-04T15:18:06.442Z"
   },
   {
    "duration": 411,
    "start_time": "2023-04-04T15:18:27.370Z"
   },
   {
    "duration": 430,
    "start_time": "2023-04-04T15:18:50.523Z"
   },
   {
    "duration": 436,
    "start_time": "2023-04-04T15:19:28.962Z"
   },
   {
    "duration": 451,
    "start_time": "2023-04-04T15:39:54.833Z"
   },
   {
    "duration": 960,
    "start_time": "2023-04-04T15:39:55.286Z"
   },
   {
    "duration": 147,
    "start_time": "2023-04-04T15:39:56.248Z"
   },
   {
    "duration": 54,
    "start_time": "2023-04-04T15:39:56.397Z"
   },
   {
    "duration": 325,
    "start_time": "2023-04-04T15:39:56.454Z"
   },
   {
    "duration": 131,
    "start_time": "2023-04-04T15:39:56.781Z"
   },
   {
    "duration": 156,
    "start_time": "2023-04-04T15:39:56.917Z"
   },
   {
    "duration": 88,
    "start_time": "2023-04-04T15:40:16.564Z"
   },
   {
    "duration": 868,
    "start_time": "2023-04-04T15:40:30.485Z"
   },
   {
    "duration": 134,
    "start_time": "2023-04-04T15:40:33.534Z"
   },
   {
    "duration": 425,
    "start_time": "2023-04-05T07:51:23.594Z"
   },
   {
    "duration": 2766,
    "start_time": "2023-04-05T07:51:26.112Z"
   },
   {
    "duration": 143,
    "start_time": "2023-04-05T07:51:29.448Z"
   },
   {
    "duration": 20,
    "start_time": "2023-04-05T07:51:32.249Z"
   },
   {
    "duration": 282,
    "start_time": "2023-04-05T07:51:37.720Z"
   },
   {
    "duration": 82,
    "start_time": "2023-04-05T07:51:50.328Z"
   },
   {
    "duration": 20,
    "start_time": "2023-04-05T07:52:25.608Z"
   },
   {
    "duration": 31,
    "start_time": "2023-04-05T07:53:17.433Z"
   },
   {
    "duration": 513,
    "start_time": "2023-04-06T07:53:05.707Z"
   },
   {
    "duration": 3093,
    "start_time": "2023-04-06T07:53:08.319Z"
   },
   {
    "duration": 293,
    "start_time": "2023-04-06T07:53:17.432Z"
   },
   {
    "duration": 79,
    "start_time": "2023-04-06T07:53:23.429Z"
   },
   {
    "duration": 47,
    "start_time": "2023-04-06T07:53:26.414Z"
   },
   {
    "duration": 21,
    "start_time": "2023-04-06T07:54:12.310Z"
   },
   {
    "duration": 2774,
    "start_time": "2023-04-06T07:59:06.638Z"
   },
   {
    "duration": 102,
    "start_time": "2023-04-06T08:01:11.870Z"
   },
   {
    "duration": 62,
    "start_time": "2023-04-06T08:03:17.739Z"
   },
   {
    "duration": 4,
    "start_time": "2023-04-06T08:06:03.403Z"
   },
   {
    "duration": 27,
    "start_time": "2023-04-06T08:06:08.907Z"
   },
   {
    "duration": 3465,
    "start_time": "2023-04-06T08:10:04.075Z"
   },
   {
    "duration": 2750,
    "start_time": "2023-04-06T08:10:30.268Z"
   },
   {
    "duration": 2036,
    "start_time": "2023-04-06T08:10:36.987Z"
   },
   {
    "duration": 53,
    "start_time": "2023-04-06T13:06:25.349Z"
   },
   {
    "duration": 407,
    "start_time": "2023-04-06T13:06:32.366Z"
   },
   {
    "duration": 1107,
    "start_time": "2023-04-06T13:06:34.638Z"
   },
   {
    "duration": 266,
    "start_time": "2023-04-06T13:06:41.870Z"
   },
   {
    "duration": 75,
    "start_time": "2023-04-06T13:06:46.638Z"
   },
   {
    "duration": 27,
    "start_time": "2023-04-06T13:06:49.365Z"
   },
   {
    "duration": 22,
    "start_time": "2023-04-06T13:07:12.062Z"
   },
   {
    "duration": 21,
    "start_time": "2023-04-06T13:07:45.214Z"
   },
   {
    "duration": 20,
    "start_time": "2023-04-06T13:08:10.415Z"
   },
   {
    "duration": 20,
    "start_time": "2023-04-06T13:08:33.054Z"
   },
   {
    "duration": 20,
    "start_time": "2023-04-06T13:09:30.535Z"
   },
   {
    "duration": 19,
    "start_time": "2023-04-06T13:09:58.710Z"
   },
   {
    "duration": 20,
    "start_time": "2023-04-06T13:10:39.142Z"
   },
   {
    "duration": 19,
    "start_time": "2023-04-06T13:11:05.238Z"
   },
   {
    "duration": 22,
    "start_time": "2023-04-06T13:11:23.702Z"
   },
   {
    "duration": 720,
    "start_time": "2023-04-06T13:11:42.181Z"
   },
   {
    "duration": 27,
    "start_time": "2023-04-06T13:11:56.615Z"
   },
   {
    "duration": 26,
    "start_time": "2023-04-06T13:12:35.245Z"
   },
   {
    "duration": 21,
    "start_time": "2023-04-06T13:12:58.597Z"
   },
   {
    "duration": 19,
    "start_time": "2023-04-06T13:14:17.141Z"
   },
   {
    "duration": 19,
    "start_time": "2023-04-06T13:14:27.885Z"
   },
   {
    "duration": 20,
    "start_time": "2023-04-06T13:14:49.205Z"
   },
   {
    "duration": 51,
    "start_time": "2023-04-06T13:14:57.039Z"
   },
   {
    "duration": 58,
    "start_time": "2023-04-06T13:17:26.733Z"
   },
   {
    "duration": 40,
    "start_time": "2023-04-06T13:18:31.700Z"
   },
   {
    "duration": 20,
    "start_time": "2023-04-06T13:19:32.060Z"
   },
   {
    "duration": 21,
    "start_time": "2023-04-06T13:19:43.580Z"
   },
   {
    "duration": 79,
    "start_time": "2023-04-06T13:23:42.568Z"
   },
   {
    "duration": 15158,
    "start_time": "2023-04-06T13:39:01.175Z"
   },
   {
    "duration": 96,
    "start_time": "2023-04-06T13:40:17.136Z"
   },
   {
    "duration": 71,
    "start_time": "2023-04-06T13:40:34.001Z"
   },
   {
    "duration": 14930,
    "start_time": "2023-04-06T13:41:57.337Z"
   },
   {
    "duration": 4,
    "start_time": "2023-04-06T13:42:30.448Z"
   },
   {
    "duration": 393,
    "start_time": "2023-04-06T13:45:22.219Z"
   },
   {
    "duration": 881,
    "start_time": "2023-04-06T13:45:24.591Z"
   },
   {
    "duration": 299,
    "start_time": "2023-04-06T13:45:30.776Z"
   },
   {
    "duration": 85,
    "start_time": "2023-04-06T13:45:36.464Z"
   },
   {
    "duration": 28,
    "start_time": "2023-04-06T13:46:03.743Z"
   },
   {
    "duration": 21,
    "start_time": "2023-04-06T13:47:17.560Z"
   },
   {
    "duration": 21,
    "start_time": "2023-04-06T13:47:34.703Z"
   },
   {
    "duration": 53,
    "start_time": "2023-04-06T13:51:53.382Z"
   },
   {
    "duration": 48,
    "start_time": "2023-04-06T13:51:57.518Z"
   },
   {
    "duration": 81,
    "start_time": "2023-04-06T13:52:06.846Z"
   },
   {
    "duration": 94,
    "start_time": "2023-04-06T13:52:20.320Z"
   },
   {
    "duration": 48,
    "start_time": "2023-04-06T13:52:33.175Z"
   },
   {
    "duration": 30,
    "start_time": "2023-04-06T13:53:20.614Z"
   },
   {
    "duration": 21,
    "start_time": "2023-04-06T13:53:31.904Z"
   },
   {
    "duration": 27,
    "start_time": "2023-04-06T13:53:51.406Z"
   },
   {
    "duration": 4,
    "start_time": "2023-04-06T13:55:21.910Z"
   },
   {
    "duration": 3,
    "start_time": "2023-04-06T13:55:47.013Z"
   },
   {
    "duration": 22,
    "start_time": "2023-04-06T13:57:12.253Z"
   },
   {
    "duration": 48,
    "start_time": "2023-04-06T14:00:40.349Z"
   },
   {
    "duration": 21,
    "start_time": "2023-04-06T14:00:57.156Z"
   },
   {
    "duration": 20,
    "start_time": "2023-04-06T14:01:02.692Z"
   },
   {
    "duration": 23,
    "start_time": "2023-04-06T14:01:14.116Z"
   },
   {
    "duration": 24,
    "start_time": "2023-04-06T14:01:18.852Z"
   },
   {
    "duration": 25,
    "start_time": "2023-04-06T14:02:07.268Z"
   },
   {
    "duration": 57,
    "start_time": "2023-04-06T14:03:50.932Z"
   },
   {
    "duration": 53,
    "start_time": "2023-04-06T14:04:08.299Z"
   },
   {
    "duration": 41,
    "start_time": "2023-04-06T14:04:15.892Z"
   },
   {
    "duration": 41,
    "start_time": "2023-04-06T14:04:19.411Z"
   },
   {
    "duration": 31767,
    "start_time": "2023-04-06T14:09:55.802Z"
   },
   {
    "duration": 31870,
    "start_time": "2023-04-06T14:10:38.483Z"
   },
   {
    "duration": 31613,
    "start_time": "2023-04-06T14:11:27.098Z"
   },
   {
    "duration": 389,
    "start_time": "2023-04-06T14:15:51.799Z"
   },
   {
    "duration": 898,
    "start_time": "2023-04-06T14:15:54.025Z"
   },
   {
    "duration": 125,
    "start_time": "2023-04-06T14:15:56.545Z"
   },
   {
    "duration": 117,
    "start_time": "2023-04-06T14:16:01.585Z"
   },
   {
    "duration": 15,
    "start_time": "2023-04-06T14:17:30.042Z"
   },
   {
    "duration": 275,
    "start_time": "2023-04-06T14:17:34.443Z"
   },
   {
    "duration": 185,
    "start_time": "2023-04-06T14:17:38.449Z"
   },
   {
    "duration": 16,
    "start_time": "2023-04-06T14:17:46.714Z"
   },
   {
    "duration": 79,
    "start_time": "2023-04-06T14:17:54.938Z"
   },
   {
    "duration": 8,
    "start_time": "2023-04-06T14:19:27.362Z"
   },
   {
    "duration": 28,
    "start_time": "2023-04-06T14:21:50.618Z"
   },
   {
    "duration": 76,
    "start_time": "2023-04-06T15:01:45.439Z"
   },
   {
    "duration": 15,
    "start_time": "2023-04-06T15:02:19.632Z"
   },
   {
    "duration": 22,
    "start_time": "2023-04-06T15:02:29.599Z"
   },
   {
    "duration": 30,
    "start_time": "2023-04-06T15:05:01.671Z"
   },
   {
    "duration": 692,
    "start_time": "2023-04-06T15:28:37.275Z"
   },
   {
    "duration": 286,
    "start_time": "2023-04-06T15:29:04.259Z"
   },
   {
    "duration": 327,
    "start_time": "2023-04-06T15:30:13.938Z"
   },
   {
    "duration": 243,
    "start_time": "2023-04-06T15:30:37.066Z"
   },
   {
    "duration": 259,
    "start_time": "2023-04-06T15:30:57.898Z"
   },
   {
    "duration": 227,
    "start_time": "2023-04-06T15:31:14.090Z"
   },
   {
    "duration": 243,
    "start_time": "2023-04-06T15:31:21.514Z"
   },
   {
    "duration": 341,
    "start_time": "2023-04-06T15:31:28.850Z"
   },
   {
    "duration": 231,
    "start_time": "2023-04-06T15:32:07.106Z"
   },
   {
    "duration": 246,
    "start_time": "2023-04-06T15:33:10.217Z"
   },
   {
    "duration": 289,
    "start_time": "2023-04-06T15:33:19.553Z"
   },
   {
    "duration": 251,
    "start_time": "2023-04-06T15:33:28.681Z"
   },
   {
    "duration": 28,
    "start_time": "2023-04-06T15:39:47.663Z"
   },
   {
    "duration": 59,
    "start_time": "2023-04-06T15:39:53.056Z"
   },
   {
    "duration": 33,
    "start_time": "2023-04-06T15:43:12.711Z"
   },
   {
    "duration": 57,
    "start_time": "2023-04-06T15:43:18.366Z"
   },
   {
    "duration": 72,
    "start_time": "2023-04-06T15:43:24.630Z"
   },
   {
    "duration": 1273,
    "start_time": "2023-04-06T16:27:06.904Z"
   },
   {
    "duration": 3,
    "start_time": "2023-04-06T16:27:18.392Z"
   },
   {
    "duration": 875,
    "start_time": "2023-04-06T16:27:18.397Z"
   },
   {
    "duration": 130,
    "start_time": "2023-04-06T16:27:19.273Z"
   },
   {
    "duration": 120,
    "start_time": "2023-04-06T16:27:19.404Z"
   },
   {
    "duration": 17,
    "start_time": "2023-04-06T16:27:19.526Z"
   },
   {
    "duration": 310,
    "start_time": "2023-04-06T16:27:19.545Z"
   },
   {
    "duration": 120,
    "start_time": "2023-04-06T16:27:19.857Z"
   },
   {
    "duration": 4873,
    "start_time": "2023-04-06T16:27:19.980Z"
   },
   {
    "duration": 112,
    "start_time": "2023-04-06T16:27:24.855Z"
   },
   {
    "duration": 44,
    "start_time": "2023-04-06T16:27:24.969Z"
   },
   {
    "duration": 408,
    "start_time": "2023-04-06T16:27:44.942Z"
   },
   {
    "duration": 3928,
    "start_time": "2023-04-06T16:29:03.341Z"
   },
   {
    "duration": 381,
    "start_time": "2023-04-06T16:30:12.245Z"
   },
   {
    "duration": 114,
    "start_time": "2023-04-06T16:34:41.956Z"
   },
   {
    "duration": 110,
    "start_time": "2023-04-06T16:34:56.965Z"
   },
   {
    "duration": 447,
    "start_time": "2023-04-06T16:34:59.324Z"
   },
   {
    "duration": 468,
    "start_time": "2023-04-06T16:37:17.099Z"
   },
   {
    "duration": 86,
    "start_time": "2023-04-06T16:40:19.946Z"
   },
   {
    "duration": 106,
    "start_time": "2023-04-06T16:40:55.834Z"
   },
   {
    "duration": 380,
    "start_time": "2023-04-06T16:40:58.274Z"
   },
   {
    "duration": 417,
    "start_time": "2023-04-06T16:43:28.706Z"
   },
   {
    "duration": 424,
    "start_time": "2023-04-06T16:46:24.145Z"
   },
   {
    "duration": 472,
    "start_time": "2023-04-06T16:46:38.249Z"
   },
   {
    "duration": 723,
    "start_time": "2023-04-06T16:47:55.696Z"
   },
   {
    "duration": 446,
    "start_time": "2023-04-06T16:50:39.368Z"
   },
   {
    "duration": 1364,
    "start_time": "2023-04-07T07:26:15.417Z"
   },
   {
    "duration": 1082,
    "start_time": "2023-04-07T07:26:17.582Z"
   },
   {
    "duration": 3,
    "start_time": "2023-04-07T07:26:27.077Z"
   },
   {
    "duration": 874,
    "start_time": "2023-04-07T07:26:27.082Z"
   },
   {
    "duration": 124,
    "start_time": "2023-04-07T07:26:27.958Z"
   },
   {
    "duration": 127,
    "start_time": "2023-04-07T07:26:28.084Z"
   },
   {
    "duration": 21,
    "start_time": "2023-04-07T07:26:28.214Z"
   },
   {
    "duration": 262,
    "start_time": "2023-04-07T07:26:28.237Z"
   },
   {
    "duration": 115,
    "start_time": "2023-04-07T07:26:28.501Z"
   },
   {
    "duration": 5460,
    "start_time": "2023-04-07T07:26:28.624Z"
   },
   {
    "duration": 117,
    "start_time": "2023-04-07T07:26:34.086Z"
   },
   {
    "duration": 456,
    "start_time": "2023-04-07T07:26:34.205Z"
   },
   {
    "duration": 27,
    "start_time": "2023-04-07T07:26:34.663Z"
   },
   {
    "duration": 35,
    "start_time": "2023-04-07T07:28:04.527Z"
   },
   {
    "duration": 64,
    "start_time": "2023-04-07T07:29:39.551Z"
   },
   {
    "duration": 478,
    "start_time": "2023-04-07T07:50:03.763Z"
   },
   {
    "duration": 45,
    "start_time": "2023-04-07T07:52:01.434Z"
   },
   {
    "duration": 80,
    "start_time": "2023-04-07T07:52:04.694Z"
   },
   {
    "duration": 75,
    "start_time": "2023-04-07T07:52:35.999Z"
   },
   {
    "duration": 1241,
    "start_time": "2023-04-07T07:57:27.758Z"
   },
   {
    "duration": 865,
    "start_time": "2023-04-07T07:57:29.002Z"
   },
   {
    "duration": 120,
    "start_time": "2023-04-07T07:57:29.869Z"
   },
   {
    "duration": 135,
    "start_time": "2023-04-07T07:57:29.993Z"
   },
   {
    "duration": 15,
    "start_time": "2023-04-07T07:57:30.131Z"
   },
   {
    "duration": 306,
    "start_time": "2023-04-07T07:57:30.148Z"
   },
   {
    "duration": 161,
    "start_time": "2023-04-07T07:57:30.456Z"
   },
   {
    "duration": 5336,
    "start_time": "2023-04-07T07:57:30.624Z"
   },
   {
    "duration": 121,
    "start_time": "2023-04-07T07:57:35.962Z"
   },
   {
    "duration": 476,
    "start_time": "2023-04-07T07:57:36.085Z"
   },
   {
    "duration": 90,
    "start_time": "2023-04-07T07:58:07.623Z"
   },
   {
    "duration": 2398,
    "start_time": "2023-04-07T07:58:33.900Z"
   },
   {
    "duration": 2275,
    "start_time": "2023-04-07T07:58:55.904Z"
   },
   {
    "duration": 1364,
    "start_time": "2023-04-07T07:59:40.197Z"
   },
   {
    "duration": 1330,
    "start_time": "2023-04-07T08:00:18.241Z"
   },
   {
    "duration": 1467,
    "start_time": "2023-04-07T08:00:44.528Z"
   },
   {
    "duration": 1497,
    "start_time": "2023-04-07T08:00:58.641Z"
   },
   {
    "duration": 1532,
    "start_time": "2023-04-07T08:01:12.928Z"
   },
   {
    "duration": 1428,
    "start_time": "2023-04-07T08:01:26.106Z"
   },
   {
    "duration": 1391,
    "start_time": "2023-04-07T08:01:40.168Z"
   },
   {
    "duration": 50,
    "start_time": "2023-04-07T08:02:08.702Z"
   },
   {
    "duration": 60,
    "start_time": "2023-04-07T08:02:11.728Z"
   },
   {
    "duration": 49,
    "start_time": "2023-04-07T08:05:07.654Z"
   },
   {
    "duration": 1196,
    "start_time": "2023-04-07T08:07:01.745Z"
   },
   {
    "duration": 1436,
    "start_time": "2023-04-07T08:07:29.503Z"
   },
   {
    "duration": 1518,
    "start_time": "2023-04-07T14:38:13.128Z"
   },
   {
    "duration": 2936,
    "start_time": "2023-04-07T14:38:14.648Z"
   },
   {
    "duration": 145,
    "start_time": "2023-04-07T14:38:17.585Z"
   },
   {
    "duration": 108,
    "start_time": "2023-04-07T14:38:17.732Z"
   },
   {
    "duration": 13,
    "start_time": "2023-04-07T14:38:17.843Z"
   },
   {
    "duration": 261,
    "start_time": "2023-04-07T14:38:17.858Z"
   },
   {
    "duration": 110,
    "start_time": "2023-04-07T14:38:18.122Z"
   },
   {
    "duration": 5035,
    "start_time": "2023-04-07T14:38:18.233Z"
   },
   {
    "duration": 131,
    "start_time": "2023-04-07T14:38:23.270Z"
   },
   {
    "duration": 452,
    "start_time": "2023-04-07T14:38:23.403Z"
   },
   {
    "duration": 1291,
    "start_time": "2023-04-07T14:38:23.857Z"
   },
   {
    "duration": 427,
    "start_time": "2023-04-07T14:38:25.150Z"
   },
   {
    "duration": 76,
    "start_time": "2023-04-07T14:39:31.234Z"
   },
   {
    "duration": 31,
    "start_time": "2023-04-07T14:39:37.321Z"
   },
   {
    "duration": 27,
    "start_time": "2023-04-07T14:42:01.728Z"
   },
   {
    "duration": 29,
    "start_time": "2023-04-07T14:42:12.817Z"
   },
   {
    "duration": 32,
    "start_time": "2023-04-07T14:42:27.049Z"
   },
   {
    "duration": 32,
    "start_time": "2023-04-07T14:42:33.402Z"
   },
   {
    "duration": 30,
    "start_time": "2023-04-07T14:42:38.296Z"
   },
   {
    "duration": 45,
    "start_time": "2023-04-07T14:42:43.048Z"
   },
   {
    "duration": 36,
    "start_time": "2023-04-07T14:42:50.872Z"
   },
   {
    "duration": 31,
    "start_time": "2023-04-07T14:42:55.768Z"
   },
   {
    "duration": 43,
    "start_time": "2023-04-07T14:43:47.657Z"
   },
   {
    "duration": 43,
    "start_time": "2023-04-07T14:43:53.593Z"
   },
   {
    "duration": 29,
    "start_time": "2023-04-07T14:44:00.808Z"
   },
   {
    "duration": 40,
    "start_time": "2023-04-07T14:44:05.480Z"
   },
   {
    "duration": 46,
    "start_time": "2023-04-07T14:44:12.185Z"
   },
   {
    "duration": 28,
    "start_time": "2023-04-07T14:44:17.856Z"
   },
   {
    "duration": 31,
    "start_time": "2023-04-07T14:44:22.305Z"
   },
   {
    "duration": 38,
    "start_time": "2023-04-07T14:44:31.049Z"
   },
   {
    "duration": 73,
    "start_time": "2023-04-07T15:26:11.018Z"
   },
   {
    "duration": 72,
    "start_time": "2023-04-07T15:26:14.244Z"
   },
   {
    "duration": 50,
    "start_time": "2023-04-07T15:26:26.651Z"
   },
   {
    "duration": 64,
    "start_time": "2023-04-07T15:26:30.185Z"
   },
   {
    "duration": 44,
    "start_time": "2023-04-07T15:26:36.995Z"
   },
   {
    "duration": 12,
    "start_time": "2023-04-07T15:35:29.433Z"
   },
   {
    "duration": 319,
    "start_time": "2023-04-07T15:41:58.623Z"
   },
   {
    "duration": 129,
    "start_time": "2023-04-07T15:42:41.272Z"
   },
   {
    "duration": 1433,
    "start_time": "2023-04-07T15:45:35.610Z"
   },
   {
    "duration": 816,
    "start_time": "2023-04-07T15:45:37.046Z"
   },
   {
    "duration": 135,
    "start_time": "2023-04-07T15:45:37.863Z"
   },
   {
    "duration": 146,
    "start_time": "2023-04-07T15:45:38.001Z"
   },
   {
    "duration": 14,
    "start_time": "2023-04-07T15:45:38.149Z"
   },
   {
    "duration": 276,
    "start_time": "2023-04-07T15:45:38.165Z"
   },
   {
    "duration": 164,
    "start_time": "2023-04-07T15:45:38.443Z"
   },
   {
    "duration": 5597,
    "start_time": "2023-04-07T15:45:38.609Z"
   },
   {
    "duration": 133,
    "start_time": "2023-04-07T15:45:44.208Z"
   },
   {
    "duration": 446,
    "start_time": "2023-04-07T15:45:44.343Z"
   },
   {
    "duration": 1569,
    "start_time": "2023-04-07T15:45:44.792Z"
   },
   {
    "duration": 435,
    "start_time": "2023-04-07T15:45:46.363Z"
   },
   {
    "duration": 40,
    "start_time": "2023-04-07T15:45:46.800Z"
   },
   {
    "duration": 80,
    "start_time": "2023-04-07T15:45:46.843Z"
   },
   {
    "duration": 41,
    "start_time": "2023-04-07T15:45:46.925Z"
   },
   {
    "duration": 16,
    "start_time": "2023-04-07T15:45:46.984Z"
   },
   {
    "duration": 123,
    "start_time": "2023-04-07T15:45:56.895Z"
   },
   {
    "duration": 43,
    "start_time": "2023-04-07T15:47:02.870Z"
   },
   {
    "duration": 29,
    "start_time": "2023-04-07T15:47:07.630Z"
   },
   {
    "duration": 16,
    "start_time": "2023-04-07T15:48:08.700Z"
   },
   {
    "duration": 34,
    "start_time": "2023-04-07T15:48:20.974Z"
   },
   {
    "duration": 12,
    "start_time": "2023-04-07T15:49:05.541Z"
   },
   {
    "duration": 36,
    "start_time": "2023-04-07T15:50:27.397Z"
   },
   {
    "duration": 34,
    "start_time": "2023-04-07T15:50:35.444Z"
   },
   {
    "duration": 55,
    "start_time": "2023-04-07T15:53:42.428Z"
   },
   {
    "duration": 148,
    "start_time": "2023-04-07T15:56:06.147Z"
   },
   {
    "duration": 60,
    "start_time": "2023-04-07T15:56:17.859Z"
   },
   {
    "duration": 53,
    "start_time": "2023-04-07T15:56:31.619Z"
   },
   {
    "duration": 66,
    "start_time": "2023-04-07T15:57:03.164Z"
   },
   {
    "duration": 2689,
    "start_time": "2023-04-09T07:45:09.667Z"
   },
   {
    "duration": 1838,
    "start_time": "2023-04-09T07:45:12.359Z"
   },
   {
    "duration": 3113,
    "start_time": "2023-04-09T07:45:14.199Z"
   },
   {
    "duration": 114,
    "start_time": "2023-04-09T07:45:17.314Z"
   },
   {
    "duration": 141,
    "start_time": "2023-04-09T07:45:17.440Z"
   },
   {
    "duration": 15,
    "start_time": "2023-04-09T07:45:17.582Z"
   },
   {
    "duration": 283,
    "start_time": "2023-04-09T07:45:17.599Z"
   },
   {
    "duration": 129,
    "start_time": "2023-04-09T07:45:17.884Z"
   },
   {
    "duration": 5530,
    "start_time": "2023-04-09T07:45:18.015Z"
   },
   {
    "duration": 138,
    "start_time": "2023-04-09T07:45:23.547Z"
   },
   {
    "duration": 627,
    "start_time": "2023-04-09T07:45:23.687Z"
   },
   {
    "duration": 1634,
    "start_time": "2023-04-09T07:45:24.317Z"
   },
   {
    "duration": 517,
    "start_time": "2023-04-09T07:45:25.953Z"
   },
   {
    "duration": 48,
    "start_time": "2023-04-09T07:45:26.473Z"
   },
   {
    "duration": 86,
    "start_time": "2023-04-09T07:45:26.523Z"
   },
   {
    "duration": 86,
    "start_time": "2023-04-09T07:45:26.612Z"
   },
   {
    "duration": 16,
    "start_time": "2023-04-09T07:45:26.701Z"
   },
   {
    "duration": 91,
    "start_time": "2023-04-09T07:45:26.722Z"
   },
   {
    "duration": 144,
    "start_time": "2023-04-09T07:45:26.815Z"
   },
   {
    "duration": 75,
    "start_time": "2023-04-09T07:45:26.961Z"
   },
   {
    "duration": 0,
    "start_time": "2023-04-09T07:45:27.038Z"
   },
   {
    "duration": 133,
    "start_time": "2023-04-09T07:46:58.467Z"
   },
   {
    "duration": 5,
    "start_time": "2023-04-09T07:50:34.758Z"
   },
   {
    "duration": 117,
    "start_time": "2023-04-09T07:51:18.475Z"
   },
   {
    "duration": 13,
    "start_time": "2023-04-09T08:06:05.719Z"
   },
   {
    "duration": 5,
    "start_time": "2023-04-09T08:06:52.943Z"
   },
   {
    "duration": 3,
    "start_time": "2023-04-09T08:07:02.183Z"
   },
   {
    "duration": 108,
    "start_time": "2023-04-09T08:07:16.967Z"
   },
   {
    "duration": 2190,
    "start_time": "2023-04-09T08:08:12.771Z"
   },
   {
    "duration": 1580,
    "start_time": "2023-04-09T08:08:14.963Z"
   },
   {
    "duration": 1062,
    "start_time": "2023-04-09T08:08:16.545Z"
   },
   {
    "duration": 128,
    "start_time": "2023-04-09T08:08:17.608Z"
   },
   {
    "duration": 137,
    "start_time": "2023-04-09T08:08:17.743Z"
   },
   {
    "duration": 25,
    "start_time": "2023-04-09T08:08:17.883Z"
   },
   {
    "duration": 298,
    "start_time": "2023-04-09T08:08:17.913Z"
   },
   {
    "duration": 139,
    "start_time": "2023-04-09T08:08:18.214Z"
   },
   {
    "duration": 5253,
    "start_time": "2023-04-09T08:08:18.355Z"
   },
   {
    "duration": 177,
    "start_time": "2023-04-09T08:08:23.611Z"
   },
   {
    "duration": 470,
    "start_time": "2023-04-09T08:08:23.790Z"
   },
   {
    "duration": 1602,
    "start_time": "2023-04-09T08:08:24.262Z"
   },
   {
    "duration": 623,
    "start_time": "2023-04-09T08:08:25.866Z"
   },
   {
    "duration": 62,
    "start_time": "2023-04-09T08:08:26.493Z"
   },
   {
    "duration": 64,
    "start_time": "2023-04-09T08:08:26.556Z"
   },
   {
    "duration": 71,
    "start_time": "2023-04-09T08:08:26.622Z"
   },
   {
    "duration": 15,
    "start_time": "2023-04-09T08:08:26.694Z"
   },
   {
    "duration": 126,
    "start_time": "2023-04-09T08:08:26.712Z"
   },
   {
    "duration": 151,
    "start_time": "2023-04-09T08:08:26.841Z"
   },
   {
    "duration": 4,
    "start_time": "2023-04-09T08:08:26.994Z"
   },
   {
    "duration": 30,
    "start_time": "2023-04-09T08:08:27.000Z"
   },
   {
    "duration": 309,
    "start_time": "2023-04-09T08:08:27.032Z"
   },
   {
    "duration": 4,
    "start_time": "2023-04-09T08:09:10.622Z"
   },
   {
    "duration": 116,
    "start_time": "2023-04-09T08:09:13.343Z"
   },
   {
    "duration": 4,
    "start_time": "2023-04-09T08:09:28.735Z"
   },
   {
    "duration": 122,
    "start_time": "2023-04-09T08:09:30.862Z"
   },
   {
    "duration": 320,
    "start_time": "2023-04-09T08:13:10.102Z"
   },
   {
    "duration": 2207,
    "start_time": "2023-04-09T08:13:50.705Z"
   },
   {
    "duration": 1606,
    "start_time": "2023-04-09T08:13:52.914Z"
   },
   {
    "duration": 962,
    "start_time": "2023-04-09T08:13:54.522Z"
   },
   {
    "duration": 127,
    "start_time": "2023-04-09T08:13:55.487Z"
   },
   {
    "duration": 126,
    "start_time": "2023-04-09T08:13:55.616Z"
   },
   {
    "duration": 24,
    "start_time": "2023-04-09T08:13:55.744Z"
   },
   {
    "duration": 281,
    "start_time": "2023-04-09T08:13:55.770Z"
   },
   {
    "duration": 144,
    "start_time": "2023-04-09T08:13:56.053Z"
   },
   {
    "duration": 5373,
    "start_time": "2023-04-09T08:13:56.200Z"
   },
   {
    "duration": 132,
    "start_time": "2023-04-09T08:14:01.576Z"
   },
   {
    "duration": 495,
    "start_time": "2023-04-09T08:14:01.710Z"
   },
   {
    "duration": 1419,
    "start_time": "2023-04-09T08:14:02.208Z"
   },
   {
    "duration": 598,
    "start_time": "2023-04-09T08:14:03.628Z"
   },
   {
    "duration": 53,
    "start_time": "2023-04-09T08:14:04.227Z"
   },
   {
    "duration": 61,
    "start_time": "2023-04-09T08:14:04.282Z"
   },
   {
    "duration": 62,
    "start_time": "2023-04-09T08:14:04.345Z"
   },
   {
    "duration": 13,
    "start_time": "2023-04-09T08:14:04.409Z"
   },
   {
    "duration": 87,
    "start_time": "2023-04-09T08:14:04.424Z"
   },
   {
    "duration": 111,
    "start_time": "2023-04-09T08:14:04.514Z"
   },
   {
    "duration": 4,
    "start_time": "2023-04-09T08:14:04.627Z"
   },
   {
    "duration": 13,
    "start_time": "2023-04-09T08:14:04.632Z"
   },
   {
    "duration": 414,
    "start_time": "2023-04-09T08:14:44.620Z"
   },
   {
    "duration": 276,
    "start_time": "2023-04-09T08:18:39.202Z"
   },
   {
    "duration": 266,
    "start_time": "2023-04-09T08:18:48.877Z"
   },
   {
    "duration": 333,
    "start_time": "2023-04-09T08:19:16.147Z"
   },
   {
    "duration": 260,
    "start_time": "2023-04-09T08:20:29.618Z"
   },
   {
    "duration": 2320,
    "start_time": "2023-04-09T08:23:05.727Z"
   },
   {
    "duration": 1600,
    "start_time": "2023-04-09T08:23:08.050Z"
   },
   {
    "duration": 993,
    "start_time": "2023-04-09T08:23:09.653Z"
   },
   {
    "duration": 130,
    "start_time": "2023-04-09T08:23:10.648Z"
   },
   {
    "duration": 150,
    "start_time": "2023-04-09T08:23:10.781Z"
   },
   {
    "duration": 25,
    "start_time": "2023-04-09T08:23:10.933Z"
   },
   {
    "duration": 282,
    "start_time": "2023-04-09T08:23:10.960Z"
   },
   {
    "duration": 166,
    "start_time": "2023-04-09T08:23:11.244Z"
   },
   {
    "duration": 5598,
    "start_time": "2023-04-09T08:23:11.412Z"
   },
   {
    "duration": 141,
    "start_time": "2023-04-09T08:23:17.013Z"
   },
   {
    "duration": 510,
    "start_time": "2023-04-09T08:23:17.156Z"
   },
   {
    "duration": 1425,
    "start_time": "2023-04-09T08:23:17.668Z"
   },
   {
    "duration": 603,
    "start_time": "2023-04-09T08:23:19.095Z"
   },
   {
    "duration": 71,
    "start_time": "2023-04-09T08:23:19.700Z"
   },
   {
    "duration": 76,
    "start_time": "2023-04-09T08:23:19.774Z"
   },
   {
    "duration": 73,
    "start_time": "2023-04-09T08:23:19.852Z"
   },
   {
    "duration": 14,
    "start_time": "2023-04-09T08:23:19.942Z"
   },
   {
    "duration": 67,
    "start_time": "2023-04-09T08:23:19.958Z"
   },
   {
    "duration": 15,
    "start_time": "2023-04-09T08:23:20.027Z"
   },
   {
    "duration": 26,
    "start_time": "2023-04-09T08:23:20.044Z"
   },
   {
    "duration": 273,
    "start_time": "2023-04-09T08:23:26.675Z"
   },
   {
    "duration": 4,
    "start_time": "2023-04-09T08:24:01.230Z"
   },
   {
    "duration": 271,
    "start_time": "2023-04-09T08:24:03.267Z"
   },
   {
    "duration": 16,
    "start_time": "2023-04-09T08:28:45.866Z"
   },
   {
    "duration": 2207,
    "start_time": "2023-04-09T08:30:31.748Z"
   },
   {
    "duration": 1577,
    "start_time": "2023-04-09T08:30:33.957Z"
   },
   {
    "duration": 984,
    "start_time": "2023-04-09T08:30:35.536Z"
   },
   {
    "duration": 139,
    "start_time": "2023-04-09T08:30:36.522Z"
   },
   {
    "duration": 125,
    "start_time": "2023-04-09T08:30:36.664Z"
   },
   {
    "duration": 15,
    "start_time": "2023-04-09T08:30:36.790Z"
   },
   {
    "duration": 298,
    "start_time": "2023-04-09T08:30:36.807Z"
   },
   {
    "duration": 115,
    "start_time": "2023-04-09T08:30:37.108Z"
   },
   {
    "duration": 5230,
    "start_time": "2023-04-09T08:30:37.225Z"
   },
   {
    "duration": 124,
    "start_time": "2023-04-09T08:30:42.458Z"
   },
   {
    "duration": 458,
    "start_time": "2023-04-09T08:30:42.585Z"
   },
   {
    "duration": 1410,
    "start_time": "2023-04-09T08:30:43.045Z"
   },
   {
    "duration": 577,
    "start_time": "2023-04-09T08:30:44.457Z"
   },
   {
    "duration": 51,
    "start_time": "2023-04-09T08:30:45.035Z"
   },
   {
    "duration": 71,
    "start_time": "2023-04-09T08:30:45.088Z"
   },
   {
    "duration": 50,
    "start_time": "2023-04-09T08:30:45.160Z"
   },
   {
    "duration": 34,
    "start_time": "2023-04-09T08:30:45.212Z"
   },
   {
    "duration": 62,
    "start_time": "2023-04-09T08:30:45.248Z"
   },
   {
    "duration": 2,
    "start_time": "2023-04-09T08:30:45.312Z"
   },
   {
    "duration": 25,
    "start_time": "2023-04-09T08:30:45.316Z"
   },
   {
    "duration": 3,
    "start_time": "2023-04-09T08:31:18.705Z"
   },
   {
    "duration": 113,
    "start_time": "2023-04-09T08:31:53.489Z"
   },
   {
    "duration": 2419,
    "start_time": "2023-04-09T08:41:41.235Z"
   },
   {
    "duration": 1723,
    "start_time": "2023-04-09T08:41:43.656Z"
   },
   {
    "duration": 1018,
    "start_time": "2023-04-09T08:41:45.380Z"
   },
   {
    "duration": 141,
    "start_time": "2023-04-09T08:41:46.400Z"
   },
   {
    "duration": 134,
    "start_time": "2023-04-09T08:41:46.543Z"
   },
   {
    "duration": 25,
    "start_time": "2023-04-09T08:41:46.681Z"
   },
   {
    "duration": 300,
    "start_time": "2023-04-09T08:41:46.708Z"
   },
   {
    "duration": 114,
    "start_time": "2023-04-09T08:41:47.011Z"
   },
   {
    "duration": 5335,
    "start_time": "2023-04-09T08:41:47.127Z"
   },
   {
    "duration": 140,
    "start_time": "2023-04-09T08:41:52.464Z"
   },
   {
    "duration": 509,
    "start_time": "2023-04-09T08:41:52.607Z"
   },
   {
    "duration": 1431,
    "start_time": "2023-04-09T08:41:53.118Z"
   },
   {
    "duration": 579,
    "start_time": "2023-04-09T08:41:54.551Z"
   },
   {
    "duration": 54,
    "start_time": "2023-04-09T08:41:55.141Z"
   },
   {
    "duration": 80,
    "start_time": "2023-04-09T08:41:55.197Z"
   },
   {
    "duration": 64,
    "start_time": "2023-04-09T08:41:55.278Z"
   },
   {
    "duration": 18,
    "start_time": "2023-04-09T08:41:55.346Z"
   },
   {
    "duration": 15,
    "start_time": "2023-04-09T08:41:55.366Z"
   },
   {
    "duration": 10,
    "start_time": "2023-04-09T08:41:55.382Z"
   },
   {
    "duration": 5,
    "start_time": "2023-04-09T08:41:55.394Z"
   },
   {
    "duration": 68,
    "start_time": "2023-04-09T08:41:55.401Z"
   },
   {
    "duration": 180,
    "start_time": "2023-04-09T08:41:55.471Z"
   },
   {
    "duration": 0,
    "start_time": "2023-04-09T08:41:55.653Z"
   },
   {
    "duration": 2304,
    "start_time": "2023-04-09T08:45:05.100Z"
   },
   {
    "duration": 1529,
    "start_time": "2023-04-09T08:45:07.407Z"
   },
   {
    "duration": 903,
    "start_time": "2023-04-09T08:45:08.938Z"
   },
   {
    "duration": 117,
    "start_time": "2023-04-09T08:45:09.843Z"
   },
   {
    "duration": 174,
    "start_time": "2023-04-09T08:45:09.962Z"
   },
   {
    "duration": 17,
    "start_time": "2023-04-09T08:45:10.141Z"
   },
   {
    "duration": 289,
    "start_time": "2023-04-09T08:45:10.160Z"
   },
   {
    "duration": 114,
    "start_time": "2023-04-09T08:45:10.452Z"
   },
   {
    "duration": 4902,
    "start_time": "2023-04-09T08:45:10.568Z"
   },
   {
    "duration": 129,
    "start_time": "2023-04-09T08:45:15.472Z"
   },
   {
    "duration": 497,
    "start_time": "2023-04-09T08:45:15.603Z"
   },
   {
    "duration": 1287,
    "start_time": "2023-04-09T08:45:16.102Z"
   },
   {
    "duration": 570,
    "start_time": "2023-04-09T08:45:17.391Z"
   },
   {
    "duration": 46,
    "start_time": "2023-04-09T08:45:17.964Z"
   },
   {
    "duration": 66,
    "start_time": "2023-04-09T08:45:18.011Z"
   },
   {
    "duration": 64,
    "start_time": "2023-04-09T08:45:18.079Z"
   },
   {
    "duration": 16,
    "start_time": "2023-04-09T08:45:18.145Z"
   },
   {
    "duration": 81,
    "start_time": "2023-04-09T08:45:18.163Z"
   },
   {
    "duration": 3,
    "start_time": "2023-04-09T08:45:18.246Z"
   },
   {
    "duration": 38,
    "start_time": "2023-04-09T08:45:18.251Z"
   },
   {
    "duration": 51,
    "start_time": "2023-04-09T08:45:18.292Z"
   },
   {
    "duration": 550,
    "start_time": "2023-04-09T08:45:18.345Z"
   },
   {
    "duration": 13980,
    "start_time": "2023-04-09T08:45:18.897Z"
   },
   {
    "duration": 0,
    "start_time": "2023-04-09T08:45:32.880Z"
   },
   {
    "duration": 455,
    "start_time": "2023-04-09T08:49:36.581Z"
   },
   {
    "duration": 2217,
    "start_time": "2023-04-09T11:05:36.316Z"
   },
   {
    "duration": 1578,
    "start_time": "2023-04-09T11:05:38.536Z"
   },
   {
    "duration": 986,
    "start_time": "2023-04-09T11:05:40.115Z"
   },
   {
    "duration": 161,
    "start_time": "2023-04-09T11:05:41.103Z"
   },
   {
    "duration": 129,
    "start_time": "2023-04-09T11:05:41.267Z"
   },
   {
    "duration": 16,
    "start_time": "2023-04-09T11:05:41.397Z"
   },
   {
    "duration": 325,
    "start_time": "2023-04-09T11:05:41.416Z"
   },
   {
    "duration": 109,
    "start_time": "2023-04-09T11:05:41.743Z"
   },
   {
    "duration": 5519,
    "start_time": "2023-04-09T11:05:41.854Z"
   },
   {
    "duration": 133,
    "start_time": "2023-04-09T11:05:47.375Z"
   },
   {
    "duration": 481,
    "start_time": "2023-04-09T11:05:47.509Z"
   },
   {
    "duration": 1348,
    "start_time": "2023-04-09T11:05:47.993Z"
   },
   {
    "duration": 574,
    "start_time": "2023-04-09T11:05:49.343Z"
   },
   {
    "duration": 58,
    "start_time": "2023-04-09T11:05:49.920Z"
   },
   {
    "duration": 65,
    "start_time": "2023-04-09T11:05:49.980Z"
   },
   {
    "duration": 64,
    "start_time": "2023-04-09T11:05:50.046Z"
   },
   {
    "duration": 14,
    "start_time": "2023-04-09T11:05:50.112Z"
   },
   {
    "duration": 75,
    "start_time": "2023-04-09T11:05:50.128Z"
   },
   {
    "duration": 3,
    "start_time": "2023-04-09T11:05:50.205Z"
   },
   {
    "duration": 15,
    "start_time": "2023-04-09T11:05:50.209Z"
   },
   {
    "duration": 29,
    "start_time": "2023-04-09T11:05:50.225Z"
   },
   {
    "duration": 528,
    "start_time": "2023-04-09T11:05:50.257Z"
   },
   {
    "duration": 210,
    "start_time": "2023-04-09T11:05:50.787Z"
   },
   {
    "duration": 3,
    "start_time": "2023-04-09T11:05:50.999Z"
   },
   {
    "duration": 14895,
    "start_time": "2023-04-09T11:44:53.448Z"
   },
   {
    "duration": 5899,
    "start_time": "2023-04-09T11:45:08.345Z"
   },
   {
    "duration": 7096,
    "start_time": "2023-04-09T11:45:14.246Z"
   },
   {
    "duration": 1195,
    "start_time": "2023-04-09T11:45:21.345Z"
   },
   {
    "duration": 790,
    "start_time": "2023-04-09T11:45:22.550Z"
   },
   {
    "duration": 203,
    "start_time": "2023-04-09T11:45:23.349Z"
   },
   {
    "duration": 624,
    "start_time": "2023-04-09T11:45:23.554Z"
   },
   {
    "duration": 262,
    "start_time": "2023-04-09T11:45:24.180Z"
   },
   {
    "duration": 37695,
    "start_time": "2023-04-09T11:45:24.445Z"
   },
   {
    "duration": 94,
    "start_time": "2023-04-09T11:46:02.148Z"
   },
   {
    "duration": 1000,
    "start_time": "2023-04-09T11:46:02.251Z"
   },
   {
    "duration": 1111,
    "start_time": "2023-04-09T11:46:03.254Z"
   },
   {
    "duration": 7576,
    "start_time": "2023-04-09T11:46:04.369Z"
   },
   {
    "duration": 3299,
    "start_time": "2023-04-09T11:46:11.947Z"
   },
   {
    "duration": 503,
    "start_time": "2023-04-09T11:46:15.346Z"
   },
   {
    "duration": 606,
    "start_time": "2023-04-09T11:46:15.940Z"
   },
   {
    "duration": 410,
    "start_time": "2023-04-09T11:46:16.641Z"
   },
   {
    "duration": 96,
    "start_time": "2023-04-09T11:46:17.150Z"
   },
   {
    "duration": 131,
    "start_time": "2023-04-09T11:46:17.248Z"
   },
   {
    "duration": 4,
    "start_time": "2023-04-09T11:46:17.382Z"
   },
   {
    "duration": 159,
    "start_time": "2023-04-09T11:46:17.388Z"
   },
   {
    "duration": 19,
    "start_time": "2023-04-09T11:46:17.549Z"
   },
   {
    "duration": 1683,
    "start_time": "2023-04-09T11:46:17.570Z"
   },
   {
    "duration": 1800,
    "start_time": "2023-04-09T11:46:19.442Z"
   },
   {
    "duration": 4,
    "start_time": "2023-04-09T11:46:21.243Z"
   },
   {
    "duration": 28580127,
    "start_time": "2023-04-09T11:46:21.248Z"
   },
   {
    "duration": 410,
    "start_time": "2023-04-09T19:42:41.449Z"
   },
   {
    "duration": 23181607,
    "start_time": "2023-04-09T19:42:41.865Z"
   },
   {
    "duration": 371584,
    "start_time": "2023-04-10T02:09:03.475Z"
   },
   {
    "duration": 2874,
    "start_time": "2023-04-10T07:36:01.079Z"
   },
   {
    "duration": 1891,
    "start_time": "2023-04-10T07:36:03.956Z"
   },
   {
    "duration": 3125,
    "start_time": "2023-04-10T07:36:05.849Z"
   },
   {
    "duration": 149,
    "start_time": "2023-04-10T07:36:08.976Z"
   },
   {
    "duration": 108,
    "start_time": "2023-04-10T07:36:09.127Z"
   },
   {
    "duration": 15,
    "start_time": "2023-04-10T07:36:09.237Z"
   },
   {
    "duration": 262,
    "start_time": "2023-04-10T07:36:09.254Z"
   },
   {
    "duration": 134,
    "start_time": "2023-04-10T07:36:09.518Z"
   },
   {
    "duration": 5540,
    "start_time": "2023-04-10T07:36:09.653Z"
   },
   {
    "duration": 2,
    "start_time": "2023-04-10T07:36:15.196Z"
   },
   {
    "duration": 140,
    "start_time": "2023-04-10T07:36:15.201Z"
   },
   {
    "duration": 450,
    "start_time": "2023-04-10T07:36:15.343Z"
   },
   {
    "duration": 1516,
    "start_time": "2023-04-10T07:36:15.796Z"
   },
   {
    "duration": 555,
    "start_time": "2023-04-10T07:36:17.315Z"
   },
   {
    "duration": 51,
    "start_time": "2023-04-10T07:36:17.872Z"
   },
   {
    "duration": 78,
    "start_time": "2023-04-10T07:36:17.925Z"
   },
   {
    "duration": 58,
    "start_time": "2023-04-10T07:36:18.004Z"
   },
   {
    "duration": 11,
    "start_time": "2023-04-10T07:36:18.063Z"
   },
   {
    "duration": 74,
    "start_time": "2023-04-10T07:36:18.076Z"
   },
   {
    "duration": 3,
    "start_time": "2023-04-10T07:36:18.152Z"
   },
   {
    "duration": 14,
    "start_time": "2023-04-10T07:36:18.157Z"
   },
   {
    "duration": 31,
    "start_time": "2023-04-10T07:36:18.172Z"
   },
   {
    "duration": 481,
    "start_time": "2023-04-10T07:36:18.205Z"
   },
   {
    "duration": 214,
    "start_time": "2023-04-10T07:36:18.689Z"
   },
   {
    "duration": 3438,
    "start_time": "2023-04-10T07:36:46.941Z"
   },
   {
    "duration": 393,
    "start_time": "2023-04-10T07:36:59.887Z"
   },
   {
    "duration": 14805,
    "start_time": "2023-04-10T07:42:07.126Z"
   },
   {
    "duration": 363,
    "start_time": "2023-04-10T07:42:35.821Z"
   },
   {
    "duration": 416,
    "start_time": "2023-04-10T07:42:36.813Z"
   },
   {
    "duration": 17608,
    "start_time": "2023-04-10T07:43:31.687Z"
   },
   {
    "duration": 164,
    "start_time": "2023-04-10T07:43:55.478Z"
   },
   {
    "duration": 156,
    "start_time": "2023-04-10T07:44:29.782Z"
   },
   {
    "duration": 11,
    "start_time": "2023-04-10T07:46:33.599Z"
   },
   {
    "duration": 18,
    "start_time": "2023-04-10T07:46:43.918Z"
   },
   {
    "duration": 18,
    "start_time": "2023-04-10T07:47:40.278Z"
   },
   {
    "duration": 2307,
    "start_time": "2023-04-10T07:54:24.657Z"
   },
   {
    "duration": 1526,
    "start_time": "2023-04-10T07:54:26.967Z"
   },
   {
    "duration": 826,
    "start_time": "2023-04-10T07:54:28.494Z"
   },
   {
    "duration": 137,
    "start_time": "2023-04-10T07:54:29.322Z"
   },
   {
    "duration": 127,
    "start_time": "2023-04-10T07:54:29.462Z"
   },
   {
    "duration": 21,
    "start_time": "2023-04-10T07:54:29.590Z"
   },
   {
    "duration": 288,
    "start_time": "2023-04-10T07:54:29.614Z"
   },
   {
    "duration": 151,
    "start_time": "2023-04-10T07:54:29.904Z"
   },
   {
    "duration": 5324,
    "start_time": "2023-04-10T07:54:30.057Z"
   },
   {
    "duration": 3,
    "start_time": "2023-04-10T07:54:35.388Z"
   },
   {
    "duration": 159,
    "start_time": "2023-04-10T07:54:35.393Z"
   },
   {
    "duration": 448,
    "start_time": "2023-04-10T07:54:35.554Z"
   },
   {
    "duration": 1422,
    "start_time": "2023-04-10T07:54:36.003Z"
   },
   {
    "duration": 536,
    "start_time": "2023-04-10T07:54:37.429Z"
   },
   {
    "duration": 48,
    "start_time": "2023-04-10T07:54:37.967Z"
   },
   {
    "duration": 79,
    "start_time": "2023-04-10T07:54:38.017Z"
   },
   {
    "duration": 54,
    "start_time": "2023-04-10T07:54:38.098Z"
   },
   {
    "duration": 34,
    "start_time": "2023-04-10T07:54:38.154Z"
   },
   {
    "duration": 563,
    "start_time": "2023-04-10T07:54:38.190Z"
   },
   {
    "duration": 306,
    "start_time": "2023-04-10T07:54:38.755Z"
   },
   {
    "duration": 2,
    "start_time": "2023-04-10T07:54:39.063Z"
   },
   {
    "duration": 10,
    "start_time": "2023-04-10T07:54:39.067Z"
   },
   {
    "duration": 10,
    "start_time": "2023-04-10T07:54:39.078Z"
   },
   {
    "duration": 128,
    "start_time": "2023-04-10T07:54:39.091Z"
   },
   {
    "duration": 3371,
    "start_time": "2023-04-10T07:56:10.746Z"
   },
   {
    "duration": 153,
    "start_time": "2023-04-10T07:56:16.732Z"
   },
   {
    "duration": 23970,
    "start_time": "2023-04-10T07:56:33.626Z"
   },
   {
    "duration": 158,
    "start_time": "2023-04-10T07:57:04.732Z"
   },
   {
    "duration": 5726,
    "start_time": "2023-04-10T07:58:26.162Z"
   },
   {
    "duration": 26288,
    "start_time": "2023-04-10T07:58:39.011Z"
   },
   {
    "duration": 6229,
    "start_time": "2023-04-10T07:59:25.060Z"
   },
   {
    "duration": 179,
    "start_time": "2023-04-10T07:59:38.226Z"
   },
   {
    "duration": 2462,
    "start_time": "2023-04-10T08:00:46.786Z"
   },
   {
    "duration": 102,
    "start_time": "2023-04-10T08:00:52.595Z"
   },
   {
    "duration": 4,
    "start_time": "2023-04-10T08:09:31.138Z"
   },
   {
    "duration": 4,
    "start_time": "2023-04-10T08:09:48.607Z"
   },
   {
    "duration": 3858,
    "start_time": "2023-04-10T08:09:55.618Z"
   },
   {
    "duration": 177,
    "start_time": "2023-04-10T08:10:01.865Z"
   },
   {
    "duration": 2751,
    "start_time": "2023-04-10T08:11:08.913Z"
   },
   {
    "duration": 1737,
    "start_time": "2023-04-10T08:11:11.666Z"
   },
   {
    "duration": 1068,
    "start_time": "2023-04-10T08:11:13.405Z"
   },
   {
    "duration": 187,
    "start_time": "2023-04-10T08:11:14.474Z"
   },
   {
    "duration": 197,
    "start_time": "2023-04-10T08:11:14.664Z"
   },
   {
    "duration": 47,
    "start_time": "2023-04-10T08:11:14.863Z"
   },
   {
    "duration": 397,
    "start_time": "2023-04-10T08:11:14.913Z"
   },
   {
    "duration": 156,
    "start_time": "2023-04-10T08:11:15.313Z"
   },
   {
    "duration": 6346,
    "start_time": "2023-04-10T08:11:15.471Z"
   },
   {
    "duration": 3,
    "start_time": "2023-04-10T08:11:21.820Z"
   },
   {
    "duration": 159,
    "start_time": "2023-04-10T08:11:21.825Z"
   },
   {
    "duration": 467,
    "start_time": "2023-04-10T08:11:21.989Z"
   },
   {
    "duration": 1449,
    "start_time": "2023-04-10T08:11:22.458Z"
   },
   {
    "duration": 580,
    "start_time": "2023-04-10T08:11:23.910Z"
   },
   {
    "duration": 47,
    "start_time": "2023-04-10T08:11:24.491Z"
   },
   {
    "duration": 83,
    "start_time": "2023-04-10T08:11:24.541Z"
   },
   {
    "duration": 70,
    "start_time": "2023-04-10T08:11:24.626Z"
   },
   {
    "duration": 14,
    "start_time": "2023-04-10T08:11:24.699Z"
   },
   {
    "duration": 549,
    "start_time": "2023-04-10T08:11:24.715Z"
   },
   {
    "duration": 329,
    "start_time": "2023-04-10T08:11:25.266Z"
   },
   {
    "duration": 4,
    "start_time": "2023-04-10T08:11:25.603Z"
   },
   {
    "duration": 167,
    "start_time": "2023-04-10T08:11:32.737Z"
   },
   {
    "duration": 3679,
    "start_time": "2023-04-10T08:11:40.832Z"
   },
   {
    "duration": 160,
    "start_time": "2023-04-10T08:11:46.906Z"
   },
   {
    "duration": 45116,
    "start_time": "2023-04-10T08:11:49.376Z"
   },
   {
    "duration": 88,
    "start_time": "2023-04-10T08:12:37.312Z"
   },
   {
    "duration": 84,
    "start_time": "2023-04-10T08:12:59.211Z"
   },
   {
    "duration": 6207,
    "start_time": "2023-04-10T08:12:59.298Z"
   },
   {
    "duration": 207,
    "start_time": "2023-04-10T08:13:05.507Z"
   },
   {
    "duration": 2661,
    "start_time": "2023-04-10T08:13:05.790Z"
   },
   {
    "duration": 112,
    "start_time": "2023-04-10T08:13:08.453Z"
   },
   {
    "duration": 2544,
    "start_time": "2023-04-10T08:13:34.757Z"
   },
   {
    "duration": 1610,
    "start_time": "2023-04-10T08:13:37.306Z"
   },
   {
    "duration": 948,
    "start_time": "2023-04-10T08:13:38.918Z"
   },
   {
    "duration": 226,
    "start_time": "2023-04-10T08:13:39.868Z"
   },
   {
    "duration": 113,
    "start_time": "2023-04-10T08:13:40.096Z"
   },
   {
    "duration": 14,
    "start_time": "2023-04-10T08:13:40.211Z"
   },
   {
    "duration": 322,
    "start_time": "2023-04-10T08:13:40.226Z"
   },
   {
    "duration": 186,
    "start_time": "2023-04-10T08:13:40.554Z"
   },
   {
    "duration": 2555,
    "start_time": "2023-04-10T08:13:47.325Z"
   },
   {
    "duration": 1718,
    "start_time": "2023-04-10T08:13:49.882Z"
   },
   {
    "duration": 1040,
    "start_time": "2023-04-10T08:13:51.603Z"
   },
   {
    "duration": 180,
    "start_time": "2023-04-10T08:13:52.646Z"
   },
   {
    "duration": 122,
    "start_time": "2023-04-10T08:13:52.828Z"
   },
   {
    "duration": 16,
    "start_time": "2023-04-10T08:13:52.952Z"
   },
   {
    "duration": 340,
    "start_time": "2023-04-10T08:13:52.970Z"
   },
   {
    "duration": 137,
    "start_time": "2023-04-10T08:13:53.311Z"
   },
   {
    "duration": 6252,
    "start_time": "2023-04-10T08:13:53.450Z"
   },
   {
    "duration": 4,
    "start_time": "2023-04-10T08:13:59.704Z"
   },
   {
    "duration": 164,
    "start_time": "2023-04-10T08:13:59.710Z"
   },
   {
    "duration": 567,
    "start_time": "2023-04-10T08:13:59.876Z"
   },
   {
    "duration": 1634,
    "start_time": "2023-04-10T08:14:00.448Z"
   },
   {
    "duration": 665,
    "start_time": "2023-04-10T08:14:02.084Z"
   },
   {
    "duration": 68,
    "start_time": "2023-04-10T08:14:02.751Z"
   },
   {
    "duration": 86,
    "start_time": "2023-04-10T08:14:02.821Z"
   },
   {
    "duration": 67,
    "start_time": "2023-04-10T08:14:02.909Z"
   },
   {
    "duration": 20,
    "start_time": "2023-04-10T08:14:02.978Z"
   },
   {
    "duration": 577,
    "start_time": "2023-04-10T08:14:03.006Z"
   },
   {
    "duration": 332,
    "start_time": "2023-04-10T08:14:03.585Z"
   },
   {
    "duration": 5,
    "start_time": "2023-04-10T08:14:03.919Z"
   },
   {
    "duration": 17,
    "start_time": "2023-04-10T08:14:03.926Z"
   },
   {
    "duration": 16,
    "start_time": "2023-04-10T08:14:03.945Z"
   },
   {
    "duration": 169,
    "start_time": "2023-04-10T08:14:03.963Z"
   },
   {
    "duration": 3,
    "start_time": "2023-04-10T08:14:04.134Z"
   },
   {
    "duration": 5719460,
    "start_time": "2023-04-10T08:14:04.139Z"
   },
   {
    "duration": 12337141,
    "start_time": "2023-04-10T09:49:23.601Z"
   },
   {
    "duration": 9003167,
    "start_time": "2023-04-10T13:15:00.744Z"
   },
   {
    "duration": 364888,
    "start_time": "2023-04-10T15:45:03.915Z"
   },
   {
    "duration": 4401,
    "start_time": "2023-04-10T15:51:08.806Z"
   },
   {
    "duration": 184,
    "start_time": "2023-04-10T15:51:13.214Z"
   },
   {
    "duration": 86047,
    "start_time": "2023-04-10T15:51:13.400Z"
   },
   {
    "duration": 212,
    "start_time": "2023-04-10T15:52:39.498Z"
   },
   {
    "duration": 6393,
    "start_time": "2023-04-10T15:52:39.724Z"
   },
   {
    "duration": 265,
    "start_time": "2023-04-10T15:52:46.128Z"
   },
   {
    "duration": 3050,
    "start_time": "2023-04-10T15:52:46.395Z"
   },
   {
    "duration": 117,
    "start_time": "2023-04-10T15:52:49.447Z"
   },
   {
    "duration": 240095,
    "start_time": "2023-04-10T16:00:38.942Z"
   },
   {
    "duration": 556,
    "start_time": "2023-04-10T16:04:39.042Z"
   },
   {
    "duration": 81052,
    "start_time": "2023-04-10T16:04:39.608Z"
   },
   {
    "duration": 207,
    "start_time": "2023-04-10T16:06:00.693Z"
   },
   {
    "duration": 209105,
    "start_time": "2023-04-10T16:06:00.907Z"
   },
   {
    "duration": 499,
    "start_time": "2023-04-10T16:09:30.015Z"
   },
   {
    "duration": 139571,
    "start_time": "2023-04-10T16:09:30.524Z"
   },
   {
    "duration": 460,
    "start_time": "2023-04-10T16:11:50.101Z"
   },
   {
    "duration": 8,
    "start_time": "2023-04-10T16:11:50.564Z"
   },
   {
    "duration": 1956,
    "start_time": "2023-04-11T08:52:13.106Z"
   },
   {
    "duration": 2532,
    "start_time": "2023-04-11T08:52:15.064Z"
   },
   {
    "duration": 120,
    "start_time": "2023-04-11T08:52:17.598Z"
   },
   {
    "duration": 102,
    "start_time": "2023-04-11T08:52:17.720Z"
   },
   {
    "duration": 13,
    "start_time": "2023-04-11T08:52:17.824Z"
   },
   {
    "duration": 322,
    "start_time": "2023-04-11T08:53:07.345Z"
   },
   {
    "duration": 129,
    "start_time": "2023-04-11T08:53:07.789Z"
   },
   {
    "duration": 4997,
    "start_time": "2023-04-11T08:53:12.804Z"
   },
   {
    "duration": 115,
    "start_time": "2023-04-11T08:53:42.985Z"
   },
   {
    "duration": 429,
    "start_time": "2023-04-11T08:54:03.305Z"
   },
   {
    "duration": 436,
    "start_time": "2023-04-11T08:54:52.957Z"
   },
   {
    "duration": 45,
    "start_time": "2023-04-11T08:56:24.206Z"
   },
   {
    "duration": 62,
    "start_time": "2023-04-11T08:56:51.368Z"
   },
   {
    "duration": 50,
    "start_time": "2023-04-11T08:56:52.905Z"
   },
   {
    "duration": 153,
    "start_time": "2023-04-11T08:57:05.009Z"
   },
   {
    "duration": 12,
    "start_time": "2023-04-11T08:58:08.106Z"
   },
   {
    "duration": 441,
    "start_time": "2023-04-11T08:58:22.125Z"
   },
   {
    "duration": 210,
    "start_time": "2023-04-11T08:58:38.757Z"
   },
   {
    "duration": 3,
    "start_time": "2023-04-11T08:59:22.985Z"
   },
   {
    "duration": 24,
    "start_time": "2023-04-11T08:59:31.203Z"
   },
   {
    "duration": 212,
    "start_time": "2023-04-11T08:59:39.624Z"
   },
   {
    "duration": 6112,
    "start_time": "2023-04-11T14:23:57.500Z"
   },
   {
    "duration": 1943,
    "start_time": "2023-04-11T14:24:51.847Z"
   },
   {
    "duration": 4688,
    "start_time": "2023-04-11T14:26:23.207Z"
   },
   {
    "duration": 1771,
    "start_time": "2023-04-11T14:26:27.898Z"
   },
   {
    "duration": 3769,
    "start_time": "2023-04-11T14:26:29.671Z"
   },
   {
    "duration": 197,
    "start_time": "2023-04-11T14:26:33.442Z"
   },
   {
    "duration": 186,
    "start_time": "2023-04-11T14:26:33.642Z"
   },
   {
    "duration": 16,
    "start_time": "2023-04-11T14:26:33.834Z"
   },
   {
    "duration": 354,
    "start_time": "2023-04-11T14:26:33.852Z"
   },
   {
    "duration": 137,
    "start_time": "2023-04-11T14:26:34.208Z"
   },
   {
    "duration": 5904,
    "start_time": "2023-04-11T14:26:34.347Z"
   },
   {
    "duration": 3,
    "start_time": "2023-04-11T14:26:40.253Z"
   },
   {
    "duration": 166,
    "start_time": "2023-04-11T14:26:40.257Z"
   },
   {
    "duration": 410,
    "start_time": "2023-04-11T14:26:40.425Z"
   },
   {
    "duration": 1488,
    "start_time": "2023-04-11T14:26:40.836Z"
   },
   {
    "duration": 503,
    "start_time": "2023-04-11T14:26:42.327Z"
   },
   {
    "duration": 45,
    "start_time": "2023-04-11T14:31:18.491Z"
   },
   {
    "duration": 4413,
    "start_time": "2023-04-11T14:31:28.823Z"
   },
   {
    "duration": 1427,
    "start_time": "2023-04-11T14:31:33.239Z"
   },
   {
    "duration": 2895,
    "start_time": "2023-04-11T14:31:34.668Z"
   },
   {
    "duration": 119,
    "start_time": "2023-04-11T14:31:37.565Z"
   },
   {
    "duration": 96,
    "start_time": "2023-04-11T14:31:37.686Z"
   },
   {
    "duration": 13,
    "start_time": "2023-04-11T14:31:37.784Z"
   },
   {
    "duration": 266,
    "start_time": "2023-04-11T14:31:37.799Z"
   },
   {
    "duration": 103,
    "start_time": "2023-04-11T14:31:38.066Z"
   },
   {
    "duration": 4435,
    "start_time": "2023-04-11T14:31:38.178Z"
   },
   {
    "duration": 2,
    "start_time": "2023-04-11T14:31:42.615Z"
   },
   {
    "duration": 120,
    "start_time": "2023-04-11T14:31:42.619Z"
   },
   {
    "duration": 398,
    "start_time": "2023-04-11T14:31:42.740Z"
   },
   {
    "duration": 1217,
    "start_time": "2023-04-11T14:31:43.140Z"
   },
   {
    "duration": 462,
    "start_time": "2023-04-11T14:31:44.359Z"
   },
   {
    "duration": 45,
    "start_time": "2023-04-11T14:43:33.324Z"
   },
   {
    "duration": 2154,
    "start_time": "2023-04-11T14:44:38.611Z"
   },
   {
    "duration": 2125,
    "start_time": "2023-04-11T14:44:40.767Z"
   },
   {
    "duration": 2959,
    "start_time": "2023-04-11T14:44:42.894Z"
   },
   {
    "duration": 122,
    "start_time": "2023-04-11T14:44:45.854Z"
   },
   {
    "duration": 119,
    "start_time": "2023-04-11T14:44:45.978Z"
   },
   {
    "duration": 13,
    "start_time": "2023-04-11T14:44:46.099Z"
   },
   {
    "duration": 251,
    "start_time": "2023-04-11T14:44:46.113Z"
   },
   {
    "duration": 114,
    "start_time": "2023-04-11T14:44:46.366Z"
   },
   {
    "duration": 4688,
    "start_time": "2023-04-11T14:44:46.482Z"
   },
   {
    "duration": 14,
    "start_time": "2023-04-11T14:44:51.172Z"
   },
   {
    "duration": 161,
    "start_time": "2023-04-11T14:44:51.193Z"
   },
   {
    "duration": 403,
    "start_time": "2023-04-11T14:44:51.355Z"
   },
   {
    "duration": 1317,
    "start_time": "2023-04-11T14:44:51.760Z"
   },
   {
    "duration": 449,
    "start_time": "2023-04-11T14:44:53.081Z"
   },
   {
    "duration": 58,
    "start_time": "2023-04-11T14:44:53.532Z"
   },
   {
    "duration": 68,
    "start_time": "2023-04-11T14:44:53.591Z"
   },
   {
    "duration": 48,
    "start_time": "2023-04-11T14:44:53.660Z"
   },
   {
    "duration": 151,
    "start_time": "2023-04-11T14:44:53.709Z"
   },
   {
    "duration": 146,
    "start_time": "2023-04-11T14:48:22.923Z"
   },
   {
    "duration": 48,
    "start_time": "2023-04-11T14:48:39.122Z"
   },
   {
    "duration": 37,
    "start_time": "2023-04-11T14:48:57.390Z"
   },
   {
    "duration": 2559,
    "start_time": "2023-04-12T06:28:39.246Z"
   },
   {
    "duration": 1485,
    "start_time": "2023-04-12T06:28:41.808Z"
   },
   {
    "duration": 964,
    "start_time": "2023-04-12T06:28:43.295Z"
   },
   {
    "duration": 141,
    "start_time": "2023-04-12T06:28:44.261Z"
   },
   {
    "duration": 120,
    "start_time": "2023-04-12T06:28:44.403Z"
   },
   {
    "duration": 27,
    "start_time": "2023-04-12T06:28:44.525Z"
   },
   {
    "duration": 358,
    "start_time": "2023-04-12T06:28:44.554Z"
   },
   {
    "duration": 144,
    "start_time": "2023-04-12T06:28:44.914Z"
   },
   {
    "duration": 5856,
    "start_time": "2023-04-12T06:28:45.060Z"
   },
   {
    "duration": 15,
    "start_time": "2023-04-12T06:28:50.919Z"
   },
   {
    "duration": 143,
    "start_time": "2023-04-12T06:28:50.936Z"
   },
   {
    "duration": 499,
    "start_time": "2023-04-12T06:28:51.081Z"
   },
   {
    "duration": 1481,
    "start_time": "2023-04-12T06:28:51.582Z"
   },
   {
    "duration": 507,
    "start_time": "2023-04-12T06:28:53.065Z"
   },
   {
    "duration": 47,
    "start_time": "2023-04-12T06:28:53.574Z"
   },
   {
    "duration": 153,
    "start_time": "2023-04-12T06:28:53.634Z"
   },
   {
    "duration": 164,
    "start_time": "2023-04-12T06:28:53.789Z"
   },
   {
    "duration": 98,
    "start_time": "2023-04-12T06:28:53.955Z"
   },
   {
    "duration": 83,
    "start_time": "2023-04-12T06:28:54.056Z"
   },
   {
    "duration": 16,
    "start_time": "2023-04-12T06:28:54.141Z"
   },
   {
    "duration": 14,
    "start_time": "2023-04-12T06:28:54.160Z"
   },
   {
    "duration": 8,
    "start_time": "2023-04-12T06:28:54.177Z"
   },
   {
    "duration": 12,
    "start_time": "2023-04-12T06:28:54.188Z"
   },
   {
    "duration": 50,
    "start_time": "2023-04-12T06:29:28.066Z"
   },
   {
    "duration": 19,
    "start_time": "2023-04-12T06:29:33.307Z"
   },
   {
    "duration": 15,
    "start_time": "2023-04-12T06:30:04.976Z"
   },
   {
    "duration": 5,
    "start_time": "2023-04-12T06:30:09.083Z"
   },
   {
    "duration": 134,
    "start_time": "2023-04-12T06:30:29.819Z"
   },
   {
    "duration": 3,
    "start_time": "2023-04-12T06:30:49.624Z"
   },
   {
    "duration": 535,
    "start_time": "2023-04-12T06:30:50.366Z"
   },
   {
    "duration": 146,
    "start_time": "2023-04-12T06:31:23.787Z"
   },
   {
    "duration": 57,
    "start_time": "2023-04-12T06:31:37.306Z"
   },
   {
    "duration": 10,
    "start_time": "2023-04-12T06:31:42.887Z"
   },
   {
    "duration": 18,
    "start_time": "2023-04-12T06:32:01.867Z"
   },
   {
    "duration": 5,
    "start_time": "2023-04-12T06:32:08.948Z"
   },
   {
    "duration": 347,
    "start_time": "2023-04-12T06:32:37.426Z"
   },
   {
    "duration": 79,
    "start_time": "2023-04-12T06:32:46.905Z"
   },
   {
    "duration": 2820,
    "start_time": "2023-04-12T08:11:09.334Z"
   },
   {
    "duration": 1888,
    "start_time": "2023-04-12T08:11:12.157Z"
   },
   {
    "duration": 1337,
    "start_time": "2023-04-12T08:11:14.047Z"
   },
   {
    "duration": 172,
    "start_time": "2023-04-12T08:11:15.387Z"
   },
   {
    "duration": 126,
    "start_time": "2023-04-12T08:11:15.561Z"
   },
   {
    "duration": 28,
    "start_time": "2023-04-12T08:11:15.689Z"
   },
   {
    "duration": 326,
    "start_time": "2023-04-12T08:11:15.724Z"
   },
   {
    "duration": 148,
    "start_time": "2023-04-12T08:11:16.052Z"
   },
   {
    "duration": 6125,
    "start_time": "2023-04-12T08:11:16.202Z"
   },
   {
    "duration": 5,
    "start_time": "2023-04-12T08:11:22.335Z"
   },
   {
    "duration": 128,
    "start_time": "2023-04-12T08:11:22.341Z"
   },
   {
    "duration": 496,
    "start_time": "2023-04-12T08:11:22.471Z"
   },
   {
    "duration": 1427,
    "start_time": "2023-04-12T08:11:22.968Z"
   },
   {
    "duration": 550,
    "start_time": "2023-04-12T08:11:24.400Z"
   },
   {
    "duration": 39,
    "start_time": "2023-04-12T08:11:24.952Z"
   },
   {
    "duration": 151,
    "start_time": "2023-04-12T08:11:24.993Z"
   },
   {
    "duration": 154,
    "start_time": "2023-04-12T08:11:25.146Z"
   },
   {
    "duration": 78,
    "start_time": "2023-04-12T08:11:25.302Z"
   },
   {
    "duration": 59,
    "start_time": "2023-04-12T08:11:25.382Z"
   },
   {
    "duration": 14,
    "start_time": "2023-04-12T08:11:25.443Z"
   },
   {
    "duration": 13,
    "start_time": "2023-04-12T08:11:25.459Z"
   },
   {
    "duration": 5,
    "start_time": "2023-04-12T08:11:25.473Z"
   },
   {
    "duration": 5,
    "start_time": "2023-04-12T08:11:25.479Z"
   },
   {
    "duration": 513,
    "start_time": "2023-04-12T08:11:25.486Z"
   },
   {
    "duration": 2,
    "start_time": "2023-04-12T08:11:26.001Z"
   },
   {
    "duration": 279,
    "start_time": "2023-04-12T08:11:26.013Z"
   },
   {
    "duration": 3,
    "start_time": "2023-04-12T08:11:26.294Z"
   },
   {
    "duration": 140,
    "start_time": "2023-04-12T08:11:26.299Z"
   },
   {
    "duration": 96,
    "start_time": "2023-04-12T08:17:51.565Z"
   },
   {
    "duration": 161345,
    "start_time": "2023-04-12T08:18:12.976Z"
   },
   {
    "duration": 1510,
    "start_time": "2023-04-12T08:20:54.324Z"
   },
   {
    "duration": 169098,
    "start_time": "2023-04-12T08:20:55.837Z"
   },
   {
    "duration": 1547,
    "start_time": "2023-04-12T08:23:44.941Z"
   },
   {
    "duration": 116069,
    "start_time": "2023-04-12T08:23:46.490Z"
   },
   {
    "duration": 1324,
    "start_time": "2023-04-12T08:25:42.561Z"
   },
   {
    "duration": 2216,
    "start_time": "2023-04-12T21:11:40.649Z"
   },
   {
    "duration": 1749,
    "start_time": "2023-04-12T21:11:42.868Z"
   },
   {
    "duration": 2867,
    "start_time": "2023-04-12T21:11:44.619Z"
   },
   {
    "duration": 103,
    "start_time": "2023-04-12T21:11:47.488Z"
   },
   {
    "duration": 96,
    "start_time": "2023-04-12T21:11:47.594Z"
   },
   {
    "duration": 11,
    "start_time": "2023-04-12T21:11:47.692Z"
   },
   {
    "duration": 214,
    "start_time": "2023-04-12T21:11:47.705Z"
   },
   {
    "duration": 102,
    "start_time": "2023-04-12T21:11:47.921Z"
   },
   {
    "duration": 4247,
    "start_time": "2023-04-12T21:11:48.025Z"
   },
   {
    "duration": 3,
    "start_time": "2023-04-12T21:11:52.274Z"
   },
   {
    "duration": 110,
    "start_time": "2023-04-12T21:11:52.278Z"
   },
   {
    "duration": 374,
    "start_time": "2023-04-12T21:11:52.390Z"
   },
   {
    "duration": 1158,
    "start_time": "2023-04-12T21:11:52.766Z"
   },
   {
    "duration": 473,
    "start_time": "2023-04-12T21:11:53.926Z"
   },
   {
    "duration": 40,
    "start_time": "2023-04-12T21:11:54.401Z"
   },
   {
    "duration": 118,
    "start_time": "2023-04-12T21:11:54.442Z"
   },
   {
    "duration": 129,
    "start_time": "2023-04-12T21:11:54.561Z"
   },
   {
    "duration": 45,
    "start_time": "2023-04-12T21:11:54.692Z"
   },
   {
    "duration": 54,
    "start_time": "2023-04-12T21:11:54.739Z"
   },
   {
    "duration": 10,
    "start_time": "2023-04-12T21:11:54.795Z"
   },
   {
    "duration": 7,
    "start_time": "2023-04-12T21:11:54.806Z"
   },
   {
    "duration": 6,
    "start_time": "2023-04-12T21:11:54.814Z"
   },
   {
    "duration": 4,
    "start_time": "2023-04-12T21:11:54.821Z"
   },
   {
    "duration": 332,
    "start_time": "2023-04-12T21:11:54.826Z"
   },
   {
    "duration": 3,
    "start_time": "2023-04-12T21:11:55.159Z"
   },
   {
    "duration": 12,
    "start_time": "2023-04-12T21:11:55.172Z"
   },
   {
    "duration": 14,
    "start_time": "2023-04-12T21:11:55.186Z"
   },
   {
    "duration": 180,
    "start_time": "2023-04-12T21:11:55.202Z"
   },
   {
    "duration": 2,
    "start_time": "2023-04-12T21:11:55.383Z"
   },
   {
    "duration": 125,
    "start_time": "2023-04-12T21:11:55.387Z"
   },
   {
    "duration": 4289,
    "start_time": "2023-04-12T21:13:44.489Z"
   }
  ],
  "kernelspec": {
   "display_name": "Python 3 (ipykernel)",
   "language": "python",
   "name": "python3"
  },
  "language_info": {
   "codemirror_mode": {
    "name": "ipython",
    "version": 3
   },
   "file_extension": ".py",
   "mimetype": "text/x-python",
   "name": "python",
   "nbconvert_exporter": "python",
   "pygments_lexer": "ipython3",
   "version": "3.9.13"
  },
  "toc": {
   "base_numbering": 1,
   "nav_menu": {},
   "number_sections": true,
   "sideBar": true,
   "skip_h1_title": true,
   "title_cell": "Table of Contents",
   "title_sidebar": "Contents",
   "toc_cell": false,
   "toc_position": {},
   "toc_section_display": true,
   "toc_window_display": true
  }
 },
 "nbformat": 4,
 "nbformat_minor": 2
}
