{
 "cells": [
  {
   "cell_type": "markdown",
   "metadata": {},
   "source": [
    "# Выбор локации для скважины"
   ]
  },
  {
   "cell_type": "markdown",
   "metadata": {},
   "source": [
    "Допустим, вы работаете в добывающей компании «ГлавРосГосНефть». Нужно решить, где бурить новую скважину.\n",
    "\n",
    "Вам предоставлены пробы нефти в трёх регионах: в каждом 10 000 месторождений, где измерили качество нефти и объём её запасов. Постройте модель машинного обучения, которая поможет определить регион, где добыча принесёт наибольшую прибыль. Проанализируйте возможную прибыль и риски техникой *Bootstrap.*\n",
    "\n",
    "Шаги для выбора локации:\n",
    "\n",
    "- В избранном регионе ищут месторождения, для каждого определяют значения признаков;\n",
    "- Строят модель и оценивают объём запасов;\n",
    "- Выбирают месторождения с самым высокими оценками значений. Количество месторождений зависит от бюджета компании и стоимости разработки одной скважины;\n",
    "- Прибыль равна суммарной прибыли отобранных месторождений."
   ]
  },
  {
   "cell_type": "markdown",
   "metadata": {},
   "source": [
    "## Загрузка и подготовка данных"
   ]
  },
  {
   "cell_type": "code",
   "execution_count": 1,
   "metadata": {},
   "outputs": [],
   "source": [
    "import pandas as pd\n",
    "import numpy as np\n",
    "import seaborn as sns\n",
    "\n",
    "import matplotlib.pyplot as plt\n",
    "\n",
    "from sklearn.linear_model import LinearRegression\n",
    "from sklearn.preprocessing import StandardScaler\n",
    "from sklearn.model_selection import train_test_split\n",
    "from sklearn.metrics import mean_squared_error"
   ]
  },
  {
   "cell_type": "code",
   "execution_count": 2,
   "metadata": {},
   "outputs": [
    {
     "name": "stdout",
     "output_type": "stream",
     "text": [
      "<class 'pandas.core.frame.DataFrame'>\n",
      "RangeIndex: 100000 entries, 0 to 99999\n",
      "Data columns (total 5 columns):\n",
      " #   Column   Non-Null Count   Dtype  \n",
      "---  ------   --------------   -----  \n",
      " 0   id       100000 non-null  object \n",
      " 1   f0       100000 non-null  float64\n",
      " 2   f1       100000 non-null  float64\n",
      " 3   f2       100000 non-null  float64\n",
      " 4   product  100000 non-null  float64\n",
      "dtypes: float64(4), object(1)\n",
      "memory usage: 3.8+ MB\n"
     ]
    }
   ],
   "source": [
    "geo_data_0 = pd.read_csv('/geo_data_0.csv')\n",
    "geo_data_0.info()"
   ]
  },
  {
   "cell_type": "code",
   "execution_count": null,
   "metadata": {},
   "outputs": [],
   "source": [
    "geo_data_0.head()"
   ]
  },
  {
   "cell_type": "code",
   "execution_count": null,
   "metadata": {},
   "outputs": [],
   "source": [
    "print(f'{geo_data_0.id.duplicated().sum()=}')\n",
    "geo_data_0[geo_data_0.id.duplicated()]"
   ]
  },
  {
   "cell_type": "markdown",
   "metadata": {},
   "source": [
    "в DataFrame по 1-му региону отсутствуют пропуски, но имеются строки-дубликаты, их число не велико, но их можно удалить"
   ]
  },
  {
   "cell_type": "code",
   "execution_count": 5,
   "metadata": {},
   "outputs": [],
   "source": [
    "geo_data_0 = geo_data_0.drop_duplicates(subset=['id'], keep='first').reset_index(drop=True)"
   ]
  },
  {
   "cell_type": "code",
   "execution_count": 6,
   "metadata": {},
   "outputs": [
    {
     "name": "stdout",
     "output_type": "stream",
     "text": [
      "<class 'pandas.core.frame.DataFrame'>\n",
      "RangeIndex: 100000 entries, 0 to 99999\n",
      "Data columns (total 5 columns):\n",
      " #   Column   Non-Null Count   Dtype  \n",
      "---  ------   --------------   -----  \n",
      " 0   id       100000 non-null  object \n",
      " 1   f0       100000 non-null  float64\n",
      " 2   f1       100000 non-null  float64\n",
      " 3   f2       100000 non-null  float64\n",
      " 4   product  100000 non-null  float64\n",
      "dtypes: float64(4), object(1)\n",
      "memory usage: 3.8+ MB\n"
     ]
    }
   ],
   "source": [
    "geo_data_1 = pd.read_csv('/datasets/geo_data_1.csv')\n",
    "geo_data_1.info()"
   ]
  },
  {
   "cell_type": "code",
   "execution_count": null,
   "metadata": {},
   "outputs": [],
   "source": [
    "geo_data_1.head()"
   ]
  },
  {
   "cell_type": "code",
   "execution_count": null,
   "metadata": {},
   "outputs": [],
   "source": [
    "print(f'{geo_data_1.id.duplicated().sum()=}')\n",
    "geo_data_1[geo_data_1.id.duplicated()]"
   ]
  },
  {
   "cell_type": "code",
   "execution_count": 9,
   "metadata": {},
   "outputs": [],
   "source": [
    "geo_data_1 = geo_data_1.drop_duplicates(subset=['id'], keep='first').reset_index(drop=True)"
   ]
  },
  {
   "cell_type": "code",
   "execution_count": 10,
   "metadata": {},
   "outputs": [
    {
     "name": "stdout",
     "output_type": "stream",
     "text": [
      "<class 'pandas.core.frame.DataFrame'>\n",
      "RangeIndex: 100000 entries, 0 to 99999\n",
      "Data columns (total 5 columns):\n",
      " #   Column   Non-Null Count   Dtype  \n",
      "---  ------   --------------   -----  \n",
      " 0   id       100000 non-null  object \n",
      " 1   f0       100000 non-null  float64\n",
      " 2   f1       100000 non-null  float64\n",
      " 3   f2       100000 non-null  float64\n",
      " 4   product  100000 non-null  float64\n",
      "dtypes: float64(4), object(1)\n",
      "memory usage: 3.8+ MB\n"
     ]
    }
   ],
   "source": [
    "geo_data_2 = pd.read_csv('/datasets/geo_data_2.csv')\n",
    "geo_data_2.info()"
   ]
  },
  {
   "cell_type": "code",
   "execution_count": null,
   "metadata": {},
   "outputs": [],
   "source": [
    "geo_data_2.head()"
   ]
  },
  {
   "cell_type": "code",
   "execution_count": null,
   "metadata": {},
   "outputs": [],
   "source": [
    "print(f'{geo_data_2.id.duplicated().sum()=}')\n",
    "geo_data_2[geo_data_2.id.duplicated()]"
   ]
  },
  {
   "cell_type": "code",
   "execution_count": 13,
   "metadata": {},
   "outputs": [],
   "source": [
    "geo_data_2 = geo_data_2.drop_duplicates(subset=['id'], keep='first').reset_index(drop=True)"
   ]
  },
  {
   "cell_type": "markdown",
   "metadata": {},
   "source": [
    "в DataFrame по 2 и 3 регионам также отсутствуют пропуски, и имеются строки-дубликаты, которые мы удалили"
   ]
  },
  {
   "cell_type": "code",
   "execution_count": 49,
   "metadata": {},
   "outputs": [
    {
     "data": {
      "image/png": "[encoded data removed]",
      "text/plain": [
       "<Figure size 1008x504 with 2 Axes>"
      ]
     },
     "metadata": {
      "needs_background": "light"
     },
     "output_type": "display_data"
    }
   ],
   "source": [
    "plt.subplots(figsize=(14, 7))\n",
    "sns.heatmap(geo_data_0.corr())\n",
    "plt.title('Кореляция по первому региону')\n",
    "plt.show()"
   ]
  },
  {
   "cell_type": "code",
   "execution_count": 48,
   "metadata": {
    "scrolled": false
   },
   "outputs": [
    {
     "data": {
      "image/png": "[encoded data removed]",
      "text/plain": [
       "<Figure size 1008x504 with 2 Axes>"
      ]
     },
     "metadata": {
      "needs_background": "light"
     },
     "output_type": "display_data"
    }
   ],
   "source": [
    "plt.subplots(figsize=(14, 7))\n",
    "sns.heatmap(geo_data_1.corr())\n",
    "plt.title('Кореляция по второму региону')\n",
    "plt.show()"
   ]
  },
  {
   "cell_type": "code",
   "execution_count": 47,
   "metadata": {},
   "outputs": [
    {
     "data": {
      "image/png": "[encoded data removed]",
      "text/plain": [
       "<Figure size 1008x504 with 2 Axes>"
      ]
     },
     "metadata": {
      "needs_background": "light"
     },
     "output_type": "display_data"
    }
   ],
   "source": [
    "plt.subplots(figsize=(14, 7))\n",
    "sns.heatmap(geo_data_2.corr())\n",
    "plt.title('Кореляция по третьему региону')\n",
    "plt.show()"
   ]
  },
  {
   "cell_type": "code",
   "execution_count": 46,
   "metadata": {},
   "outputs": [
    {
     "data": {
      "image/png": "[encoded data removed]",
      "text/plain": [
       "<Figure size 1008x504 with 1 Axes>"
      ]
     },
     "metadata": {
      "needs_background": "light"
     },
     "output_type": "display_data"
    }
   ],
   "source": [
    "plt.subplots(figsize=(14, 7))\n",
    "sns.boxplot(data=geo_data_0, y='product')\n",
    "plt.title(\"1 регион\")\n",
    "plt.show()"
   ]
  },
  {
   "cell_type": "code",
   "execution_count": 50,
   "metadata": {},
   "outputs": [
    {
     "data": {
      "image/png": "[encoded data removed]",
      "text/plain": [
       "<Figure size 1008x504 with 1 Axes>"
      ]
     },
     "metadata": {
      "needs_background": "light"
     },
     "output_type": "display_data"
    }
   ],
   "source": [
    "plt.subplots(figsize=(14, 7))\n",
    "sns.boxplot(data=geo_data_1, y='product')\n",
    "plt.title(\"2 регион\")\n",
    "plt.show()"
   ]
  },
  {
   "cell_type": "code",
   "execution_count": 51,
   "metadata": {},
   "outputs": [
    {
     "data": {
      "image/png": "[encoded data removed]",
      "text/plain": [
       "<Figure size 1008x504 with 1 Axes>"
      ]
     },
     "metadata": {
      "needs_background": "light"
     },
     "output_type": "display_data"
    }
   ],
   "source": [
    "plt.subplots(figsize=(14, 7))\n",
    "sns.boxplot(data=geo_data_2, y='product')\n",
    "plt.title(\"3 регион\")\n",
    "plt.show()"
   ]
  },
  {
   "cell_type": "markdown",
   "metadata": {},
   "source": [
    "Да странная корреляция по второму региону и распределение смещено вверх"
   ]
  },
  {
   "cell_type": "markdown",
   "metadata": {},
   "source": [
    "## Обучение и проверка модели"
   ]
  },
  {
   "cell_type": "markdown",
   "metadata": {},
   "source": [
    "В DataFrame содержится признак \"id\", который не окажет влияние на величину запасов. Разабьем таблицы отделив целевой признак \"product\" и удалив лишние признаки."
   ]
  },
  {
   "cell_type": "code",
   "execution_count": 17,
   "metadata": {},
   "outputs": [],
   "source": [
    "features_0 =geo_data_0.drop(['id', 'product'], axis = 1)\n",
    "target_0 = geo_data_0['product']\n",
    "\n",
    "features_1 =geo_data_1.drop(['id', 'product'], axis = 1)\n",
    "target_1 = geo_data_1['product']\n",
    "\n",
    "features_2 =geo_data_2.drop(['id', 'product'], axis = 1)\n",
    "target_2 = geo_data_2['product']"
   ]
  },
  {
   "cell_type": "markdown",
   "metadata": {},
   "source": [
    "Разделим DF на тренировочные и валидационные выборки."
   ]
  },
  {
   "cell_type": "code",
   "execution_count": 18,
   "metadata": {},
   "outputs": [],
   "source": [
    "features_0_train, features_0_valid, target_0_train, target_0_valid = train_test_split(\n",
    "    features_0, target_0, test_size=0.25, random_state=12345)\n",
    "\n",
    "features_1_train, features_1_valid, target_1_train, target_1_valid = train_test_split(\n",
    "    features_1, target_1, test_size=0.25, random_state=12345)\n",
    "\n",
    "features_2_train, features_2_valid, target_2_train, target_2_valid = train_test_split(\n",
    "    features_2, target_2, test_size=0.25, random_state=12345)"
   ]
  },
  {
   "cell_type": "markdown",
   "metadata": {},
   "source": [
    "Стандартизируем признаки"
   ]
  },
  {
   "cell_type": "code",
   "execution_count": 19,
   "metadata": {},
   "outputs": [],
   "source": [
    "numeric = ['f0','f1','f2']\n",
    "scaler = StandardScaler()"
   ]
  },
  {
   "cell_type": "code",
   "execution_count": 20,
   "metadata": {},
   "outputs": [
    {
     "name": "stderr",
     "output_type": "stream",
     "text": [
      "/tmp/ipykernel_78/3175687323.py:2: SettingWithCopyWarning: \n",
      "A value is trying to be set on a copy of a slice from a DataFrame.\n",
      "Try using .loc[row_indexer,col_indexer] = value instead\n",
      "\n",
      "See the caveats in the documentation: https://pandas.pydata.org/pandas-docs/stable/user_guide/indexing.html#returning-a-view-versus-a-copy\n",
      "  features_0_train[numeric] = scaler.transform(features_0_train[numeric])\n",
      "/opt/conda/lib/python3.9/site-packages/pandas/core/indexing.py:1637: SettingWithCopyWarning: \n",
      "A value is trying to be set on a copy of a slice from a DataFrame\n",
      "\n",
      "See the caveats in the documentation: https://pandas.pydata.org/pandas-docs/stable/user_guide/indexing.html#returning-a-view-versus-a-copy\n",
      "  self._setitem_single_block(indexer, value, name)\n",
      "/opt/conda/lib/python3.9/site-packages/pandas/core/indexing.py:692: SettingWithCopyWarning: \n",
      "A value is trying to be set on a copy of a slice from a DataFrame\n",
      "\n",
      "See the caveats in the documentation: https://pandas.pydata.org/pandas-docs/stable/user_guide/indexing.html#returning-a-view-versus-a-copy\n",
      "  iloc._setitem_with_indexer(indexer, value, self.name)\n",
      "/tmp/ipykernel_78/3175687323.py:3: SettingWithCopyWarning: \n",
      "A value is trying to be set on a copy of a slice from a DataFrame.\n",
      "Try using .loc[row_indexer,col_indexer] = value instead\n",
      "\n",
      "See the caveats in the documentation: https://pandas.pydata.org/pandas-docs/stable/user_guide/indexing.html#returning-a-view-versus-a-copy\n",
      "  features_0_valid[numeric] = scaler.transform(features_0_valid[numeric])\n",
      "/opt/conda/lib/python3.9/site-packages/pandas/core/indexing.py:1637: SettingWithCopyWarning: \n",
      "A value is trying to be set on a copy of a slice from a DataFrame\n",
      "\n",
      "See the caveats in the documentation: https://pandas.pydata.org/pandas-docs/stable/user_guide/indexing.html#returning-a-view-versus-a-copy\n",
      "  self._setitem_single_block(indexer, value, name)\n",
      "/opt/conda/lib/python3.9/site-packages/pandas/core/indexing.py:692: SettingWithCopyWarning: \n",
      "A value is trying to be set on a copy of a slice from a DataFrame\n",
      "\n",
      "See the caveats in the documentation: https://pandas.pydata.org/pandas-docs/stable/user_guide/indexing.html#returning-a-view-versus-a-copy\n",
      "  iloc._setitem_with_indexer(indexer, value, self.name)\n"
     ]
    }
   ],
   "source": [
    "scaler.fit(features_0_train[numeric]) \n",
    "features_0_train[numeric] = scaler.transform(features_0_train[numeric]) \n",
    "features_0_valid[numeric] = scaler.transform(features_0_valid[numeric])\n",
    "pd.options.mode.chained_assignment = None"
   ]
  },
  {
   "cell_type": "code",
   "execution_count": 21,
   "metadata": {},
   "outputs": [],
   "source": [
    "scaler.fit(features_1_train[numeric]) \n",
    "features_1_train[numeric] = scaler.transform(features_1_train[numeric]) \n",
    "features_1_valid[numeric] = scaler.transform(features_1_valid[numeric])"
   ]
  },
  {
   "cell_type": "code",
   "execution_count": 22,
   "metadata": {},
   "outputs": [],
   "source": [
    "scaler.fit(features_2_train[numeric]) \n",
    "features_2_train[numeric] = scaler.transform(features_2_train[numeric]) \n",
    "features_2_valid[numeric] = scaler.transform(features_2_valid[numeric])"
   ]
  },
  {
   "cell_type": "code",
   "execution_count": 23,
   "metadata": {},
   "outputs": [],
   "source": [
    "model = LinearRegression()"
   ]
  },
  {
   "cell_type": "markdown",
   "metadata": {},
   "source": [
    "Обучим модели Линейной регрессии, передав им тренировочные выборки, затем расчитаем RMSE на основе валидационной"
   ]
  },
  {
   "cell_type": "code",
   "execution_count": 24,
   "metadata": {},
   "outputs": [
    {
     "name": "stdout",
     "output_type": "stream",
     "text": [
      "первый регион\n",
      "rmse =  37.853527328872964\n",
      "среднее =  44.379313806074194\n"
     ]
    }
   ],
   "source": [
    "model.fit(features_0_train, target_0_train)\n",
    "predicted_0_valid = model.predict(features_0_valid)\n",
    "print('первый регион')\n",
    "print('rmse = ', rmse_0 := mean_squared_error(target_0_valid, predicted_0_valid) **.5)\n",
    "print('среднее = ', mean_squared_error(\n",
    "    target_0_valid, pd.Series(target_0_train.mean(), index = target_0_valid.index))**.5)"
   ]
  },
  {
   "cell_type": "markdown",
   "metadata": {},
   "source": [
    "Это типо проверки адекватности модели"
   ]
  },
  {
   "cell_type": "code",
   "execution_count": 25,
   "metadata": {},
   "outputs": [
    {
     "name": "stdout",
     "output_type": "stream",
     "text": [
      "второй регион\n",
      "rmse =  0.8920592647717033\n",
      "среднее =  45.903263550206404\n"
     ]
    }
   ],
   "source": [
    "model.fit(features_1_train, target_1_train)\n",
    "predicted_1_valid = model.predict(features_1_valid)\n",
    "print('второй регион')\n",
    "print('rmse = ', rmse_1 := mean_squared_error(target_1_valid, predicted_1_valid)**.5)\n",
    "print('среднее = ', mean_squared_error(\n",
    "    target_1_valid, pd.Series(target_1_train.mean(), index = target_1_valid.index))**.5)"
   ]
  },
  {
   "cell_type": "code",
   "execution_count": 26,
   "metadata": {},
   "outputs": [
    {
     "name": "stdout",
     "output_type": "stream",
     "text": [
      "первый регион\n",
      "rmse =  40.07585073246016\n",
      "среднее =  44.68331298360565\n"
     ]
    }
   ],
   "source": [
    "model.fit(features_2_train, target_2_train)\n",
    "predicted_2_valid = model.predict(features_2_valid)\n",
    "print('первый регион')\n",
    "print('rmse = ', rmse_2 := mean_squared_error(target_2_valid, predicted_2_valid)**.5)\n",
    "print('среднее = ', mean_squared_error(\n",
    "    target_2_valid, pd.Series(target_2_train.mean(), index = target_2_valid.index))**.5)"
   ]
  },
  {
   "cell_type": "markdown",
   "metadata": {},
   "source": [
    "Модель для второго региона отличается большей точностью."
   ]
  },
  {
   "cell_type": "markdown",
   "metadata": {},
   "source": [
    "## Подготовка к расчёту прибыли"
   ]
  },
  {
   "cell_type": "code",
   "execution_count": 27,
   "metadata": {},
   "outputs": [],
   "source": [
    "INCOME_FOR_UNIT = 450000 \n",
    "INVESTMENS = 10*10**9\n",
    "POINT_RESERCH = 500\n",
    "POINT_USE = 200\n",
    "\n",
    "predicted_0_valid = pd.Series(\n",
    "       predicted_0_valid, index = target_0_valid.index)\n",
    "predicted_1_valid = pd.Series(\n",
    "       predicted_1_valid, index = target_1_valid.index)\n",
    "predicted_2_valid = pd.Series(\n",
    "       predicted_2_valid, index = target_2_valid.index)"
   ]
  },
  {
   "cell_type": "code",
   "execution_count": 28,
   "metadata": {},
   "outputs": [
    {
     "name": "stdout",
     "output_type": "stream",
     "text": [
      "111.11111111111111\n"
     ]
    }
   ],
   "source": [
    "print(min_barrel := INVESTMENS / (INCOME_FOR_UNIT * POINT_USE))"
   ]
  },
  {
   "cell_type": "markdown",
   "metadata": {},
   "source": [
    "Прибыль одного барреля нефти составит 450 рублей, для разработки месторождения выделены инвестиции в размере 10 млрд. рублей, тогда исходя из формулы возрата ивестиций ((прибыль - инвестиции)/инвестиции)) минимальный объем добываемого с одной скважены топлива должен составить не менее 111.1 тыс. баррелей нефти"
   ]
  },
  {
   "cell_type": "code",
   "execution_count": 29,
   "metadata": {},
   "outputs": [
    {
     "name": "stdout",
     "output_type": "stream",
     "text": [
      "False\n",
      "92.49968421774354\n"
     ]
    }
   ],
   "source": [
    "print(min_barrel <= target_0.mean())\n",
    "print(target_0.mean())"
   ]
  },
  {
   "cell_type": "code",
   "execution_count": 30,
   "metadata": {},
   "outputs": [
    {
     "name": "stdout",
     "output_type": "stream",
     "text": [
      "False\n",
      "68.82391591804064\n"
     ]
    }
   ],
   "source": [
    "print(min_barrel <= target_1.mean())\n",
    "print(target_1.mean())"
   ]
  },
  {
   "cell_type": "code",
   "execution_count": 31,
   "metadata": {},
   "outputs": [
    {
     "name": "stdout",
     "output_type": "stream",
     "text": [
      "False\n",
      "94.99834211933378\n"
     ]
    }
   ],
   "source": [
    "print(min_barrel <= target_2.mean())\n",
    "print(target_2.mean())"
   ]
  },
  {
   "cell_type": "markdown",
   "metadata": {},
   "source": [
    "Как видим средний объем скважин во всех трех регионах ниже минимального значения, необходимого для возврата инвестиции. Разработка всех скважин в текущих условиях не рентабельна"
   ]
  },
  {
   "cell_type": "markdown",
   "metadata": {},
   "source": [
    "## Расчёт прибыли и рисков "
   ]
  },
  {
   "cell_type": "markdown",
   "metadata": {},
   "source": [
    "Учитывая, что мы будем изучать только 500 скважен и из них разрабатывать \"200 самых богатых\", напишим функцию для расчета прибыли"
   ]
  },
  {
   "cell_type": "code",
   "execution_count": 32,
   "metadata": {},
   "outputs": [],
   "source": [
    "def income(predicted, target, max_i):\n",
    "    pred_sorted = predicted.sort_values(ascending = False)\n",
    "    return target[pred_sorted.index][0:max_i].sum() * INCOME_FOR_UNIT - INVESTMENS"
   ]
  },
  {
   "cell_type": "markdown",
   "metadata": {},
   "source": [
    "Ну я так понял 450 р за баррель это уже прибыль и не стал изначально включать инвестиции"
   ]
  },
  {
   "cell_type": "code",
   "execution_count": 33,
   "metadata": {},
   "outputs": [
    {
     "name": "stdout",
     "output_type": "stream",
     "text": [
      "расчет прибыли по 1-ому району: 3365187237.700287\n",
      "расчет прибыли по 2-ому району: 2415086696.681511\n",
      "расчет прибыли по 3-ему району: 2501283853.2820625\n"
     ]
    }
   ],
   "source": [
    "print('расчет прибыли по 1-ому району:', income(predicted_0_valid, target_0_valid, POINT_USE))\n",
    "print('расчет прибыли по 2-ому району:', income(predicted_1_valid, target_1_valid, POINT_USE))\n",
    "print('расчет прибыли по 3-ему району:', income(predicted_2_valid, target_2_valid, POINT_USE))"
   ]
  },
  {
   "cell_type": "markdown",
   "metadata": {},
   "source": [
    "Очевидно, что самые богатые скважены находятся в 1 регионе, но исследовать все скважены мы не можем, поэтому используем предсказания наших моделей"
   ]
  },
  {
   "cell_type": "code",
   "execution_count": 34,
   "metadata": {},
   "outputs": [],
   "source": [
    "state = np.random.RandomState(12345)\n",
    "def confidence_interval_200(predicted, target):    \n",
    "    values = []\n",
    "    for i in range(1000):\n",
    "        target_subsample = target.sample(n = POINT_RESERCH, replace=True, random_state=state)\n",
    "        probs_subsample = predicted[target_subsample.index]\n",
    "        values.append(income(probs_subsample,  target_subsample, POINT_USE))\n",
    "    return values"
   ]
  },
  {
   "cell_type": "code",
   "execution_count": 35,
   "metadata": {},
   "outputs": [
    {
     "name": "stdout",
     "output_type": "stream",
     "text": [
      "Средняя выручка по 1 региону: 409428038.6214359\n",
      "5% квантиль по 1 региону: -131536028.70166382\n",
      "95% квантиль по 1 региону: 944395582.7546725\n",
      "Вероятность убытка на 1 регионе: 7.1 %\n"
     ]
    }
   ],
   "source": [
    "confidence_interval_0 = confidence_interval_200(predicted_0_valid, target_0_valid)\n",
    "print(f\"Средняя выручка по 1 региону: {sum(confidence_interval_0)/len(confidence_interval_0)}\")\n",
    "print(f\"5% квантиль по 1 региону: {pd.Series(confidence_interval_0).quantile(0.025)}\")\n",
    "print(f\"95% квантиль по 1 региону: {pd.Series(confidence_interval_0).quantile(0.975)}\")\n",
    "print(f\"Вероятность убытка на 1 регионе: {pd.Series(confidence_interval_0)[pd.Series(confidence_interval_0) <= 0].count()/len(confidence_interval_0)*100} %\")"
   ]
  },
  {
   "cell_type": "code",
   "execution_count": 36,
   "metadata": {},
   "outputs": [
    {
     "name": "stdout",
     "output_type": "stream",
     "text": [
      "Средняя выручка по 2 региону: 536400199.43510294\n",
      "5% квантиль по 2 региону: 112954247.12370124\n",
      "95% квантиль по 2 региону: 998504156.6468805\n",
      "Вероятность убытка на 2 регионе: 0.3 %\n"
     ]
    }
   ],
   "source": [
    "confidence_interval_1 = confidence_interval_200(predicted_1_valid, target_1_valid)\n",
    "print(f\"Средняя выручка по 2 региону: {sum(confidence_interval_1)/len(confidence_interval_1)}\")\n",
    "print(f\"5% квантиль по 2 региону: {pd.Series(confidence_interval_1).quantile(0.025)}\")\n",
    "print(f\"95% квантиль по 2 региону: {pd.Series(confidence_interval_1).quantile(0.975)}\")\n",
    "print(f\"Вероятность убытка на 2 регионе: {pd.Series(confidence_interval_1)[pd.Series(confidence_interval_1) <= 0].count()/len(confidence_interval_1)*100} %\")"
   ]
  },
  {
   "cell_type": "code",
   "execution_count": 37,
   "metadata": {},
   "outputs": [
    {
     "name": "stdout",
     "output_type": "stream",
     "text": [
      "Средняя выручка по 3 региону: 339478034.1977996\n",
      "5% квантиль по 3 региону: -224089221.7440758\n",
      "95% квантиль по 3 региону: 847067587.6863929\n",
      "Вероятность убытка на 3 регионе: 11.799999999999999 %\n"
     ]
    }
   ],
   "source": [
    "confidence_interval_2 = confidence_interval_200(predicted_2_valid, target_2_valid)\n",
    "print(f\"Средняя выручка по 3 региону: {sum(confidence_interval_2)/len(confidence_interval_2)}\")\n",
    "print(f\"5% квантиль по 3 региону: {pd.Series(confidence_interval_2).quantile(0.025)}\")\n",
    "print(f\"95% квантиль по 3 региону: {pd.Series(confidence_interval_2).quantile(0.975)}\")\n",
    "print(f\"Вероятность убытка на 3 регионе: {pd.Series(confidence_interval_2)[pd.Series(confidence_interval_2) <= 0].count()/len(confidence_interval_2)*100} %\")"
   ]
  },
  {
   "cell_type": "markdown",
   "metadata": {},
   "source": [
    "Исходя из проведенных исследований стоит остановить свой выбор на 2-ом регионе, где вы ше прибыль и ниже вероятность убытков, кроме того по второму региону нами была обучена более точная модель."
   ]
  }
 ],
 "metadata": {
  "ExecuteTimeLog": [
   {
    "duration": 1613,
    "start_time": "2023-02-20T07:40:12.151Z"
   },
   {
    "duration": 401,
    "start_time": "2023-02-20T07:43:35.198Z"
   },
   {
    "duration": 151,
    "start_time": "2023-02-20T07:44:09.717Z"
   },
   {
    "duration": 16,
    "start_time": "2023-02-20T07:44:35.782Z"
   },
   {
    "duration": 19,
    "start_time": "2023-02-20T07:46:19.206Z"
   },
   {
    "duration": 22,
    "start_time": "2023-02-20T07:46:54.064Z"
   },
   {
    "duration": 32,
    "start_time": "2023-02-20T07:50:57.621Z"
   },
   {
    "duration": 29,
    "start_time": "2023-02-20T07:51:04.062Z"
   },
   {
    "duration": 28,
    "start_time": "2023-02-20T07:53:11.061Z"
   },
   {
    "duration": 4,
    "start_time": "2023-02-20T07:55:05.957Z"
   },
   {
    "duration": 146,
    "start_time": "2023-02-20T07:55:08.493Z"
   },
   {
    "duration": 10,
    "start_time": "2023-02-20T07:55:13.805Z"
   },
   {
    "duration": 31,
    "start_time": "2023-02-20T07:55:16.260Z"
   },
   {
    "duration": 27,
    "start_time": "2023-02-20T07:59:11.213Z"
   },
   {
    "duration": 1667,
    "start_time": "2023-02-20T14:36:49.210Z"
   },
   {
    "duration": 424,
    "start_time": "2023-02-20T14:36:50.879Z"
   },
   {
    "duration": 17,
    "start_time": "2023-02-20T14:36:51.305Z"
   },
   {
    "duration": 65,
    "start_time": "2023-02-20T14:36:51.324Z"
   },
   {
    "duration": 36,
    "start_time": "2023-02-20T14:36:51.392Z"
   },
   {
    "duration": 577,
    "start_time": "2023-02-20T14:43:29.634Z"
   },
   {
    "duration": 12,
    "start_time": "2023-02-20T14:43:53.354Z"
   },
   {
    "duration": 35,
    "start_time": "2023-02-20T14:44:20.993Z"
   },
   {
    "duration": 32,
    "start_time": "2023-02-20T14:44:56.858Z"
   },
   {
    "duration": 621,
    "start_time": "2023-02-20T14:45:41.849Z"
   },
   {
    "duration": 14,
    "start_time": "2023-02-20T14:45:58.906Z"
   },
   {
    "duration": 49,
    "start_time": "2023-02-20T14:46:28.353Z"
   },
   {
    "duration": 29,
    "start_time": "2023-02-20T14:47:07.826Z"
   },
   {
    "duration": 123,
    "start_time": "2023-02-20T14:55:13.590Z"
   },
   {
    "duration": 5,
    "start_time": "2023-02-20T14:55:45.590Z"
   },
   {
    "duration": 15,
    "start_time": "2023-02-20T14:55:58.303Z"
   },
   {
    "duration": 10,
    "start_time": "2023-02-20T15:00:09.454Z"
   },
   {
    "duration": 11,
    "start_time": "2023-02-20T15:10:16.932Z"
   },
   {
    "duration": 15,
    "start_time": "2023-02-20T15:10:31.202Z"
   },
   {
    "duration": 13,
    "start_time": "2023-02-20T15:10:41.179Z"
   },
   {
    "duration": 25,
    "start_time": "2023-02-20T15:11:49.339Z"
   },
   {
    "duration": 1304,
    "start_time": "2023-02-20T15:13:04.883Z"
   },
   {
    "duration": 1488,
    "start_time": "2023-02-20T15:13:25.115Z"
   },
   {
    "duration": 11,
    "start_time": "2023-02-20T15:15:32.793Z"
   },
   {
    "duration": 3,
    "start_time": "2023-02-20T15:15:44.546Z"
   },
   {
    "duration": 24,
    "start_time": "2023-02-20T15:15:46.505Z"
   },
   {
    "duration": 3,
    "start_time": "2023-02-20T15:17:58.401Z"
   },
   {
    "duration": 15,
    "start_time": "2023-02-20T15:18:00.578Z"
   },
   {
    "duration": 14,
    "start_time": "2023-02-20T15:18:02.849Z"
   },
   {
    "duration": 14,
    "start_time": "2023-02-20T15:18:05.994Z"
   },
   {
    "duration": 4,
    "start_time": "2023-02-20T15:19:52.258Z"
   },
   {
    "duration": 4,
    "start_time": "2023-02-20T15:29:29.810Z"
   },
   {
    "duration": 3156,
    "start_time": "2023-02-20T15:29:48.853Z"
   },
   {
    "duration": 397,
    "start_time": "2023-02-20T15:29:52.012Z"
   },
   {
    "duration": 21,
    "start_time": "2023-02-20T15:29:52.412Z"
   },
   {
    "duration": 148,
    "start_time": "2023-02-20T15:29:52.436Z"
   },
   {
    "duration": 62,
    "start_time": "2023-02-20T15:29:52.587Z"
   },
   {
    "duration": 189,
    "start_time": "2023-02-20T15:29:52.651Z"
   },
   {
    "duration": 11,
    "start_time": "2023-02-20T15:29:52.843Z"
   },
   {
    "duration": 120,
    "start_time": "2023-02-20T15:29:52.856Z"
   },
   {
    "duration": 58,
    "start_time": "2023-02-20T15:29:52.980Z"
   },
   {
    "duration": 192,
    "start_time": "2023-02-20T15:29:53.040Z"
   },
   {
    "duration": 11,
    "start_time": "2023-02-20T15:29:53.236Z"
   },
   {
    "duration": 102,
    "start_time": "2023-02-20T15:29:53.249Z"
   },
   {
    "duration": 69,
    "start_time": "2023-02-20T15:29:53.354Z"
   },
   {
    "duration": 15,
    "start_time": "2023-02-20T15:29:53.427Z"
   },
   {
    "duration": 55,
    "start_time": "2023-02-20T15:29:53.445Z"
   },
   {
    "duration": 57,
    "start_time": "2023-02-20T15:29:53.503Z"
   },
   {
    "duration": 22,
    "start_time": "2023-02-20T15:29:53.563Z"
   },
   {
    "duration": 32,
    "start_time": "2023-02-20T15:29:53.588Z"
   },
   {
    "duration": 1685,
    "start_time": "2023-02-21T06:49:06.910Z"
   },
   {
    "duration": 650,
    "start_time": "2023-02-21T06:49:08.598Z"
   },
   {
    "duration": 15,
    "start_time": "2023-02-21T06:49:09.250Z"
   },
   {
    "duration": 56,
    "start_time": "2023-02-21T06:49:09.267Z"
   },
   {
    "duration": 44,
    "start_time": "2023-02-21T06:49:09.326Z"
   },
   {
    "duration": 237,
    "start_time": "2023-02-21T06:49:09.372Z"
   },
   {
    "duration": 9,
    "start_time": "2023-02-21T06:49:09.611Z"
   },
   {
    "duration": 43,
    "start_time": "2023-02-21T06:49:09.621Z"
   },
   {
    "duration": 30,
    "start_time": "2023-02-21T06:49:09.665Z"
   },
   {
    "duration": 242,
    "start_time": "2023-02-21T06:49:09.697Z"
   },
   {
    "duration": 16,
    "start_time": "2023-02-21T06:49:09.941Z"
   },
   {
    "duration": 38,
    "start_time": "2023-02-21T06:49:09.958Z"
   },
   {
    "duration": 43,
    "start_time": "2023-02-21T06:49:09.998Z"
   },
   {
    "duration": 13,
    "start_time": "2023-02-21T06:49:10.045Z"
   },
   {
    "duration": 13,
    "start_time": "2023-02-21T06:49:10.059Z"
   },
   {
    "duration": 35,
    "start_time": "2023-02-21T06:49:10.074Z"
   },
   {
    "duration": 14,
    "start_time": "2023-02-21T06:49:10.112Z"
   },
   {
    "duration": 30,
    "start_time": "2023-02-21T06:49:10.127Z"
   },
   {
    "duration": 148,
    "start_time": "2023-02-21T06:53:57.873Z"
   },
   {
    "duration": 21,
    "start_time": "2023-02-21T06:54:29.282Z"
   },
   {
    "duration": 1543,
    "start_time": "2023-02-21T06:55:01.733Z"
   },
   {
    "duration": 178,
    "start_time": "2023-02-21T06:55:03.279Z"
   },
   {
    "duration": 18,
    "start_time": "2023-02-21T06:55:03.459Z"
   },
   {
    "duration": 66,
    "start_time": "2023-02-21T06:55:03.479Z"
   },
   {
    "duration": 37,
    "start_time": "2023-02-21T06:55:03.547Z"
   },
   {
    "duration": 164,
    "start_time": "2023-02-21T06:55:03.586Z"
   },
   {
    "duration": 13,
    "start_time": "2023-02-21T06:55:03.752Z"
   },
   {
    "duration": 39,
    "start_time": "2023-02-21T06:55:03.767Z"
   },
   {
    "duration": 51,
    "start_time": "2023-02-21T06:55:03.808Z"
   },
   {
    "duration": 157,
    "start_time": "2023-02-21T06:55:03.862Z"
   },
   {
    "duration": 20,
    "start_time": "2023-02-21T06:55:04.021Z"
   },
   {
    "duration": 42,
    "start_time": "2023-02-21T06:55:04.043Z"
   },
   {
    "duration": 40,
    "start_time": "2023-02-21T06:55:04.088Z"
   },
   {
    "duration": 18,
    "start_time": "2023-02-21T06:55:04.141Z"
   },
   {
    "duration": 138,
    "start_time": "2023-02-21T06:55:04.161Z"
   },
   {
    "duration": 11,
    "start_time": "2023-02-21T06:56:41.553Z"
   },
   {
    "duration": 20,
    "start_time": "2023-02-21T06:57:04.770Z"
   },
   {
    "duration": 31,
    "start_time": "2023-02-21T06:58:26.234Z"
   },
   {
    "duration": 11,
    "start_time": "2023-02-21T07:00:44.881Z"
   },
   {
    "duration": 29,
    "start_time": "2023-02-21T07:00:49.057Z"
   },
   {
    "duration": 18,
    "start_time": "2023-02-21T07:01:20.256Z"
   },
   {
    "duration": 16,
    "start_time": "2023-02-21T07:01:38.465Z"
   },
   {
    "duration": 1538,
    "start_time": "2023-02-21T07:02:50.457Z"
   },
   {
    "duration": 166,
    "start_time": "2023-02-21T07:02:51.997Z"
   },
   {
    "duration": 14,
    "start_time": "2023-02-21T07:02:52.165Z"
   },
   {
    "duration": 38,
    "start_time": "2023-02-21T07:02:52.180Z"
   },
   {
    "duration": 39,
    "start_time": "2023-02-21T07:02:52.241Z"
   },
   {
    "duration": 167,
    "start_time": "2023-02-21T07:02:52.282Z"
   },
   {
    "duration": 11,
    "start_time": "2023-02-21T07:02:52.451Z"
   },
   {
    "duration": 38,
    "start_time": "2023-02-21T07:02:52.464Z"
   },
   {
    "duration": 58,
    "start_time": "2023-02-21T07:02:52.504Z"
   },
   {
    "duration": 155,
    "start_time": "2023-02-21T07:02:52.564Z"
   },
   {
    "duration": 10,
    "start_time": "2023-02-21T07:02:52.721Z"
   },
   {
    "duration": 40,
    "start_time": "2023-02-21T07:02:52.741Z"
   },
   {
    "duration": 29,
    "start_time": "2023-02-21T07:02:52.782Z"
   },
   {
    "duration": 34,
    "start_time": "2023-02-21T07:02:52.813Z"
   },
   {
    "duration": 145,
    "start_time": "2023-02-21T07:02:52.849Z"
   },
   {
    "duration": 18,
    "start_time": "2023-02-21T07:03:36.767Z"
   },
   {
    "duration": 11,
    "start_time": "2023-02-21T07:03:56.809Z"
   },
   {
    "duration": 15,
    "start_time": "2023-02-21T07:04:18.257Z"
   },
   {
    "duration": 16,
    "start_time": "2023-02-21T07:04:47.776Z"
   },
   {
    "duration": 15,
    "start_time": "2023-02-21T07:05:48.553Z"
   },
   {
    "duration": 14,
    "start_time": "2023-02-21T07:06:05.640Z"
   },
   {
    "duration": 19,
    "start_time": "2023-02-21T07:06:10.192Z"
   },
   {
    "duration": 22,
    "start_time": "2023-02-21T07:07:08.183Z"
   },
   {
    "duration": 19,
    "start_time": "2023-02-21T07:07:23.296Z"
   },
   {
    "duration": 22,
    "start_time": "2023-02-21T07:07:38.992Z"
   },
   {
    "duration": 1481,
    "start_time": "2023-02-21T07:07:53.956Z"
   },
   {
    "duration": 166,
    "start_time": "2023-02-21T07:07:55.440Z"
   },
   {
    "duration": 15,
    "start_time": "2023-02-21T07:07:55.607Z"
   },
   {
    "duration": 57,
    "start_time": "2023-02-21T07:07:55.623Z"
   },
   {
    "duration": 31,
    "start_time": "2023-02-21T07:07:55.683Z"
   },
   {
    "duration": 174,
    "start_time": "2023-02-21T07:07:55.716Z"
   },
   {
    "duration": 11,
    "start_time": "2023-02-21T07:07:55.891Z"
   },
   {
    "duration": 64,
    "start_time": "2023-02-21T07:07:55.904Z"
   },
   {
    "duration": 28,
    "start_time": "2023-02-21T07:07:55.970Z"
   },
   {
    "duration": 164,
    "start_time": "2023-02-21T07:07:56.000Z"
   },
   {
    "duration": 12,
    "start_time": "2023-02-21T07:07:56.165Z"
   },
   {
    "duration": 37,
    "start_time": "2023-02-21T07:07:56.178Z"
   },
   {
    "duration": 52,
    "start_time": "2023-02-21T07:07:56.217Z"
   },
   {
    "duration": 10,
    "start_time": "2023-02-21T07:07:56.271Z"
   },
   {
    "duration": 146,
    "start_time": "2023-02-21T07:08:54.200Z"
   },
   {
    "duration": 62,
    "start_time": "2023-02-21T07:10:46.831Z"
   },
   {
    "duration": 1425,
    "start_time": "2023-02-21T07:11:05.082Z"
   },
   {
    "duration": 175,
    "start_time": "2023-02-21T07:11:06.509Z"
   },
   {
    "duration": 15,
    "start_time": "2023-02-21T07:11:06.686Z"
   },
   {
    "duration": 67,
    "start_time": "2023-02-21T07:11:06.703Z"
   },
   {
    "duration": 37,
    "start_time": "2023-02-21T07:11:06.773Z"
   },
   {
    "duration": 176,
    "start_time": "2023-02-21T07:11:06.812Z"
   },
   {
    "duration": 10,
    "start_time": "2023-02-21T07:11:06.990Z"
   },
   {
    "duration": 60,
    "start_time": "2023-02-21T07:11:07.002Z"
   },
   {
    "duration": 41,
    "start_time": "2023-02-21T07:11:07.065Z"
   },
   {
    "duration": 179,
    "start_time": "2023-02-21T07:11:07.109Z"
   },
   {
    "duration": 10,
    "start_time": "2023-02-21T07:11:07.290Z"
   },
   {
    "duration": 66,
    "start_time": "2023-02-21T07:11:07.302Z"
   },
   {
    "duration": 29,
    "start_time": "2023-02-21T07:11:07.370Z"
   },
   {
    "duration": 60,
    "start_time": "2023-02-21T07:11:07.401Z"
   },
   {
    "duration": 0,
    "start_time": "2023-02-21T07:11:07.463Z"
   },
   {
    "duration": 0,
    "start_time": "2023-02-21T07:11:07.464Z"
   },
   {
    "duration": 7,
    "start_time": "2023-02-21T07:11:29.222Z"
   },
   {
    "duration": 11,
    "start_time": "2023-02-21T07:11:32.303Z"
   },
   {
    "duration": 140,
    "start_time": "2023-02-21T07:11:35.302Z"
   },
   {
    "duration": 4,
    "start_time": "2023-02-21T07:12:37.574Z"
   },
   {
    "duration": 186,
    "start_time": "2023-02-21T07:12:37.580Z"
   },
   {
    "duration": 10,
    "start_time": "2023-02-21T07:12:37.768Z"
   },
   {
    "duration": 47,
    "start_time": "2023-02-21T07:12:37.780Z"
   },
   {
    "duration": 37,
    "start_time": "2023-02-21T07:12:37.841Z"
   },
   {
    "duration": 155,
    "start_time": "2023-02-21T07:12:37.880Z"
   },
   {
    "duration": 13,
    "start_time": "2023-02-21T07:12:38.037Z"
   },
   {
    "duration": 47,
    "start_time": "2023-02-21T07:12:38.053Z"
   },
   {
    "duration": 51,
    "start_time": "2023-02-21T07:12:38.101Z"
   },
   {
    "duration": 142,
    "start_time": "2023-02-21T07:12:38.154Z"
   },
   {
    "duration": 10,
    "start_time": "2023-02-21T07:12:38.297Z"
   },
   {
    "duration": 58,
    "start_time": "2023-02-21T07:12:38.309Z"
   },
   {
    "duration": 28,
    "start_time": "2023-02-21T07:12:38.369Z"
   },
   {
    "duration": 5,
    "start_time": "2023-02-21T07:12:38.400Z"
   },
   {
    "duration": 33,
    "start_time": "2023-02-21T07:12:38.407Z"
   },
   {
    "duration": 23,
    "start_time": "2023-02-21T07:12:38.445Z"
   },
   {
    "duration": 1513,
    "start_time": "2023-02-21T07:12:47.171Z"
   },
   {
    "duration": 172,
    "start_time": "2023-02-21T07:12:48.686Z"
   },
   {
    "duration": 16,
    "start_time": "2023-02-21T07:12:48.860Z"
   },
   {
    "duration": 58,
    "start_time": "2023-02-21T07:12:48.879Z"
   },
   {
    "duration": 49,
    "start_time": "2023-02-21T07:12:48.939Z"
   },
   {
    "duration": 177,
    "start_time": "2023-02-21T07:12:48.990Z"
   },
   {
    "duration": 13,
    "start_time": "2023-02-21T07:12:49.169Z"
   },
   {
    "duration": 57,
    "start_time": "2023-02-21T07:12:49.184Z"
   },
   {
    "duration": 41,
    "start_time": "2023-02-21T07:12:49.244Z"
   },
   {
    "duration": 154,
    "start_time": "2023-02-21T07:12:49.287Z"
   },
   {
    "duration": 16,
    "start_time": "2023-02-21T07:12:49.443Z"
   },
   {
    "duration": 66,
    "start_time": "2023-02-21T07:12:49.461Z"
   },
   {
    "duration": 43,
    "start_time": "2023-02-21T07:12:49.529Z"
   },
   {
    "duration": 6,
    "start_time": "2023-02-21T07:12:49.574Z"
   },
   {
    "duration": 18,
    "start_time": "2023-02-21T07:12:49.582Z"
   },
   {
    "duration": 1468,
    "start_time": "2023-02-21T07:13:41.339Z"
   },
   {
    "duration": 158,
    "start_time": "2023-02-21T07:13:42.809Z"
   },
   {
    "duration": 14,
    "start_time": "2023-02-21T07:13:42.969Z"
   },
   {
    "duration": 34,
    "start_time": "2023-02-21T07:13:42.985Z"
   },
   {
    "duration": 38,
    "start_time": "2023-02-21T07:13:43.042Z"
   },
   {
    "duration": 151,
    "start_time": "2023-02-21T07:13:43.082Z"
   },
   {
    "duration": 19,
    "start_time": "2023-02-21T07:13:43.234Z"
   },
   {
    "duration": 39,
    "start_time": "2023-02-21T07:13:43.255Z"
   },
   {
    "duration": 44,
    "start_time": "2023-02-21T07:13:43.296Z"
   },
   {
    "duration": 151,
    "start_time": "2023-02-21T07:13:43.343Z"
   },
   {
    "duration": 9,
    "start_time": "2023-02-21T07:13:43.496Z"
   },
   {
    "duration": 53,
    "start_time": "2023-02-21T07:13:43.507Z"
   },
   {
    "duration": 26,
    "start_time": "2023-02-21T07:13:43.562Z"
   },
   {
    "duration": 10,
    "start_time": "2023-02-21T07:13:43.590Z"
   },
   {
    "duration": 161,
    "start_time": "2023-02-21T07:13:43.602Z"
   },
   {
    "duration": 1457,
    "start_time": "2023-02-21T07:15:38.038Z"
   },
   {
    "duration": 173,
    "start_time": "2023-02-21T07:15:39.497Z"
   },
   {
    "duration": 18,
    "start_time": "2023-02-21T07:15:39.675Z"
   },
   {
    "duration": 77,
    "start_time": "2023-02-21T07:15:39.695Z"
   },
   {
    "duration": 45,
    "start_time": "2023-02-21T07:15:39.774Z"
   },
   {
    "duration": 164,
    "start_time": "2023-02-21T07:15:39.821Z"
   },
   {
    "duration": 9,
    "start_time": "2023-02-21T07:15:39.987Z"
   },
   {
    "duration": 58,
    "start_time": "2023-02-21T07:15:39.998Z"
   },
   {
    "duration": 32,
    "start_time": "2023-02-21T07:15:40.058Z"
   },
   {
    "duration": 156,
    "start_time": "2023-02-21T07:15:40.092Z"
   },
   {
    "duration": 12,
    "start_time": "2023-02-21T07:15:40.250Z"
   },
   {
    "duration": 41,
    "start_time": "2023-02-21T07:15:40.264Z"
   },
   {
    "duration": 49,
    "start_time": "2023-02-21T07:15:40.307Z"
   },
   {
    "duration": 9,
    "start_time": "2023-02-21T07:15:40.359Z"
   },
   {
    "duration": 132,
    "start_time": "2023-02-21T07:15:40.369Z"
   },
   {
    "duration": 15,
    "start_time": "2023-02-21T07:16:59.174Z"
   },
   {
    "duration": 16,
    "start_time": "2023-02-21T07:17:48.269Z"
   },
   {
    "duration": 9,
    "start_time": "2023-02-21T07:18:37.829Z"
   },
   {
    "duration": 11,
    "start_time": "2023-02-21T07:18:49.717Z"
   },
   {
    "duration": 15,
    "start_time": "2023-02-21T07:18:58.533Z"
   },
   {
    "duration": 40,
    "start_time": "2023-02-21T07:19:38.836Z"
   },
   {
    "duration": 2,
    "start_time": "2023-02-21T07:19:46.485Z"
   },
   {
    "duration": 25,
    "start_time": "2023-02-21T07:21:10.349Z"
   },
   {
    "duration": 17,
    "start_time": "2023-02-21T07:38:18.577Z"
   },
   {
    "duration": 21,
    "start_time": "2023-02-21T07:38:57.857Z"
   },
   {
    "duration": 19,
    "start_time": "2023-02-21T07:40:26.039Z"
   },
   {
    "duration": 18,
    "start_time": "2023-02-21T07:40:29.425Z"
   },
   {
    "duration": 17,
    "start_time": "2023-02-21T07:40:32.856Z"
   },
   {
    "duration": 15,
    "start_time": "2023-02-21T07:40:35.552Z"
   },
   {
    "duration": 25,
    "start_time": "2023-02-21T07:41:41.673Z"
   },
   {
    "duration": 87,
    "start_time": "2023-02-21T07:43:34.759Z"
   },
   {
    "duration": 1376,
    "start_time": "2023-02-21T07:44:05.285Z"
   },
   {
    "duration": 155,
    "start_time": "2023-02-21T07:44:06.663Z"
   },
   {
    "duration": 20,
    "start_time": "2023-02-21T07:44:06.820Z"
   },
   {
    "duration": 39,
    "start_time": "2023-02-21T07:44:06.842Z"
   },
   {
    "duration": 47,
    "start_time": "2023-02-21T07:44:06.883Z"
   },
   {
    "duration": 154,
    "start_time": "2023-02-21T07:44:06.933Z"
   },
   {
    "duration": 10,
    "start_time": "2023-02-21T07:44:07.090Z"
   },
   {
    "duration": 61,
    "start_time": "2023-02-21T07:44:07.102Z"
   },
   {
    "duration": 34,
    "start_time": "2023-02-21T07:44:07.165Z"
   },
   {
    "duration": 160,
    "start_time": "2023-02-21T07:44:07.201Z"
   },
   {
    "duration": 9,
    "start_time": "2023-02-21T07:44:07.363Z"
   },
   {
    "duration": 44,
    "start_time": "2023-02-21T07:44:07.374Z"
   },
   {
    "duration": 29,
    "start_time": "2023-02-21T07:44:07.439Z"
   },
   {
    "duration": 11,
    "start_time": "2023-02-21T07:44:07.471Z"
   },
   {
    "duration": 39,
    "start_time": "2023-02-21T07:44:07.484Z"
   },
   {
    "duration": 15,
    "start_time": "2023-02-21T07:44:07.525Z"
   },
   {
    "duration": 28,
    "start_time": "2023-02-21T07:44:07.542Z"
   },
   {
    "duration": 16,
    "start_time": "2023-02-21T07:44:07.572Z"
   },
   {
    "duration": 16,
    "start_time": "2023-02-21T07:44:07.590Z"
   },
   {
    "duration": 335,
    "start_time": "2023-02-21T07:44:07.608Z"
   },
   {
    "duration": 16,
    "start_time": "2023-02-21T07:44:39.824Z"
   },
   {
    "duration": 49,
    "start_time": "2023-02-21T07:51:16.389Z"
   },
   {
    "duration": 15,
    "start_time": "2023-02-21T07:51:41.646Z"
   },
   {
    "duration": 19,
    "start_time": "2023-02-21T07:53:08.182Z"
   },
   {
    "duration": 17,
    "start_time": "2023-02-21T07:53:44.709Z"
   },
   {
    "duration": 49,
    "start_time": "2023-02-21T08:01:23.898Z"
   },
   {
    "duration": 53,
    "start_time": "2023-02-21T08:01:36.284Z"
   },
   {
    "duration": 19,
    "start_time": "2023-02-21T08:03:45.540Z"
   },
   {
    "duration": 48,
    "start_time": "2023-02-21T08:04:53.163Z"
   },
   {
    "duration": 53,
    "start_time": "2023-02-21T08:06:03.893Z"
   },
   {
    "duration": 66,
    "start_time": "2023-02-21T08:06:32.874Z"
   },
   {
    "duration": 57,
    "start_time": "2023-02-21T08:07:55.282Z"
   },
   {
    "duration": 19,
    "start_time": "2023-02-21T08:08:03.178Z"
   },
   {
    "duration": 23,
    "start_time": "2023-02-21T08:08:35.850Z"
   },
   {
    "duration": 21,
    "start_time": "2023-02-21T08:08:53.834Z"
   },
   {
    "duration": 19,
    "start_time": "2023-02-21T08:09:13.594Z"
   },
   {
    "duration": 17,
    "start_time": "2023-02-21T08:10:02.363Z"
   },
   {
    "duration": 20,
    "start_time": "2023-02-21T08:10:15.481Z"
   },
   {
    "duration": 88,
    "start_time": "2023-02-21T08:10:20.466Z"
   },
   {
    "duration": 24,
    "start_time": "2023-02-21T08:10:25.050Z"
   },
   {
    "duration": 42,
    "start_time": "2023-02-21T08:10:29.705Z"
   },
   {
    "duration": 99,
    "start_time": "2023-02-21T08:10:33.642Z"
   },
   {
    "duration": 19,
    "start_time": "2023-02-21T08:10:41.130Z"
   },
   {
    "duration": 47,
    "start_time": "2023-02-21T08:10:48.001Z"
   },
   {
    "duration": 18,
    "start_time": "2023-02-21T08:11:16.570Z"
   },
   {
    "duration": 21,
    "start_time": "2023-02-21T08:11:46.147Z"
   },
   {
    "duration": 17,
    "start_time": "2023-02-21T08:12:11.937Z"
   },
   {
    "duration": 17,
    "start_time": "2023-02-21T08:13:24.993Z"
   },
   {
    "duration": 20,
    "start_time": "2023-02-21T08:13:43.649Z"
   },
   {
    "duration": 62,
    "start_time": "2023-02-21T14:20:23.653Z"
   },
   {
    "duration": 1743,
    "start_time": "2023-02-21T14:20:38.057Z"
   },
   {
    "duration": 499,
    "start_time": "2023-02-21T14:20:39.804Z"
   },
   {
    "duration": 18,
    "start_time": "2023-02-21T14:20:40.311Z"
   },
   {
    "duration": 48,
    "start_time": "2023-02-21T14:20:40.332Z"
   },
   {
    "duration": 42,
    "start_time": "2023-02-21T14:20:40.392Z"
   },
   {
    "duration": 747,
    "start_time": "2023-02-21T14:20:40.436Z"
   },
   {
    "duration": 17,
    "start_time": "2023-02-21T14:20:41.185Z"
   },
   {
    "duration": 63,
    "start_time": "2023-02-21T14:20:41.208Z"
   },
   {
    "duration": 42,
    "start_time": "2023-02-21T14:20:41.273Z"
   },
   {
    "duration": 665,
    "start_time": "2023-02-21T14:20:41.317Z"
   },
   {
    "duration": 13,
    "start_time": "2023-02-21T14:20:41.984Z"
   },
   {
    "duration": 52,
    "start_time": "2023-02-21T14:20:41.998Z"
   },
   {
    "duration": 37,
    "start_time": "2023-02-21T14:20:42.052Z"
   },
   {
    "duration": 14,
    "start_time": "2023-02-21T14:20:42.092Z"
   },
   {
    "duration": 42,
    "start_time": "2023-02-21T14:20:42.113Z"
   },
   {
    "duration": 4,
    "start_time": "2023-02-21T14:20:42.156Z"
   },
   {
    "duration": 42,
    "start_time": "2023-02-21T14:20:42.162Z"
   },
   {
    "duration": 20,
    "start_time": "2023-02-21T14:20:42.212Z"
   },
   {
    "duration": 17,
    "start_time": "2023-02-21T14:20:42.234Z"
   },
   {
    "duration": 4,
    "start_time": "2023-02-21T14:20:42.252Z"
   },
   {
    "duration": 54,
    "start_time": "2023-02-21T14:20:42.259Z"
   },
   {
    "duration": 209,
    "start_time": "2023-02-21T14:20:42.315Z"
   },
   {
    "duration": 113,
    "start_time": "2023-02-21T14:20:42.591Z"
   },
   {
    "duration": 63,
    "start_time": "2023-02-21T14:27:57.846Z"
   },
   {
    "duration": 43,
    "start_time": "2023-02-21T14:28:07.277Z"
   },
   {
    "duration": 31,
    "start_time": "2023-02-21T14:28:49.431Z"
   },
   {
    "duration": 3,
    "start_time": "2023-02-21T15:30:19.884Z"
   },
   {
    "duration": 3,
    "start_time": "2023-02-21T15:30:22.172Z"
   },
   {
    "duration": 3,
    "start_time": "2023-02-21T15:32:27.180Z"
   },
   {
    "duration": 3,
    "start_time": "2023-02-21T15:32:48.227Z"
   },
   {
    "duration": 3,
    "start_time": "2023-02-21T15:35:27.315Z"
   },
   {
    "duration": 4,
    "start_time": "2023-02-21T15:38:31.050Z"
   },
   {
    "duration": 24,
    "start_time": "2023-02-21T15:45:40.327Z"
   },
   {
    "duration": 124,
    "start_time": "2023-02-21T15:45:51.975Z"
   },
   {
    "duration": 5,
    "start_time": "2023-02-21T15:46:04.921Z"
   },
   {
    "duration": 4,
    "start_time": "2023-02-21T15:47:03.032Z"
   },
   {
    "duration": 82,
    "start_time": "2023-02-21T15:48:58.515Z"
   },
   {
    "duration": 5,
    "start_time": "2023-02-21T15:49:04.320Z"
   },
   {
    "duration": 4,
    "start_time": "2023-02-21T15:49:20.520Z"
   },
   {
    "duration": 5,
    "start_time": "2023-02-21T15:49:30.280Z"
   },
   {
    "duration": 1605,
    "start_time": "2023-02-22T07:42:26.033Z"
   },
   {
    "duration": 567,
    "start_time": "2023-02-22T07:42:27.640Z"
   },
   {
    "duration": 14,
    "start_time": "2023-02-22T07:42:28.209Z"
   },
   {
    "duration": 36,
    "start_time": "2023-02-22T07:42:28.225Z"
   },
   {
    "duration": 28,
    "start_time": "2023-02-22T07:42:28.264Z"
   },
   {
    "duration": 222,
    "start_time": "2023-02-22T07:42:28.294Z"
   },
   {
    "duration": 10,
    "start_time": "2023-02-22T07:42:28.517Z"
   },
   {
    "duration": 41,
    "start_time": "2023-02-22T07:42:28.528Z"
   },
   {
    "duration": 31,
    "start_time": "2023-02-22T07:42:28.571Z"
   },
   {
    "duration": 220,
    "start_time": "2023-02-22T07:42:28.604Z"
   },
   {
    "duration": 11,
    "start_time": "2023-02-22T07:42:28.826Z"
   },
   {
    "duration": 47,
    "start_time": "2023-02-22T07:42:28.840Z"
   },
   {
    "duration": 36,
    "start_time": "2023-02-22T07:42:28.889Z"
   },
   {
    "duration": 12,
    "start_time": "2023-02-22T07:42:28.942Z"
   },
   {
    "duration": 43,
    "start_time": "2023-02-22T07:42:28.957Z"
   },
   {
    "duration": 3,
    "start_time": "2023-02-22T07:42:29.002Z"
   },
   {
    "duration": 45,
    "start_time": "2023-02-22T07:42:29.007Z"
   },
   {
    "duration": 31,
    "start_time": "2023-02-22T07:42:29.055Z"
   },
   {
    "duration": 15,
    "start_time": "2023-02-22T07:42:29.089Z"
   },
   {
    "duration": 2,
    "start_time": "2023-02-22T07:42:29.106Z"
   },
   {
    "duration": 44,
    "start_time": "2023-02-22T07:42:29.110Z"
   },
   {
    "duration": 194,
    "start_time": "2023-02-22T07:42:29.157Z"
   },
   {
    "duration": 202,
    "start_time": "2023-02-22T07:42:29.352Z"
   },
   {
    "duration": 85,
    "start_time": "2023-02-22T07:42:29.555Z"
   },
   {
    "duration": 98,
    "start_time": "2023-02-22T07:42:29.643Z"
   },
   {
    "duration": 7,
    "start_time": "2023-02-22T07:42:29.743Z"
   },
   {
    "duration": 5,
    "start_time": "2023-02-22T07:42:29.752Z"
   },
   {
    "duration": 9,
    "start_time": "2023-02-22T07:42:29.759Z"
   },
   {
    "duration": 116,
    "start_time": "2023-02-22T07:49:45.646Z"
   },
   {
    "duration": 5,
    "start_time": "2023-02-22T07:49:58.288Z"
   },
   {
    "duration": 19,
    "start_time": "2023-02-22T07:50:53.182Z"
   },
   {
    "duration": 14,
    "start_time": "2023-02-22T07:50:57.863Z"
   },
   {
    "duration": 23,
    "start_time": "2023-02-22T07:52:46.246Z"
   },
   {
    "duration": 17,
    "start_time": "2023-02-22T07:53:02.733Z"
   },
   {
    "duration": 5,
    "start_time": "2023-02-22T07:53:55.662Z"
   },
   {
    "duration": 10,
    "start_time": "2023-02-22T07:54:11.854Z"
   },
   {
    "duration": 18,
    "start_time": "2023-02-22T07:54:42.501Z"
   },
   {
    "duration": 7,
    "start_time": "2023-02-22T07:55:31.304Z"
   },
   {
    "duration": 6,
    "start_time": "2023-02-22T07:56:47.494Z"
   },
   {
    "duration": 12,
    "start_time": "2023-02-22T07:57:53.437Z"
   },
   {
    "duration": 9,
    "start_time": "2023-02-22T07:58:08.549Z"
   },
   {
    "duration": 14,
    "start_time": "2023-02-22T07:58:30.642Z"
   },
   {
    "duration": 13,
    "start_time": "2023-02-22T08:02:50.539Z"
   },
   {
    "duration": 11,
    "start_time": "2023-02-22T08:03:06.908Z"
   },
   {
    "duration": 8,
    "start_time": "2023-02-22T08:03:52.316Z"
   },
   {
    "duration": 10,
    "start_time": "2023-02-22T08:04:16.562Z"
   },
   {
    "duration": 12,
    "start_time": "2023-02-22T15:02:44.969Z"
   },
   {
    "duration": 99,
    "start_time": "2023-02-22T15:05:46.085Z"
   },
   {
    "duration": 45,
    "start_time": "2023-02-22T15:06:08.673Z"
   },
   {
    "duration": 1702,
    "start_time": "2023-02-22T15:06:44.542Z"
   },
   {
    "duration": 399,
    "start_time": "2023-02-22T15:06:46.246Z"
   },
   {
    "duration": 17,
    "start_time": "2023-02-22T15:06:46.647Z"
   },
   {
    "duration": 46,
    "start_time": "2023-02-22T15:06:46.667Z"
   },
   {
    "duration": 60,
    "start_time": "2023-02-22T15:06:46.715Z"
   },
   {
    "duration": 582,
    "start_time": "2023-02-22T15:06:46.776Z"
   },
   {
    "duration": 11,
    "start_time": "2023-02-22T15:06:47.360Z"
   },
   {
    "duration": 39,
    "start_time": "2023-02-22T15:06:47.372Z"
   },
   {
    "duration": 47,
    "start_time": "2023-02-22T15:06:47.413Z"
   },
   {
    "duration": 528,
    "start_time": "2023-02-22T15:06:47.463Z"
   },
   {
    "duration": 10,
    "start_time": "2023-02-22T15:06:47.993Z"
   },
   {
    "duration": 40,
    "start_time": "2023-02-22T15:06:48.005Z"
   },
   {
    "duration": 33,
    "start_time": "2023-02-22T15:06:48.047Z"
   },
   {
    "duration": 11,
    "start_time": "2023-02-22T15:06:48.082Z"
   },
   {
    "duration": 55,
    "start_time": "2023-02-22T15:06:48.095Z"
   },
   {
    "duration": 3,
    "start_time": "2023-02-22T15:06:48.152Z"
   },
   {
    "duration": 33,
    "start_time": "2023-02-22T15:06:48.158Z"
   },
   {
    "duration": 16,
    "start_time": "2023-02-22T15:06:48.193Z"
   },
   {
    "duration": 33,
    "start_time": "2023-02-22T15:06:48.211Z"
   },
   {
    "duration": 7,
    "start_time": "2023-02-22T15:06:48.246Z"
   },
   {
    "duration": 185,
    "start_time": "2023-02-22T15:06:48.254Z"
   },
   {
    "duration": 100,
    "start_time": "2023-02-22T15:06:48.442Z"
   },
   {
    "duration": 117,
    "start_time": "2023-02-22T15:06:48.544Z"
   },
   {
    "duration": 75,
    "start_time": "2023-02-22T15:06:48.663Z"
   },
   {
    "duration": 101,
    "start_time": "2023-02-22T15:06:48.742Z"
   },
   {
    "duration": 12,
    "start_time": "2023-02-22T15:06:48.845Z"
   },
   {
    "duration": 8,
    "start_time": "2023-02-22T15:06:48.859Z"
   },
   {
    "duration": 9,
    "start_time": "2023-02-22T15:06:48.870Z"
   },
   {
    "duration": 6,
    "start_time": "2023-02-22T15:06:48.880Z"
   },
   {
    "duration": 12,
    "start_time": "2023-02-22T15:06:48.887Z"
   },
   {
    "duration": 8,
    "start_time": "2023-02-22T15:06:48.901Z"
   },
   {
    "duration": 8,
    "start_time": "2023-02-22T15:16:02.367Z"
   },
   {
    "duration": 16,
    "start_time": "2023-02-22T15:17:07.824Z"
   },
   {
    "duration": 9,
    "start_time": "2023-02-22T15:17:34.741Z"
   },
   {
    "duration": 1483,
    "start_time": "2023-02-22T15:18:36.229Z"
   },
   {
    "duration": 154,
    "start_time": "2023-02-22T15:18:37.714Z"
   },
   {
    "duration": 14,
    "start_time": "2023-02-22T15:18:37.870Z"
   },
   {
    "duration": 53,
    "start_time": "2023-02-22T15:18:37.887Z"
   },
   {
    "duration": 34,
    "start_time": "2023-02-22T15:18:37.943Z"
   },
   {
    "duration": 150,
    "start_time": "2023-02-22T15:18:37.979Z"
   },
   {
    "duration": 13,
    "start_time": "2023-02-22T15:18:38.131Z"
   },
   {
    "duration": 52,
    "start_time": "2023-02-22T15:18:38.146Z"
   },
   {
    "duration": 55,
    "start_time": "2023-02-22T15:18:38.201Z"
   },
   {
    "duration": 151,
    "start_time": "2023-02-22T15:18:38.258Z"
   },
   {
    "duration": 12,
    "start_time": "2023-02-22T15:18:38.412Z"
   },
   {
    "duration": 65,
    "start_time": "2023-02-22T15:18:38.435Z"
   },
   {
    "duration": 58,
    "start_time": "2023-02-22T15:18:38.502Z"
   },
   {
    "duration": 15,
    "start_time": "2023-02-22T15:18:38.564Z"
   },
   {
    "duration": 71,
    "start_time": "2023-02-22T15:18:38.581Z"
   },
   {
    "duration": 4,
    "start_time": "2023-02-22T15:18:38.654Z"
   },
   {
    "duration": 50,
    "start_time": "2023-02-22T15:18:38.660Z"
   },
   {
    "duration": 16,
    "start_time": "2023-02-22T15:18:38.712Z"
   },
   {
    "duration": 15,
    "start_time": "2023-02-22T15:18:38.730Z"
   },
   {
    "duration": 2,
    "start_time": "2023-02-22T15:18:38.747Z"
   },
   {
    "duration": 25,
    "start_time": "2023-02-22T15:18:38.751Z"
   },
   {
    "duration": 164,
    "start_time": "2023-02-22T15:18:38.777Z"
   },
   {
    "duration": 109,
    "start_time": "2023-02-22T15:18:38.943Z"
   },
   {
    "duration": 84,
    "start_time": "2023-02-22T15:18:39.054Z"
   },
   {
    "duration": 105,
    "start_time": "2023-02-22T15:18:39.140Z"
   },
   {
    "duration": 8,
    "start_time": "2023-02-22T15:18:39.248Z"
   },
   {
    "duration": 12,
    "start_time": "2023-02-22T15:18:39.257Z"
   },
   {
    "duration": 9,
    "start_time": "2023-02-22T15:18:39.271Z"
   },
   {
    "duration": 9,
    "start_time": "2023-02-22T15:18:39.283Z"
   },
   {
    "duration": 43,
    "start_time": "2023-02-22T15:18:39.294Z"
   },
   {
    "duration": 2698,
    "start_time": "2023-02-22T15:39:39.149Z"
   },
   {
    "duration": 64,
    "start_time": "2023-02-22T15:40:20.405Z"
   },
   {
    "duration": 1596,
    "start_time": "2023-02-22T15:40:34.499Z"
   },
   {
    "duration": 402,
    "start_time": "2023-02-22T15:40:36.098Z"
   },
   {
    "duration": 20,
    "start_time": "2023-02-22T15:40:36.502Z"
   },
   {
    "duration": 64,
    "start_time": "2023-02-22T15:40:36.524Z"
   },
   {
    "duration": 55,
    "start_time": "2023-02-22T15:40:36.591Z"
   },
   {
    "duration": 598,
    "start_time": "2023-02-22T15:40:36.648Z"
   },
   {
    "duration": 10,
    "start_time": "2023-02-22T15:40:37.248Z"
   },
   {
    "duration": 79,
    "start_time": "2023-02-22T15:40:37.260Z"
   },
   {
    "duration": 45,
    "start_time": "2023-02-22T15:40:37.342Z"
   },
   {
    "duration": 563,
    "start_time": "2023-02-22T15:40:37.390Z"
   },
   {
    "duration": 10,
    "start_time": "2023-02-22T15:40:37.955Z"
   },
   {
    "duration": 58,
    "start_time": "2023-02-22T15:40:37.967Z"
   },
   {
    "duration": 50,
    "start_time": "2023-02-22T15:40:38.027Z"
   },
   {
    "duration": 17,
    "start_time": "2023-02-22T15:40:38.081Z"
   },
   {
    "duration": 63,
    "start_time": "2023-02-22T15:40:38.100Z"
   },
   {
    "duration": 3,
    "start_time": "2023-02-22T15:40:38.165Z"
   },
   {
    "duration": 59,
    "start_time": "2023-02-22T15:40:38.170Z"
   },
   {
    "duration": 22,
    "start_time": "2023-02-22T15:40:38.231Z"
   },
   {
    "duration": 39,
    "start_time": "2023-02-22T15:40:38.256Z"
   },
   {
    "duration": 26,
    "start_time": "2023-02-22T15:40:38.298Z"
   },
   {
    "duration": 112,
    "start_time": "2023-02-22T15:40:38.326Z"
   },
   {
    "duration": 103,
    "start_time": "2023-02-22T15:40:38.439Z"
   },
   {
    "duration": 113,
    "start_time": "2023-02-22T15:40:38.543Z"
   },
   {
    "duration": 183,
    "start_time": "2023-02-22T15:40:38.658Z"
   },
   {
    "duration": 17,
    "start_time": "2023-02-22T15:40:38.844Z"
   },
   {
    "duration": 49,
    "start_time": "2023-02-22T15:40:38.865Z"
   },
   {
    "duration": 18,
    "start_time": "2023-02-22T15:40:38.916Z"
   },
   {
    "duration": 21,
    "start_time": "2023-02-22T15:40:38.937Z"
   },
   {
    "duration": 28,
    "start_time": "2023-02-22T15:40:38.960Z"
   },
   {
    "duration": 32,
    "start_time": "2023-02-22T15:40:38.991Z"
   },
   {
    "duration": 74,
    "start_time": "2023-02-22T15:41:00.358Z"
   },
   {
    "duration": 2061,
    "start_time": "2023-02-22T15:41:09.656Z"
   },
   {
    "duration": 486,
    "start_time": "2023-02-22T15:41:11.722Z"
   },
   {
    "duration": 20,
    "start_time": "2023-02-22T15:41:12.213Z"
   },
   {
    "duration": 88,
    "start_time": "2023-02-22T15:41:12.235Z"
   },
   {
    "duration": 56,
    "start_time": "2023-02-22T15:41:12.326Z"
   },
   {
    "duration": 652,
    "start_time": "2023-02-22T15:41:12.384Z"
   },
   {
    "duration": 13,
    "start_time": "2023-02-22T15:41:13.039Z"
   },
   {
    "duration": 82,
    "start_time": "2023-02-22T15:41:13.054Z"
   },
   {
    "duration": 47,
    "start_time": "2023-02-22T15:41:13.140Z"
   },
   {
    "duration": 628,
    "start_time": "2023-02-22T15:41:13.190Z"
   },
   {
    "duration": 17,
    "start_time": "2023-02-22T15:41:13.822Z"
   },
   {
    "duration": 82,
    "start_time": "2023-02-22T15:41:13.841Z"
   },
   {
    "duration": 61,
    "start_time": "2023-02-22T15:41:13.925Z"
   },
   {
    "duration": 23,
    "start_time": "2023-02-22T15:41:13.991Z"
   },
   {
    "duration": 54,
    "start_time": "2023-02-22T15:41:14.017Z"
   },
   {
    "duration": 4,
    "start_time": "2023-02-22T15:41:14.074Z"
   },
   {
    "duration": 35,
    "start_time": "2023-02-22T15:41:14.080Z"
   },
   {
    "duration": 43,
    "start_time": "2023-02-22T15:41:14.117Z"
   },
   {
    "duration": 24,
    "start_time": "2023-02-22T15:41:14.163Z"
   },
   {
    "duration": 6,
    "start_time": "2023-02-22T15:41:14.189Z"
   },
   {
    "duration": 241,
    "start_time": "2023-02-22T15:41:14.197Z"
   },
   {
    "duration": 34,
    "start_time": "2023-02-22T15:41:14.441Z"
   },
   {
    "duration": 166,
    "start_time": "2023-02-22T15:41:14.478Z"
   },
   {
    "duration": 13,
    "start_time": "2023-02-22T15:41:14.646Z"
   },
   {
    "duration": 74,
    "start_time": "2023-02-22T15:41:14.669Z"
   },
   {
    "duration": 10,
    "start_time": "2023-02-22T15:41:14.746Z"
   },
   {
    "duration": 10,
    "start_time": "2023-02-22T15:41:14.759Z"
   },
   {
    "duration": 8,
    "start_time": "2023-02-22T15:41:14.772Z"
   },
   {
    "duration": 22,
    "start_time": "2023-02-22T15:41:14.782Z"
   },
   {
    "duration": 40,
    "start_time": "2023-02-22T15:41:14.807Z"
   },
   {
    "duration": 1160,
    "start_time": "2023-02-22T15:42:33.511Z"
   },
   {
    "duration": 392,
    "start_time": "2023-02-22T15:42:34.673Z"
   },
   {
    "duration": 20,
    "start_time": "2023-02-22T15:42:35.067Z"
   },
   {
    "duration": 63,
    "start_time": "2023-02-22T15:42:35.089Z"
   },
   {
    "duration": 49,
    "start_time": "2023-02-22T15:42:35.155Z"
   },
   {
    "duration": 600,
    "start_time": "2023-02-22T15:42:35.206Z"
   },
   {
    "duration": 12,
    "start_time": "2023-02-22T15:42:35.809Z"
   },
   {
    "duration": 57,
    "start_time": "2023-02-22T15:42:35.823Z"
   },
   {
    "duration": 54,
    "start_time": "2023-02-22T15:42:35.882Z"
   },
   {
    "duration": 534,
    "start_time": "2023-02-22T15:42:35.938Z"
   },
   {
    "duration": 12,
    "start_time": "2023-02-22T15:42:36.474Z"
   },
   {
    "duration": 53,
    "start_time": "2023-02-22T15:42:36.490Z"
   },
   {
    "duration": 54,
    "start_time": "2023-02-22T15:42:36.546Z"
   },
   {
    "duration": 12,
    "start_time": "2023-02-22T15:42:36.604Z"
   },
   {
    "duration": 53,
    "start_time": "2023-02-22T15:42:36.618Z"
   },
   {
    "duration": 3,
    "start_time": "2023-02-22T15:42:36.673Z"
   },
   {
    "duration": 35,
    "start_time": "2023-02-22T15:42:36.678Z"
   },
   {
    "duration": 31,
    "start_time": "2023-02-22T15:42:36.715Z"
   },
   {
    "duration": 20,
    "start_time": "2023-02-22T15:42:36.748Z"
   },
   {
    "duration": 5,
    "start_time": "2023-02-22T15:42:36.770Z"
   },
   {
    "duration": 61,
    "start_time": "2023-02-22T15:42:36.777Z"
   },
   {
    "duration": 197,
    "start_time": "2023-02-22T15:42:36.840Z"
   },
   {
    "duration": 132,
    "start_time": "2023-02-22T15:42:37.039Z"
   },
   {
    "duration": 170,
    "start_time": "2023-02-22T15:42:37.172Z"
   },
   {
    "duration": 29,
    "start_time": "2023-02-22T15:42:37.343Z"
   },
   {
    "duration": 20,
    "start_time": "2023-02-22T15:42:37.374Z"
   },
   {
    "duration": 27,
    "start_time": "2023-02-22T15:42:37.396Z"
   },
   {
    "duration": 32,
    "start_time": "2023-02-22T15:42:37.425Z"
   },
   {
    "duration": 21,
    "start_time": "2023-02-22T15:42:37.459Z"
   },
   {
    "duration": 47,
    "start_time": "2023-02-22T15:42:37.482Z"
   },
   {
    "duration": 65,
    "start_time": "2023-02-22T15:43:09.827Z"
   },
   {
    "duration": 1231,
    "start_time": "2023-02-22T15:43:21.966Z"
   },
   {
    "duration": 454,
    "start_time": "2023-02-22T15:43:23.200Z"
   },
   {
    "duration": 21,
    "start_time": "2023-02-22T15:43:23.657Z"
   },
   {
    "duration": 72,
    "start_time": "2023-02-22T15:43:23.682Z"
   },
   {
    "duration": 38,
    "start_time": "2023-02-22T15:43:23.757Z"
   },
   {
    "duration": 611,
    "start_time": "2023-02-22T15:43:23.796Z"
   },
   {
    "duration": 10,
    "start_time": "2023-02-22T15:43:24.409Z"
   },
   {
    "duration": 53,
    "start_time": "2023-02-22T15:43:24.422Z"
   },
   {
    "duration": 42,
    "start_time": "2023-02-22T15:43:24.477Z"
   },
   {
    "duration": 575,
    "start_time": "2023-02-22T15:43:24.521Z"
   },
   {
    "duration": 10,
    "start_time": "2023-02-22T15:43:25.099Z"
   },
   {
    "duration": 58,
    "start_time": "2023-02-22T15:43:25.111Z"
   },
   {
    "duration": 32,
    "start_time": "2023-02-22T15:43:25.172Z"
   },
   {
    "duration": 13,
    "start_time": "2023-02-22T15:43:25.208Z"
   },
   {
    "duration": 44,
    "start_time": "2023-02-22T15:43:25.237Z"
   },
   {
    "duration": 4,
    "start_time": "2023-02-22T15:43:25.284Z"
   },
   {
    "duration": 48,
    "start_time": "2023-02-22T15:43:25.289Z"
   },
   {
    "duration": 18,
    "start_time": "2023-02-22T15:43:25.339Z"
   },
   {
    "duration": 17,
    "start_time": "2023-02-22T15:43:25.359Z"
   },
   {
    "duration": 3,
    "start_time": "2023-02-22T15:43:25.378Z"
   },
   {
    "duration": 62,
    "start_time": "2023-02-22T15:43:25.383Z"
   },
   {
    "duration": 107,
    "start_time": "2023-02-22T15:43:25.447Z"
   },
   {
    "duration": 87,
    "start_time": "2023-02-22T15:43:25.557Z"
   },
   {
    "duration": 10,
    "start_time": "2023-02-22T15:43:25.646Z"
   },
   {
    "duration": 13,
    "start_time": "2023-02-22T15:43:25.738Z"
   },
   {
    "duration": 87,
    "start_time": "2023-02-22T15:43:25.753Z"
   },
   {
    "duration": 8,
    "start_time": "2023-02-22T15:43:25.842Z"
   },
   {
    "duration": 6,
    "start_time": "2023-02-22T15:43:25.854Z"
   },
   {
    "duration": 5,
    "start_time": "2023-02-22T15:43:25.862Z"
   },
   {
    "duration": 22,
    "start_time": "2023-02-22T15:43:25.868Z"
   },
   {
    "duration": 1273,
    "start_time": "2023-02-24T04:14:05.783Z"
   },
   {
    "duration": 526,
    "start_time": "2023-02-24T04:14:07.058Z"
   },
   {
    "duration": 14,
    "start_time": "2023-02-24T04:14:07.585Z"
   },
   {
    "duration": 27,
    "start_time": "2023-02-24T04:14:07.601Z"
   },
   {
    "duration": 30,
    "start_time": "2023-02-24T04:14:07.630Z"
   },
   {
    "duration": 543,
    "start_time": "2023-02-24T04:14:07.662Z"
   },
   {
    "duration": 8,
    "start_time": "2023-02-24T04:14:08.207Z"
   },
   {
    "duration": 36,
    "start_time": "2023-02-24T04:14:08.216Z"
   },
   {
    "duration": 26,
    "start_time": "2023-02-24T04:14:08.254Z"
   },
   {
    "duration": 523,
    "start_time": "2023-02-24T04:14:08.282Z"
   },
   {
    "duration": 8,
    "start_time": "2023-02-24T04:14:08.806Z"
   },
   {
    "duration": 40,
    "start_time": "2023-02-24T04:14:08.815Z"
   },
   {
    "duration": 30,
    "start_time": "2023-02-24T04:14:08.857Z"
   },
   {
    "duration": 10,
    "start_time": "2023-02-24T04:14:08.891Z"
   },
   {
    "duration": 45,
    "start_time": "2023-02-24T04:14:08.903Z"
   },
   {
    "duration": 3,
    "start_time": "2023-02-24T04:14:08.950Z"
   },
   {
    "duration": 27,
    "start_time": "2023-02-24T04:14:08.954Z"
   },
   {
    "duration": 16,
    "start_time": "2023-02-24T04:14:08.983Z"
   },
   {
    "duration": 14,
    "start_time": "2023-02-24T04:14:09.000Z"
   },
   {
    "duration": 2,
    "start_time": "2023-02-24T04:14:09.016Z"
   },
   {
    "duration": 49,
    "start_time": "2023-02-24T04:14:09.020Z"
   },
   {
    "duration": 93,
    "start_time": "2023-02-24T04:14:09.161Z"
   },
   {
    "duration": 198,
    "start_time": "2023-02-24T04:14:09.256Z"
   },
   {
    "duration": 94,
    "start_time": "2023-02-24T04:14:09.456Z"
   },
   {
    "duration": 5,
    "start_time": "2023-02-24T04:14:09.552Z"
   },
   {
    "duration": 5,
    "start_time": "2023-02-24T04:14:09.559Z"
   },
   {
    "duration": 6,
    "start_time": "2023-02-24T04:14:09.565Z"
   },
   {
    "duration": 7,
    "start_time": "2023-02-24T04:14:09.573Z"
   },
   {
    "duration": 4,
    "start_time": "2023-02-24T04:14:09.581Z"
   },
   {
    "duration": 19,
    "start_time": "2023-02-24T04:14:09.586Z"
   },
   {
    "duration": 1008,
    "start_time": "2023-02-24T04:14:26.891Z"
   },
   {
    "duration": 376,
    "start_time": "2023-02-24T04:14:27.901Z"
   },
   {
    "duration": 14,
    "start_time": "2023-02-24T04:14:28.278Z"
   },
   {
    "duration": 28,
    "start_time": "2023-02-24T04:14:28.293Z"
   },
   {
    "duration": 26,
    "start_time": "2023-02-24T04:14:28.322Z"
   },
   {
    "duration": 544,
    "start_time": "2023-02-24T04:14:28.350Z"
   },
   {
    "duration": 9,
    "start_time": "2023-02-24T04:14:28.895Z"
   },
   {
    "duration": 29,
    "start_time": "2023-02-24T04:14:28.905Z"
   },
   {
    "duration": 22,
    "start_time": "2023-02-24T04:14:28.936Z"
   },
   {
    "duration": 514,
    "start_time": "2023-02-24T04:14:28.959Z"
   },
   {
    "duration": 8,
    "start_time": "2023-02-24T04:14:29.475Z"
   },
   {
    "duration": 29,
    "start_time": "2023-02-24T04:14:29.484Z"
   },
   {
    "duration": 22,
    "start_time": "2023-02-24T04:14:29.514Z"
   },
   {
    "duration": 11,
    "start_time": "2023-02-24T04:14:29.537Z"
   },
   {
    "duration": 43,
    "start_time": "2023-02-24T04:14:29.549Z"
   },
   {
    "duration": 2,
    "start_time": "2023-02-24T04:14:29.594Z"
   },
   {
    "duration": 19,
    "start_time": "2023-02-24T04:14:29.597Z"
   },
   {
    "duration": 13,
    "start_time": "2023-02-24T04:14:29.619Z"
   },
   {
    "duration": 22,
    "start_time": "2023-02-24T04:14:29.633Z"
   },
   {
    "duration": 3,
    "start_time": "2023-02-24T04:14:29.656Z"
   },
   {
    "duration": 21,
    "start_time": "2023-02-24T04:14:29.660Z"
   },
   {
    "duration": 107,
    "start_time": "2023-02-24T04:14:29.751Z"
   },
   {
    "duration": 103,
    "start_time": "2023-02-24T04:14:29.860Z"
   },
   {
    "duration": 91,
    "start_time": "2023-02-24T04:14:29.964Z"
   },
   {
    "duration": 91,
    "start_time": "2023-02-24T04:14:30.057Z"
   },
   {
    "duration": 3,
    "start_time": "2023-02-24T04:14:30.150Z"
   },
   {
    "duration": 22,
    "start_time": "2023-02-24T04:14:30.155Z"
   },
   {
    "duration": 23,
    "start_time": "2023-02-24T04:14:30.178Z"
   },
   {
    "duration": 17,
    "start_time": "2023-02-24T04:14:30.202Z"
   },
   {
    "duration": 26,
    "start_time": "2023-02-24T04:14:30.220Z"
   },
   {
    "duration": 93,
    "start_time": "2023-02-24T04:28:21.517Z"
   },
   {
    "duration": 13,
    "start_time": "2023-02-24T04:47:48.152Z"
   },
   {
    "duration": 7,
    "start_time": "2023-02-24T04:55:36.183Z"
   },
   {
    "duration": 3,
    "start_time": "2023-02-24T04:55:50.463Z"
   },
   {
    "duration": 3,
    "start_time": "2023-02-24T04:55:56.343Z"
   },
   {
    "duration": 5,
    "start_time": "2023-02-24T04:55:59.103Z"
   },
   {
    "duration": 5,
    "start_time": "2023-02-24T04:56:01.840Z"
   },
   {
    "duration": 5,
    "start_time": "2023-02-24T04:56:04.391Z"
   },
   {
    "duration": 14,
    "start_time": "2023-02-24T04:56:13.848Z"
   },
   {
    "duration": 10,
    "start_time": "2023-02-24T04:56:30.511Z"
   },
   {
    "duration": 1043,
    "start_time": "2023-02-24T04:57:53.980Z"
   },
   {
    "duration": 159,
    "start_time": "2023-02-24T04:57:55.025Z"
   },
   {
    "duration": 18,
    "start_time": "2023-02-24T04:57:55.186Z"
   },
   {
    "duration": 56,
    "start_time": "2023-02-24T04:57:55.206Z"
   },
   {
    "duration": 32,
    "start_time": "2023-02-24T04:57:55.264Z"
   },
   {
    "duration": 166,
    "start_time": "2023-02-24T04:57:55.298Z"
   },
   {
    "duration": 10,
    "start_time": "2023-02-24T04:57:55.466Z"
   },
   {
    "duration": 37,
    "start_time": "2023-02-24T04:57:55.477Z"
   },
   {
    "duration": 45,
    "start_time": "2023-02-24T04:57:55.515Z"
   },
   {
    "duration": 132,
    "start_time": "2023-02-24T04:57:55.562Z"
   },
   {
    "duration": 8,
    "start_time": "2023-02-24T04:57:55.696Z"
   },
   {
    "duration": 45,
    "start_time": "2023-02-24T04:57:55.706Z"
   },
   {
    "duration": 24,
    "start_time": "2023-02-24T04:57:55.753Z"
   },
   {
    "duration": 9,
    "start_time": "2023-02-24T04:57:55.780Z"
   },
   {
    "duration": 31,
    "start_time": "2023-02-24T04:57:55.791Z"
   },
   {
    "duration": 24,
    "start_time": "2023-02-24T04:57:55.824Z"
   },
   {
    "duration": 22,
    "start_time": "2023-02-24T04:57:55.850Z"
   },
   {
    "duration": 15,
    "start_time": "2023-02-24T04:57:55.873Z"
   },
   {
    "duration": 15,
    "start_time": "2023-02-24T04:57:55.889Z"
   },
   {
    "duration": 2,
    "start_time": "2023-02-24T04:57:55.906Z"
   },
   {
    "duration": 47,
    "start_time": "2023-02-24T04:57:55.910Z"
   },
   {
    "duration": 197,
    "start_time": "2023-02-24T04:57:55.959Z"
   },
   {
    "duration": 209,
    "start_time": "2023-02-24T04:57:56.158Z"
   },
   {
    "duration": 262,
    "start_time": "2023-02-24T04:57:56.369Z"
   },
   {
    "duration": 0,
    "start_time": "2023-02-24T04:57:56.633Z"
   },
   {
    "duration": 0,
    "start_time": "2023-02-24T04:57:56.634Z"
   },
   {
    "duration": 0,
    "start_time": "2023-02-24T04:57:56.635Z"
   },
   {
    "duration": 0,
    "start_time": "2023-02-24T04:57:56.648Z"
   },
   {
    "duration": 0,
    "start_time": "2023-02-24T04:57:56.649Z"
   },
   {
    "duration": 0,
    "start_time": "2023-02-24T04:57:56.650Z"
   },
   {
    "duration": 0,
    "start_time": "2023-02-24T04:57:56.651Z"
   },
   {
    "duration": 7,
    "start_time": "2023-02-24T04:58:38.342Z"
   },
   {
    "duration": 3,
    "start_time": "2023-02-24T04:58:57.040Z"
   },
   {
    "duration": 4,
    "start_time": "2023-02-24T04:59:01.470Z"
   },
   {
    "duration": 6,
    "start_time": "2023-02-24T04:59:03.911Z"
   },
   {
    "duration": 6,
    "start_time": "2023-02-24T04:59:08.750Z"
   },
   {
    "duration": 4,
    "start_time": "2023-02-24T04:59:10.839Z"
   },
   {
    "duration": 4,
    "start_time": "2023-02-24T04:59:15.733Z"
   },
   {
    "duration": 15,
    "start_time": "2023-02-24T04:59:17.855Z"
   },
   {
    "duration": 677,
    "start_time": "2023-02-24T04:59:24.390Z"
   },
   {
    "duration": 1062,
    "start_time": "2023-02-24T05:00:50.803Z"
   },
   {
    "duration": 152,
    "start_time": "2023-02-24T05:00:51.867Z"
   },
   {
    "duration": 16,
    "start_time": "2023-02-24T05:00:52.020Z"
   },
   {
    "duration": 40,
    "start_time": "2023-02-24T05:00:52.039Z"
   },
   {
    "duration": 31,
    "start_time": "2023-02-24T05:00:52.080Z"
   },
   {
    "duration": 147,
    "start_time": "2023-02-24T05:00:52.113Z"
   },
   {
    "duration": 9,
    "start_time": "2023-02-24T05:00:52.263Z"
   },
   {
    "duration": 37,
    "start_time": "2023-02-24T05:00:52.273Z"
   },
   {
    "duration": 46,
    "start_time": "2023-02-24T05:00:52.312Z"
   },
   {
    "duration": 136,
    "start_time": "2023-02-24T05:00:52.361Z"
   },
   {
    "duration": 9,
    "start_time": "2023-02-24T05:00:52.498Z"
   },
   {
    "duration": 48,
    "start_time": "2023-02-24T05:00:52.508Z"
   },
   {
    "duration": 29,
    "start_time": "2023-02-24T05:00:52.557Z"
   },
   {
    "duration": 10,
    "start_time": "2023-02-24T05:00:52.587Z"
   },
   {
    "duration": 49,
    "start_time": "2023-02-24T05:00:52.599Z"
   },
   {
    "duration": 2,
    "start_time": "2023-02-24T05:00:52.650Z"
   },
   {
    "duration": 25,
    "start_time": "2023-02-24T05:00:52.654Z"
   },
   {
    "duration": 15,
    "start_time": "2023-02-24T05:00:52.680Z"
   },
   {
    "duration": 14,
    "start_time": "2023-02-24T05:00:52.696Z"
   },
   {
    "duration": 2,
    "start_time": "2023-02-24T05:00:52.712Z"
   },
   {
    "duration": 43,
    "start_time": "2023-02-24T05:00:52.715Z"
   },
   {
    "duration": 187,
    "start_time": "2023-02-24T05:00:52.763Z"
   },
   {
    "duration": 106,
    "start_time": "2023-02-24T05:00:52.952Z"
   },
   {
    "duration": 191,
    "start_time": "2023-02-24T05:00:53.061Z"
   },
   {
    "duration": 10,
    "start_time": "2023-02-24T05:00:53.254Z"
   },
   {
    "duration": 9,
    "start_time": "2023-02-24T05:00:53.265Z"
   },
   {
    "duration": 5,
    "start_time": "2023-02-24T05:00:53.276Z"
   },
   {
    "duration": 4,
    "start_time": "2023-02-24T05:00:53.285Z"
   },
   {
    "duration": 4,
    "start_time": "2023-02-24T05:00:53.291Z"
   },
   {
    "duration": 15,
    "start_time": "2023-02-24T05:00:53.296Z"
   },
   {
    "duration": 636,
    "start_time": "2023-02-24T05:00:53.313Z"
   },
   {
    "duration": 713,
    "start_time": "2023-02-24T05:01:51.701Z"
   },
   {
    "duration": 600,
    "start_time": "2023-02-24T05:02:32.791Z"
   },
   {
    "duration": 616,
    "start_time": "2023-02-24T05:03:34.142Z"
   },
   {
    "duration": 4,
    "start_time": "2023-02-24T05:15:01.074Z"
   },
   {
    "duration": 4,
    "start_time": "2023-02-24T05:15:25.707Z"
   },
   {
    "duration": 10,
    "start_time": "2023-02-24T05:17:40.658Z"
   },
   {
    "duration": 6,
    "start_time": "2023-02-24T05:18:09.674Z"
   },
   {
    "duration": 5,
    "start_time": "2023-02-24T05:18:57.129Z"
   },
   {
    "duration": 5,
    "start_time": "2023-02-24T05:19:17.754Z"
   },
   {
    "duration": 6,
    "start_time": "2023-02-24T05:19:27.449Z"
   },
   {
    "duration": 6,
    "start_time": "2023-02-24T05:19:56.954Z"
   },
   {
    "duration": 5,
    "start_time": "2023-02-24T05:20:41.585Z"
   },
   {
    "duration": 5,
    "start_time": "2023-02-24T05:20:45.921Z"
   },
   {
    "duration": 4,
    "start_time": "2023-02-24T05:23:24.528Z"
   },
   {
    "duration": 5,
    "start_time": "2023-02-24T05:23:27.696Z"
   },
   {
    "duration": 6,
    "start_time": "2023-02-24T05:23:30.979Z"
   },
   {
    "duration": 6,
    "start_time": "2023-02-24T05:23:35.423Z"
   },
   {
    "duration": 5,
    "start_time": "2023-02-24T05:24:33.354Z"
   },
   {
    "duration": 6,
    "start_time": "2023-02-24T05:24:51.584Z"
   },
   {
    "duration": 5,
    "start_time": "2023-02-24T05:24:59.400Z"
   },
   {
    "duration": 5,
    "start_time": "2023-02-24T05:25:07.488Z"
   },
   {
    "duration": 6,
    "start_time": "2023-02-24T05:25:34.903Z"
   },
   {
    "duration": 6,
    "start_time": "2023-02-24T05:28:31.287Z"
   },
   {
    "duration": 6,
    "start_time": "2023-02-24T05:28:35.303Z"
   },
   {
    "duration": 5,
    "start_time": "2023-02-24T05:28:39.703Z"
   },
   {
    "duration": 5,
    "start_time": "2023-02-24T05:34:27.062Z"
   },
   {
    "duration": 5,
    "start_time": "2023-02-24T05:34:36.582Z"
   },
   {
    "duration": 5,
    "start_time": "2023-02-24T05:34:46.134Z"
   },
   {
    "duration": 5,
    "start_time": "2023-02-24T05:35:01.598Z"
   },
   {
    "duration": 1027,
    "start_time": "2023-02-24T05:35:32.395Z"
   },
   {
    "duration": 152,
    "start_time": "2023-02-24T05:35:33.425Z"
   },
   {
    "duration": 15,
    "start_time": "2023-02-24T05:35:33.579Z"
   },
   {
    "duration": 33,
    "start_time": "2023-02-24T05:35:33.595Z"
   },
   {
    "duration": 31,
    "start_time": "2023-02-24T05:35:33.649Z"
   },
   {
    "duration": 131,
    "start_time": "2023-02-24T05:35:33.682Z"
   },
   {
    "duration": 9,
    "start_time": "2023-02-24T05:35:33.814Z"
   },
   {
    "duration": 43,
    "start_time": "2023-02-24T05:35:33.825Z"
   },
   {
    "duration": 23,
    "start_time": "2023-02-24T05:35:33.870Z"
   },
   {
    "duration": 127,
    "start_time": "2023-02-24T05:35:33.895Z"
   },
   {
    "duration": 9,
    "start_time": "2023-02-24T05:35:34.024Z"
   },
   {
    "duration": 41,
    "start_time": "2023-02-24T05:35:34.034Z"
   },
   {
    "duration": 27,
    "start_time": "2023-02-24T05:35:34.076Z"
   },
   {
    "duration": 10,
    "start_time": "2023-02-24T05:35:34.106Z"
   },
   {
    "duration": 56,
    "start_time": "2023-02-24T05:35:34.118Z"
   },
   {
    "duration": 3,
    "start_time": "2023-02-24T05:35:34.175Z"
   },
   {
    "duration": 26,
    "start_time": "2023-02-24T05:35:34.180Z"
   },
   {
    "duration": 14,
    "start_time": "2023-02-24T05:35:34.208Z"
   },
   {
    "duration": 27,
    "start_time": "2023-02-24T05:35:34.223Z"
   },
   {
    "duration": 2,
    "start_time": "2023-02-24T05:35:34.252Z"
   },
   {
    "duration": 95,
    "start_time": "2023-02-24T05:35:34.256Z"
   },
   {
    "duration": 111,
    "start_time": "2023-02-24T05:35:34.353Z"
   },
   {
    "duration": 97,
    "start_time": "2023-02-24T05:35:34.465Z"
   },
   {
    "duration": 98,
    "start_time": "2023-02-24T05:35:34.650Z"
   },
   {
    "duration": 6,
    "start_time": "2023-02-24T05:35:34.750Z"
   },
   {
    "duration": 5,
    "start_time": "2023-02-24T05:35:34.757Z"
   },
   {
    "duration": 4,
    "start_time": "2023-02-24T05:35:34.764Z"
   },
   {
    "duration": 5,
    "start_time": "2023-02-24T05:35:34.769Z"
   },
   {
    "duration": 4,
    "start_time": "2023-02-24T05:35:34.775Z"
   },
   {
    "duration": 16,
    "start_time": "2023-02-24T05:35:34.780Z"
   },
   {
    "duration": 4,
    "start_time": "2023-02-24T05:35:34.798Z"
   },
   {
    "duration": 9,
    "start_time": "2023-02-24T05:35:34.804Z"
   },
   {
    "duration": 6,
    "start_time": "2023-02-24T05:35:34.848Z"
   },
   {
    "duration": 7,
    "start_time": "2023-02-24T05:35:34.856Z"
   },
   {
    "duration": 4,
    "start_time": "2023-02-24T05:39:44.108Z"
   },
   {
    "duration": 17,
    "start_time": "2023-02-24T05:39:48.148Z"
   },
   {
    "duration": 4,
    "start_time": "2023-02-24T05:39:53.020Z"
   },
   {
    "duration": 7,
    "start_time": "2023-02-24T05:39:57.893Z"
   },
   {
    "duration": 6,
    "start_time": "2023-02-24T05:40:00.804Z"
   },
   {
    "duration": 6,
    "start_time": "2023-02-24T05:40:03.507Z"
   },
   {
    "duration": 3,
    "start_time": "2023-02-24T05:40:21.564Z"
   },
   {
    "duration": 4,
    "start_time": "2023-02-24T05:40:25.932Z"
   },
   {
    "duration": 4,
    "start_time": "2023-02-24T05:40:30.564Z"
   },
   {
    "duration": 4,
    "start_time": "2023-02-24T05:46:57.042Z"
   },
   {
    "duration": 1380,
    "start_time": "2023-02-24T05:47:00.283Z"
   },
   {
    "duration": 1380,
    "start_time": "2023-02-24T05:47:04.626Z"
   },
   {
    "duration": 1290,
    "start_time": "2023-02-24T05:47:08.851Z"
   },
   {
    "duration": 14,
    "start_time": "2023-02-24T05:48:17.322Z"
   },
   {
    "duration": 78,
    "start_time": "2023-02-24T06:00:09.799Z"
   },
   {
    "duration": 1256,
    "start_time": "2023-02-24T06:00:27.495Z"
   },
   {
    "duration": 1347,
    "start_time": "2023-02-24T07:00:24.314Z"
   },
   {
    "duration": 1370,
    "start_time": "2023-02-24T07:04:23.576Z"
   },
   {
    "duration": 1391,
    "start_time": "2023-02-24T07:05:51.176Z"
   },
   {
    "duration": 1168,
    "start_time": "2023-02-24T07:35:39.489Z"
   },
   {
    "duration": 1228,
    "start_time": "2023-02-24T07:39:03.570Z"
   },
   {
    "duration": 1542,
    "start_time": "2023-02-24T08:01:54.829Z"
   },
   {
    "duration": 1290,
    "start_time": "2023-02-24T08:02:28.909Z"
   },
   {
    "duration": 1413,
    "start_time": "2023-02-24T08:02:52.365Z"
   },
   {
    "duration": 1357,
    "start_time": "2023-02-24T08:06:51.398Z"
   },
   {
    "duration": 1330,
    "start_time": "2023-02-24T08:07:19.292Z"
   },
   {
    "duration": 1347,
    "start_time": "2023-02-24T08:08:46.972Z"
   },
   {
    "duration": 104,
    "start_time": "2023-02-24T08:10:21.483Z"
   },
   {
    "duration": 1290,
    "start_time": "2023-02-24T08:10:30.339Z"
   },
   {
    "duration": 1304,
    "start_time": "2023-02-24T08:11:20.012Z"
   },
   {
    "duration": 79,
    "start_time": "2023-02-24T08:12:05.387Z"
   },
   {
    "duration": 1360,
    "start_time": "2023-02-24T08:12:35.923Z"
   },
   {
    "duration": 1314,
    "start_time": "2023-02-24T08:15:29.923Z"
   },
   {
    "duration": 1470,
    "start_time": "2023-02-24T08:16:44.915Z"
   },
   {
    "duration": 1495,
    "start_time": "2023-02-24T08:17:48.802Z"
   },
   {
    "duration": 1278,
    "start_time": "2023-02-24T08:18:56.482Z"
   },
   {
    "duration": 1306,
    "start_time": "2023-02-24T08:19:08.642Z"
   },
   {
    "duration": 1354,
    "start_time": "2023-02-24T08:19:43.659Z"
   },
   {
    "duration": 1204,
    "start_time": "2023-02-24T08:20:12.735Z"
   },
   {
    "duration": 154,
    "start_time": "2023-02-24T08:20:13.941Z"
   },
   {
    "duration": 17,
    "start_time": "2023-02-24T08:20:14.097Z"
   },
   {
    "duration": 49,
    "start_time": "2023-02-24T08:20:14.117Z"
   },
   {
    "duration": 34,
    "start_time": "2023-02-24T08:20:14.168Z"
   },
   {
    "duration": 145,
    "start_time": "2023-02-24T08:20:14.203Z"
   },
   {
    "duration": 10,
    "start_time": "2023-02-24T08:20:14.350Z"
   },
   {
    "duration": 34,
    "start_time": "2023-02-24T08:20:14.362Z"
   },
   {
    "duration": 50,
    "start_time": "2023-02-24T08:20:14.398Z"
   },
   {
    "duration": 141,
    "start_time": "2023-02-24T08:20:14.452Z"
   },
   {
    "duration": 9,
    "start_time": "2023-02-24T08:20:14.595Z"
   },
   {
    "duration": 45,
    "start_time": "2023-02-24T08:20:14.606Z"
   },
   {
    "duration": 31,
    "start_time": "2023-02-24T08:20:14.653Z"
   },
   {
    "duration": 9,
    "start_time": "2023-02-24T08:20:14.686Z"
   },
   {
    "duration": 41,
    "start_time": "2023-02-24T08:20:14.697Z"
   },
   {
    "duration": 9,
    "start_time": "2023-02-24T08:20:14.740Z"
   },
   {
    "duration": 25,
    "start_time": "2023-02-24T08:20:14.750Z"
   },
   {
    "duration": 15,
    "start_time": "2023-02-24T08:20:14.776Z"
   },
   {
    "duration": 15,
    "start_time": "2023-02-24T08:20:14.792Z"
   },
   {
    "duration": 3,
    "start_time": "2023-02-24T08:20:14.808Z"
   },
   {
    "duration": 45,
    "start_time": "2023-02-24T08:20:14.812Z"
   },
   {
    "duration": 200,
    "start_time": "2023-02-24T08:20:14.859Z"
   },
   {
    "duration": 196,
    "start_time": "2023-02-24T08:20:15.061Z"
   },
   {
    "duration": 191,
    "start_time": "2023-02-24T08:20:15.259Z"
   },
   {
    "duration": 11,
    "start_time": "2023-02-24T08:20:15.452Z"
   },
   {
    "duration": 11,
    "start_time": "2023-02-24T08:20:15.465Z"
   },
   {
    "duration": 9,
    "start_time": "2023-02-24T08:20:15.478Z"
   },
   {
    "duration": 8,
    "start_time": "2023-02-24T08:20:15.490Z"
   },
   {
    "duration": 7,
    "start_time": "2023-02-24T08:20:15.500Z"
   },
   {
    "duration": 44,
    "start_time": "2023-02-24T08:20:15.509Z"
   },
   {
    "duration": 4,
    "start_time": "2023-02-24T08:20:15.555Z"
   },
   {
    "duration": 1372,
    "start_time": "2023-02-24T08:20:15.561Z"
   },
   {
    "duration": 1316,
    "start_time": "2023-02-24T08:20:16.934Z"
   },
   {
    "duration": 1362,
    "start_time": "2023-02-24T08:20:18.252Z"
   },
   {
    "duration": 1002,
    "start_time": "2023-02-24T09:05:52.007Z"
   },
   {
    "duration": 146,
    "start_time": "2023-02-24T09:05:53.011Z"
   },
   {
    "duration": 15,
    "start_time": "2023-02-24T09:05:53.159Z"
   },
   {
    "duration": 30,
    "start_time": "2023-02-24T09:05:53.175Z"
   },
   {
    "duration": 41,
    "start_time": "2023-02-24T09:05:53.207Z"
   },
   {
    "duration": 122,
    "start_time": "2023-02-24T09:05:53.250Z"
   },
   {
    "duration": 8,
    "start_time": "2023-02-24T09:05:53.374Z"
   },
   {
    "duration": 30,
    "start_time": "2023-02-24T09:05:53.383Z"
   },
   {
    "duration": 34,
    "start_time": "2023-02-24T09:05:53.415Z"
   },
   {
    "duration": 123,
    "start_time": "2023-02-24T09:05:53.450Z"
   },
   {
    "duration": 8,
    "start_time": "2023-02-24T09:05:53.575Z"
   },
   {
    "duration": 29,
    "start_time": "2023-02-24T09:05:53.585Z"
   },
   {
    "duration": 37,
    "start_time": "2023-02-24T09:05:53.615Z"
   },
   {
    "duration": 8,
    "start_time": "2023-02-24T09:05:53.654Z"
   },
   {
    "duration": 33,
    "start_time": "2023-02-24T09:05:53.664Z"
   },
   {
    "duration": 2,
    "start_time": "2023-02-24T09:05:53.699Z"
   },
   {
    "duration": 19,
    "start_time": "2023-02-24T09:05:53.703Z"
   },
   {
    "duration": 37,
    "start_time": "2023-02-24T09:05:53.724Z"
   },
   {
    "duration": 14,
    "start_time": "2023-02-24T09:05:53.762Z"
   },
   {
    "duration": 3,
    "start_time": "2023-02-24T09:05:53.778Z"
   },
   {
    "duration": 69,
    "start_time": "2023-02-24T09:05:53.782Z"
   },
   {
    "duration": 108,
    "start_time": "2023-02-24T09:05:53.854Z"
   },
   {
    "duration": 187,
    "start_time": "2023-02-24T09:05:53.963Z"
   },
   {
    "duration": 99,
    "start_time": "2023-02-24T09:05:54.154Z"
   },
   {
    "duration": 7,
    "start_time": "2023-02-24T09:05:54.255Z"
   },
   {
    "duration": 5,
    "start_time": "2023-02-24T09:05:54.263Z"
   },
   {
    "duration": 6,
    "start_time": "2023-02-24T09:05:54.271Z"
   },
   {
    "duration": 5,
    "start_time": "2023-02-24T09:05:54.278Z"
   },
   {
    "duration": 4,
    "start_time": "2023-02-24T09:05:54.284Z"
   },
   {
    "duration": 21,
    "start_time": "2023-02-24T09:05:54.289Z"
   },
   {
    "duration": 4,
    "start_time": "2023-02-24T09:05:54.311Z"
   },
   {
    "duration": 1317,
    "start_time": "2023-02-24T09:05:54.316Z"
   },
   {
    "duration": 1215,
    "start_time": "2023-02-24T09:05:55.634Z"
   },
   {
    "duration": 1207,
    "start_time": "2023-02-24T09:05:56.850Z"
   },
   {
    "duration": 1610,
    "start_time": "2023-02-24T20:30:04.339Z"
   },
   {
    "duration": 171,
    "start_time": "2023-02-24T20:30:05.951Z"
   },
   {
    "duration": 33,
    "start_time": "2023-02-24T20:30:06.124Z"
   },
   {
    "duration": 39,
    "start_time": "2023-02-24T20:30:06.159Z"
   },
   {
    "duration": 53,
    "start_time": "2023-02-24T20:30:06.200Z"
   },
   {
    "duration": 143,
    "start_time": "2023-02-24T20:30:06.255Z"
   },
   {
    "duration": 10,
    "start_time": "2023-02-24T20:30:06.400Z"
   },
   {
    "duration": 48,
    "start_time": "2023-02-24T20:30:06.411Z"
   },
   {
    "duration": 31,
    "start_time": "2023-02-24T20:30:06.460Z"
   },
   {
    "duration": 165,
    "start_time": "2023-02-24T20:30:06.494Z"
   },
   {
    "duration": 9,
    "start_time": "2023-02-24T20:30:06.661Z"
   },
   {
    "duration": 38,
    "start_time": "2023-02-24T20:30:06.671Z"
   },
   {
    "duration": 53,
    "start_time": "2023-02-24T20:30:06.710Z"
   },
   {
    "duration": 10,
    "start_time": "2023-02-24T20:30:06.764Z"
   },
   {
    "duration": 34,
    "start_time": "2023-02-24T20:30:06.777Z"
   },
   {
    "duration": 3,
    "start_time": "2023-02-24T20:30:06.813Z"
   },
   {
    "duration": 47,
    "start_time": "2023-02-24T20:30:06.817Z"
   },
   {
    "duration": 16,
    "start_time": "2023-02-24T20:30:06.866Z"
   },
   {
    "duration": 25,
    "start_time": "2023-02-24T20:30:06.884Z"
   },
   {
    "duration": 9,
    "start_time": "2023-02-24T20:30:06.911Z"
   },
   {
    "duration": 36,
    "start_time": "2023-02-24T20:30:06.922Z"
   },
   {
    "duration": 183,
    "start_time": "2023-02-24T20:30:06.961Z"
   },
   {
    "duration": 118,
    "start_time": "2023-02-24T20:30:07.146Z"
   },
   {
    "duration": 118,
    "start_time": "2023-02-24T20:30:07.341Z"
   },
   {
    "duration": 13,
    "start_time": "2023-02-24T20:30:07.461Z"
   },
   {
    "duration": 8,
    "start_time": "2023-02-24T20:30:07.476Z"
   },
   {
    "duration": 7,
    "start_time": "2023-02-24T20:30:07.486Z"
   },
   {
    "duration": 6,
    "start_time": "2023-02-24T20:30:07.497Z"
   },
   {
    "duration": 7,
    "start_time": "2023-02-24T20:30:07.505Z"
   },
   {
    "duration": 36,
    "start_time": "2023-02-24T20:30:07.514Z"
   },
   {
    "duration": 7,
    "start_time": "2023-02-24T20:30:07.552Z"
   },
   {
    "duration": 1520,
    "start_time": "2023-02-24T20:30:07.561Z"
   },
   {
    "duration": 1443,
    "start_time": "2023-02-24T20:30:09.083Z"
   },
   {
    "duration": 1427,
    "start_time": "2023-02-24T20:30:10.527Z"
   },
   {
    "duration": 9,
    "start_time": "2023-02-24T20:36:37.018Z"
   },
   {
    "duration": 1573,
    "start_time": "2023-02-25T14:59:04.439Z"
   },
   {
    "duration": 548,
    "start_time": "2023-02-25T14:59:06.015Z"
   },
   {
    "duration": 12,
    "start_time": "2023-02-25T14:59:06.565Z"
   },
   {
    "duration": 45,
    "start_time": "2023-02-25T14:59:06.579Z"
   },
   {
    "duration": 37,
    "start_time": "2023-02-25T14:59:06.626Z"
   },
   {
    "duration": 215,
    "start_time": "2023-02-25T14:59:06.664Z"
   },
   {
    "duration": 8,
    "start_time": "2023-02-25T14:59:06.881Z"
   },
   {
    "duration": 35,
    "start_time": "2023-02-25T14:59:06.890Z"
   },
   {
    "duration": 23,
    "start_time": "2023-02-25T14:59:06.926Z"
   },
   {
    "duration": 216,
    "start_time": "2023-02-25T14:59:06.951Z"
   },
   {
    "duration": 9,
    "start_time": "2023-02-25T14:59:07.168Z"
   },
   {
    "duration": 36,
    "start_time": "2023-02-25T14:59:07.178Z"
   },
   {
    "duration": 42,
    "start_time": "2023-02-25T14:59:07.216Z"
   },
   {
    "duration": 353,
    "start_time": "2023-02-25T14:59:23.589Z"
   },
   {
    "duration": 373,
    "start_time": "2023-02-25T15:00:23.403Z"
   },
   {
    "duration": 4,
    "start_time": "2023-02-25T15:00:53.917Z"
   },
   {
    "duration": 279,
    "start_time": "2023-02-25T15:01:02.074Z"
   },
   {
    "duration": 280,
    "start_time": "2023-02-25T15:01:52.823Z"
   },
   {
    "duration": 270,
    "start_time": "2023-02-25T15:02:31.908Z"
   },
   {
    "duration": 343,
    "start_time": "2023-02-25T15:03:22.019Z"
   },
   {
    "duration": 216,
    "start_time": "2023-02-25T15:03:34.096Z"
   },
   {
    "duration": 261,
    "start_time": "2023-02-25T15:03:41.348Z"
   },
   {
    "duration": 316,
    "start_time": "2023-02-25T15:23:36.400Z"
   },
   {
    "duration": 297,
    "start_time": "2023-02-25T15:23:50.343Z"
   },
   {
    "duration": 269,
    "start_time": "2023-02-25T15:24:02.285Z"
   },
   {
    "duration": 1626,
    "start_time": "2023-02-26T15:03:14.362Z"
   },
   {
    "duration": 416,
    "start_time": "2023-02-26T15:03:15.990Z"
   },
   {
    "duration": 13,
    "start_time": "2023-02-26T15:03:16.408Z"
   },
   {
    "duration": 34,
    "start_time": "2023-02-26T15:03:16.422Z"
   },
   {
    "duration": 32,
    "start_time": "2023-02-26T15:03:16.458Z"
   },
   {
    "duration": 615,
    "start_time": "2023-02-26T15:03:16.492Z"
   },
   {
    "duration": 9,
    "start_time": "2023-02-26T15:03:17.109Z"
   },
   {
    "duration": 36,
    "start_time": "2023-02-26T15:03:17.120Z"
   },
   {
    "duration": 26,
    "start_time": "2023-02-26T15:03:17.158Z"
   },
   {
    "duration": 554,
    "start_time": "2023-02-26T15:03:17.186Z"
   },
   {
    "duration": 9,
    "start_time": "2023-02-26T15:03:17.742Z"
   },
   {
    "duration": 48,
    "start_time": "2023-02-26T15:03:17.752Z"
   },
   {
    "duration": 30,
    "start_time": "2023-02-26T15:03:17.802Z"
   },
   {
    "duration": 378,
    "start_time": "2023-02-26T15:03:17.836Z"
   },
   {
    "duration": 316,
    "start_time": "2023-02-26T15:03:18.215Z"
   },
   {
    "duration": 314,
    "start_time": "2023-02-26T15:03:18.533Z"
   },
   {
    "duration": 9,
    "start_time": "2023-02-26T15:03:18.849Z"
   },
   {
    "duration": 38,
    "start_time": "2023-02-26T15:03:18.860Z"
   },
   {
    "duration": 3,
    "start_time": "2023-02-26T15:03:18.900Z"
   },
   {
    "duration": 42,
    "start_time": "2023-02-26T15:03:18.904Z"
   },
   {
    "duration": 16,
    "start_time": "2023-02-26T15:03:18.948Z"
   },
   {
    "duration": 15,
    "start_time": "2023-02-26T15:03:18.965Z"
   },
   {
    "duration": 3,
    "start_time": "2023-02-26T15:03:18.981Z"
   },
   {
    "duration": 165,
    "start_time": "2023-02-26T15:03:18.986Z"
   },
   {
    "duration": 101,
    "start_time": "2023-02-26T15:03:19.154Z"
   },
   {
    "duration": 194,
    "start_time": "2023-02-26T15:03:19.258Z"
   },
   {
    "duration": 100,
    "start_time": "2023-02-26T15:03:19.454Z"
   },
   {
    "duration": 21,
    "start_time": "2023-02-26T15:03:19.557Z"
   },
   {
    "duration": 23,
    "start_time": "2023-02-26T15:03:19.580Z"
   },
   {
    "duration": 5,
    "start_time": "2023-02-26T15:03:19.605Z"
   },
   {
    "duration": 5,
    "start_time": "2023-02-26T15:03:19.612Z"
   },
   {
    "duration": 7,
    "start_time": "2023-02-26T15:03:19.619Z"
   },
   {
    "duration": 23,
    "start_time": "2023-02-26T15:03:19.627Z"
   },
   {
    "duration": 3,
    "start_time": "2023-02-26T15:03:19.652Z"
   },
   {
    "duration": 1460,
    "start_time": "2023-02-26T15:03:19.657Z"
   },
   {
    "duration": 1350,
    "start_time": "2023-02-26T15:03:21.118Z"
   },
   {
    "duration": 1349,
    "start_time": "2023-02-26T15:03:22.470Z"
   },
   {
    "duration": 105,
    "start_time": "2023-02-26T15:10:11.717Z"
   },
   {
    "duration": 177,
    "start_time": "2023-02-26T15:10:28.165Z"
   },
   {
    "duration": 108,
    "start_time": "2023-02-26T15:10:35.853Z"
   },
   {
    "duration": 367,
    "start_time": "2023-02-26T15:13:45.868Z"
   },
   {
    "duration": 324,
    "start_time": "2023-02-26T15:14:36.605Z"
   },
   {
    "duration": 271,
    "start_time": "2023-02-26T15:15:00.604Z"
   },
   {
    "duration": 108,
    "start_time": "2023-02-26T15:15:58.780Z"
   },
   {
    "duration": 101,
    "start_time": "2023-02-26T15:17:13.805Z"
   },
   {
    "duration": 127,
    "start_time": "2023-02-26T15:17:37.900Z"
   },
   {
    "duration": 341,
    "start_time": "2023-02-26T15:17:47.716Z"
   },
   {
    "duration": 404,
    "start_time": "2023-02-26T15:17:54.908Z"
   },
   {
    "duration": 279,
    "start_time": "2023-02-26T15:18:08.460Z"
   },
   {
    "duration": 133,
    "start_time": "2023-02-26T15:18:30.357Z"
   },
   {
    "duration": 136,
    "start_time": "2023-02-26T15:18:55.356Z"
   },
   {
    "duration": 39,
    "start_time": "2023-03-03T16:12:10.683Z"
   },
   {
    "duration": 29,
    "start_time": "2023-03-03T16:12:17.900Z"
   }
  ],
  "kernelspec": {
   "display_name": "Python 3 (ipykernel)",
   "language": "python",
   "name": "python3"
  },
  "language_info": {
   "codemirror_mode": {
    "name": "ipython",
    "version": 3
   },
   "file_extension": ".py",
   "mimetype": "text/x-python",
   "name": "python",
   "nbconvert_exporter": "python",
   "pygments_lexer": "ipython3",
   "version": "3.9.13"
  },
  "toc": {
   "base_numbering": 1,
   "nav_menu": {},
   "number_sections": true,
   "sideBar": true,
   "skip_h1_title": true,
   "title_cell": "Table of Contents",
   "title_sidebar": "Contents",
   "toc_cell": false,
   "toc_position": {},
   "toc_section_display": true,
   "toc_window_display": false
  }
 },
 "nbformat": 4,
 "nbformat_minor": 2
}
